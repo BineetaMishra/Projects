{
 "cells": [
  {
   "cell_type": "markdown",
   "metadata": {},
   "source": [
    "# Business Problem: Predict product failure for a transmission device based harware company."
   ]
  },
  {
   "cell_type": "code",
   "execution_count": 1,
   "metadata": {},
   "outputs": [],
   "source": [
    "#Importing the libraries\n",
    "\n",
    "import pandas as pd\n",
    "import numpy as np\n",
    "import matplotlib.pyplot as plt\n",
    "import seaborn as sns "
   ]
  },
  {
   "cell_type": "code",
   "execution_count": 2,
   "metadata": {},
   "outputs": [],
   "source": [
    "# Importing the dataset\n",
    "df=pd.read_csv('DeviceFailure.csv')"
   ]
  },
  {
   "cell_type": "code",
   "execution_count": 3,
   "metadata": {},
   "outputs": [
    {
     "data": {
      "text/html": [
       "<div>\n",
       "<style scoped>\n",
       "    .dataframe tbody tr th:only-of-type {\n",
       "        vertical-align: middle;\n",
       "    }\n",
       "\n",
       "    .dataframe tbody tr th {\n",
       "        vertical-align: top;\n",
       "    }\n",
       "\n",
       "    .dataframe thead th {\n",
       "        text-align: right;\n",
       "    }\n",
       "</style>\n",
       "<table border=\"1\" class=\"dataframe\">\n",
       "  <thead>\n",
       "    <tr style=\"text-align: right;\">\n",
       "      <th></th>\n",
       "      <th>device</th>\n",
       "      <th>failure</th>\n",
       "      <th>attribute1</th>\n",
       "      <th>attribute2</th>\n",
       "      <th>attribute4</th>\n",
       "      <th>attribute5</th>\n",
       "      <th>attribute7</th>\n",
       "      <th>attribute9</th>\n",
       "    </tr>\n",
       "  </thead>\n",
       "  <tbody>\n",
       "    <tr>\n",
       "      <th>0</th>\n",
       "      <td>S1F01085</td>\n",
       "      <td>0</td>\n",
       "      <td>215630672</td>\n",
       "      <td>56</td>\n",
       "      <td>52</td>\n",
       "      <td>6</td>\n",
       "      <td>0</td>\n",
       "      <td>7</td>\n",
       "    </tr>\n",
       "    <tr>\n",
       "      <th>1</th>\n",
       "      <td>S1F01085</td>\n",
       "      <td>0</td>\n",
       "      <td>1650864</td>\n",
       "      <td>56</td>\n",
       "      <td>52</td>\n",
       "      <td>6</td>\n",
       "      <td>0</td>\n",
       "      <td>7</td>\n",
       "    </tr>\n",
       "    <tr>\n",
       "      <th>2</th>\n",
       "      <td>S1F01085</td>\n",
       "      <td>0</td>\n",
       "      <td>124017368</td>\n",
       "      <td>56</td>\n",
       "      <td>52</td>\n",
       "      <td>6</td>\n",
       "      <td>0</td>\n",
       "      <td>7</td>\n",
       "    </tr>\n",
       "    <tr>\n",
       "      <th>3</th>\n",
       "      <td>S1F01085</td>\n",
       "      <td>0</td>\n",
       "      <td>128073224</td>\n",
       "      <td>56</td>\n",
       "      <td>52</td>\n",
       "      <td>6</td>\n",
       "      <td>0</td>\n",
       "      <td>7</td>\n",
       "    </tr>\n",
       "    <tr>\n",
       "      <th>4</th>\n",
       "      <td>S1F01085</td>\n",
       "      <td>0</td>\n",
       "      <td>97393448</td>\n",
       "      <td>56</td>\n",
       "      <td>52</td>\n",
       "      <td>6</td>\n",
       "      <td>0</td>\n",
       "      <td>7</td>\n",
       "    </tr>\n",
       "  </tbody>\n",
       "</table>\n",
       "</div>"
      ],
      "text/plain": [
       "     device  failure  attribute1  attribute2  attribute4  attribute5  \\\n",
       "0  S1F01085        0   215630672          56          52           6   \n",
       "1  S1F01085        0     1650864          56          52           6   \n",
       "2  S1F01085        0   124017368          56          52           6   \n",
       "3  S1F01085        0   128073224          56          52           6   \n",
       "4  S1F01085        0    97393448          56          52           6   \n",
       "\n",
       "   attribute7  attribute9  \n",
       "0           0           7  \n",
       "1           0           7  \n",
       "2           0           7  \n",
       "3           0           7  \n",
       "4           0           7  "
      ]
     },
     "execution_count": 3,
     "metadata": {},
     "output_type": "execute_result"
    }
   ],
   "source": [
    "# Checking the dataset loaded correctly\n",
    "df.head()"
   ]
  },
  {
   "cell_type": "code",
   "execution_count": 4,
   "metadata": {},
   "outputs": [
    {
     "data": {
      "text/html": [
       "<div>\n",
       "<style scoped>\n",
       "    .dataframe tbody tr th:only-of-type {\n",
       "        vertical-align: middle;\n",
       "    }\n",
       "\n",
       "    .dataframe tbody tr th {\n",
       "        vertical-align: top;\n",
       "    }\n",
       "\n",
       "    .dataframe thead th {\n",
       "        text-align: right;\n",
       "    }\n",
       "</style>\n",
       "<table border=\"1\" class=\"dataframe\">\n",
       "  <thead>\n",
       "    <tr style=\"text-align: right;\">\n",
       "      <th></th>\n",
       "      <th>device</th>\n",
       "      <th>failure</th>\n",
       "      <th>attribute1</th>\n",
       "      <th>attribute2</th>\n",
       "      <th>attribute4</th>\n",
       "      <th>attribute5</th>\n",
       "      <th>attribute7</th>\n",
       "      <th>attribute9</th>\n",
       "    </tr>\n",
       "  </thead>\n",
       "  <tbody>\n",
       "    <tr>\n",
       "      <th>124489</th>\n",
       "      <td>Z1F2PBHX</td>\n",
       "      <td>0</td>\n",
       "      <td>180917784</td>\n",
       "      <td>0</td>\n",
       "      <td>0</td>\n",
       "      <td>5</td>\n",
       "      <td>0</td>\n",
       "      <td>0</td>\n",
       "    </tr>\n",
       "    <tr>\n",
       "      <th>124490</th>\n",
       "      <td>Z1F2PBHX</td>\n",
       "      <td>0</td>\n",
       "      <td>33952520</td>\n",
       "      <td>0</td>\n",
       "      <td>0</td>\n",
       "      <td>5</td>\n",
       "      <td>0</td>\n",
       "      <td>0</td>\n",
       "    </tr>\n",
       "    <tr>\n",
       "      <th>124491</th>\n",
       "      <td>Z1F2PBHX</td>\n",
       "      <td>0</td>\n",
       "      <td>59053184</td>\n",
       "      <td>0</td>\n",
       "      <td>0</td>\n",
       "      <td>5</td>\n",
       "      <td>0</td>\n",
       "      <td>0</td>\n",
       "    </tr>\n",
       "    <tr>\n",
       "      <th>124492</th>\n",
       "      <td>Z1F2PBHX</td>\n",
       "      <td>0</td>\n",
       "      <td>110545440</td>\n",
       "      <td>0</td>\n",
       "      <td>0</td>\n",
       "      <td>5</td>\n",
       "      <td>0</td>\n",
       "      <td>0</td>\n",
       "    </tr>\n",
       "    <tr>\n",
       "      <th>124493</th>\n",
       "      <td>Z1F2PBHX</td>\n",
       "      <td>0</td>\n",
       "      <td>130522432</td>\n",
       "      <td>0</td>\n",
       "      <td>0</td>\n",
       "      <td>5</td>\n",
       "      <td>0</td>\n",
       "      <td>0</td>\n",
       "    </tr>\n",
       "  </tbody>\n",
       "</table>\n",
       "</div>"
      ],
      "text/plain": [
       "          device  failure  attribute1  attribute2  attribute4  attribute5  \\\n",
       "124489  Z1F2PBHX        0   180917784           0           0           5   \n",
       "124490  Z1F2PBHX        0    33952520           0           0           5   \n",
       "124491  Z1F2PBHX        0    59053184           0           0           5   \n",
       "124492  Z1F2PBHX        0   110545440           0           0           5   \n",
       "124493  Z1F2PBHX        0   130522432           0           0           5   \n",
       "\n",
       "        attribute7  attribute9  \n",
       "124489           0           0  \n",
       "124490           0           0  \n",
       "124491           0           0  \n",
       "124492           0           0  \n",
       "124493           0           0  "
      ]
     },
     "execution_count": 4,
     "metadata": {},
     "output_type": "execute_result"
    }
   ],
   "source": [
    "df.tail()"
   ]
  },
  {
   "cell_type": "code",
   "execution_count": 5,
   "metadata": {},
   "outputs": [],
   "source": [
    "# Data Pre processing\n",
    "x = df.loc[:, df.columns != \"failure\"]\n",
    "y = df['failure']"
   ]
  },
  {
   "cell_type": "code",
   "execution_count": 6,
   "metadata": {},
   "outputs": [
    {
     "data": {
      "text/html": [
       "<div>\n",
       "<style scoped>\n",
       "    .dataframe tbody tr th:only-of-type {\n",
       "        vertical-align: middle;\n",
       "    }\n",
       "\n",
       "    .dataframe tbody tr th {\n",
       "        vertical-align: top;\n",
       "    }\n",
       "\n",
       "    .dataframe thead th {\n",
       "        text-align: right;\n",
       "    }\n",
       "</style>\n",
       "<table border=\"1\" class=\"dataframe\">\n",
       "  <thead>\n",
       "    <tr style=\"text-align: right;\">\n",
       "      <th></th>\n",
       "      <th>device</th>\n",
       "      <th>attribute1</th>\n",
       "      <th>attribute2</th>\n",
       "      <th>attribute4</th>\n",
       "      <th>attribute5</th>\n",
       "      <th>attribute7</th>\n",
       "      <th>attribute9</th>\n",
       "    </tr>\n",
       "  </thead>\n",
       "  <tbody>\n",
       "    <tr>\n",
       "      <th>0</th>\n",
       "      <td>S1F01085</td>\n",
       "      <td>215630672</td>\n",
       "      <td>56</td>\n",
       "      <td>52</td>\n",
       "      <td>6</td>\n",
       "      <td>0</td>\n",
       "      <td>7</td>\n",
       "    </tr>\n",
       "    <tr>\n",
       "      <th>1</th>\n",
       "      <td>S1F01085</td>\n",
       "      <td>1650864</td>\n",
       "      <td>56</td>\n",
       "      <td>52</td>\n",
       "      <td>6</td>\n",
       "      <td>0</td>\n",
       "      <td>7</td>\n",
       "    </tr>\n",
       "    <tr>\n",
       "      <th>2</th>\n",
       "      <td>S1F01085</td>\n",
       "      <td>124017368</td>\n",
       "      <td>56</td>\n",
       "      <td>52</td>\n",
       "      <td>6</td>\n",
       "      <td>0</td>\n",
       "      <td>7</td>\n",
       "    </tr>\n",
       "    <tr>\n",
       "      <th>3</th>\n",
       "      <td>S1F01085</td>\n",
       "      <td>128073224</td>\n",
       "      <td>56</td>\n",
       "      <td>52</td>\n",
       "      <td>6</td>\n",
       "      <td>0</td>\n",
       "      <td>7</td>\n",
       "    </tr>\n",
       "    <tr>\n",
       "      <th>4</th>\n",
       "      <td>S1F01085</td>\n",
       "      <td>97393448</td>\n",
       "      <td>56</td>\n",
       "      <td>52</td>\n",
       "      <td>6</td>\n",
       "      <td>0</td>\n",
       "      <td>7</td>\n",
       "    </tr>\n",
       "  </tbody>\n",
       "</table>\n",
       "</div>"
      ],
      "text/plain": [
       "     device  attribute1  attribute2  attribute4  attribute5  attribute7  \\\n",
       "0  S1F01085   215630672          56          52           6           0   \n",
       "1  S1F01085     1650864          56          52           6           0   \n",
       "2  S1F01085   124017368          56          52           6           0   \n",
       "3  S1F01085   128073224          56          52           6           0   \n",
       "4  S1F01085    97393448          56          52           6           0   \n",
       "\n",
       "   attribute9  \n",
       "0           7  \n",
       "1           7  \n",
       "2           7  \n",
       "3           7  \n",
       "4           7  "
      ]
     },
     "execution_count": 6,
     "metadata": {},
     "output_type": "execute_result"
    }
   ],
   "source": [
    "x.head()"
   ]
  },
  {
   "cell_type": "code",
   "execution_count": 7,
   "metadata": {},
   "outputs": [
    {
     "data": {
      "text/plain": [
       "0    0\n",
       "1    0\n",
       "2    0\n",
       "3    0\n",
       "4    0\n",
       "Name: failure, dtype: int64"
      ]
     },
     "execution_count": 7,
     "metadata": {},
     "output_type": "execute_result"
    }
   ],
   "source": [
    "y.head()"
   ]
  },
  {
   "cell_type": "code",
   "execution_count": null,
   "metadata": {},
   "outputs": [],
   "source": [
    "y.mean()"
   ]
  },
  {
   "cell_type": "code",
   "execution_count": 8,
   "metadata": {},
   "outputs": [],
   "source": [
    "# Splitting the Data\n",
    "from sklearn.model_selection import train_test_split\n",
    "\n",
    "x_train,x_test,y_train,y_test= train_test_split(x,y,test_size=0.2,random_state=0)"
   ]
  },
  {
   "cell_type": "code",
   "execution_count": 9,
   "metadata": {},
   "outputs": [],
   "source": [
    "# Removing the device column as it is not a real feature.\n",
    "# but at the end we will use this data associating the prediction from user it came from\n",
    "\n",
    "train_identifier = x_train['device']\n",
    "x_train = x_train.drop(columns=['device'])\n",
    "\n",
    "test_identifier = x_test['device']\n",
    "x_test = x_test.drop(columns=['device'])"
   ]
  },
  {
   "cell_type": "code",
   "execution_count": 10,
   "metadata": {},
   "outputs": [],
   "source": [
    "#Feature Scaling\n",
    "from sklearn.preprocessing import StandardScaler\n",
    "sc= StandardScaler()"
   ]
  },
  {
   "cell_type": "code",
   "execution_count": 11,
   "metadata": {},
   "outputs": [],
   "source": [
    "# scale the x_train and create a new variable for scaled x_train\n",
    "#Standard scaler returns a numpy array so we need to convert to DataFrame\n",
    "#In array form 'index' and 'column names' are lost we need it so convert to Df\n",
    "\n",
    "x_train_scaled= pd.DataFrame(sc.fit_transform(x_train))\n",
    "x_test_scaled = pd.DataFrame(sc.transform(x_test))"
   ]
  },
  {
   "cell_type": "code",
   "execution_count": 12,
   "metadata": {},
   "outputs": [],
   "source": [
    "# put x_train_scaled have the columns of original x_train set\n",
    "x_train_scaled.columns = x_train.columns.values\n",
    "\n",
    "# put x_test_scaled have the columns of original x_test set\n",
    "x_test_scaled.columns = x_test.columns.values\n",
    "\n",
    "# take the indexes also\n",
    "x_train_scaled.index = x_train.index.values\n",
    "x_test_scaled.index = x_test.index.values"
   ]
  },
  {
   "cell_type": "code",
   "execution_count": null,
   "metadata": {},
   "outputs": [],
   "source": [
    "# Applying machine learning algorithms\n",
    "# Creating a function that will give the Following output when any model is run"
   ]
  },
  {
   "cell_type": "code",
   "execution_count": 13,
   "metadata": {},
   "outputs": [],
   "source": [
    "from sklearn.metrics import accuracy_score, confusion_matrix, classification_report\n",
    "\n",
    "def print_score(clf, x_train, y_train, x_test, y_test, train=True):\n",
    "    if train:\n",
    "        pred = clf.predict(x_train)\n",
    "        clf_report = pd.DataFrame(classification_report(y_train, pred, output_dict=True))\n",
    "        print(\"Train Result:\\n================================================\")\n",
    "        print(f\"Accuracy Score: {accuracy_score(y_train, pred) * 100:.2f}%\")\n",
    "        print(\"_______________________________________________\")\n",
    "        print(f\"CLASSIFICATION REPORT:\\n{clf_report}\")\n",
    "        print(\"_______________________________________________\")\n",
    "        print(f\"Confusion Matrix: \\n {confusion_matrix(y_train, pred)}\\n\")\n",
    "        \n",
    "    elif train==False:\n",
    "        pred = clf.predict(x_test)\n",
    "        clf_report = pd.DataFrame(classification_report(y_test, pred, output_dict=True))\n",
    "        print(\"Test Result:\\n================================================\")        \n",
    "        print(f\"Accuracy Score: {accuracy_score(y_test, pred) * 100:.2f}%\")\n",
    "        print(\"_______________________________________________\")\n",
    "        print(f\"CLASSIFICATION REPORT:\\n{clf_report}\")\n",
    "        print(\"_______________________________________________\")\n",
    "        print(f\"Confusion Matrix: \\n {confusion_matrix(y_test, pred)}\\n\")"
   ]
  },
  {
   "cell_type": "code",
   "execution_count": 14,
   "metadata": {},
   "outputs": [
    {
     "name": "stdout",
     "output_type": "stream",
     "text": [
      "Train Result:\n",
      "================================================\n",
      "Accuracy Score: 99.92%\n",
      "_______________________________________________\n",
      "CLASSIFICATION REPORT:\n",
      "                      0          1  accuracy     macro avg  weighted avg\n",
      "precision      0.999187   0.500000  0.999167      0.749593      0.998771\n",
      "recall         0.999980   0.024096  0.999167      0.512038      0.999167\n",
      "f1-score       0.999583   0.045977  0.999167      0.522780      0.998788\n",
      "support    99512.000000  83.000000  0.999167  99595.000000  99595.000000\n",
      "_______________________________________________\n",
      "Confusion Matrix: \n",
      " [[99510     2]\n",
      " [   81     2]]\n",
      "\n",
      "Test Result:\n",
      "================================================\n",
      "Accuracy Score: 99.90%\n",
      "_______________________________________________\n",
      "CLASSIFICATION REPORT:\n",
      "                      0     1  accuracy     macro avg  weighted avg\n",
      "precision      0.999076   0.0  0.998956      0.499538      0.998153\n",
      "recall         0.999879   0.0  0.998956      0.499940      0.998956\n",
      "f1-score       0.999478   0.0  0.998956      0.499739      0.998554\n",
      "support    24876.000000  23.0  0.998956  24899.000000  24899.000000\n",
      "_______________________________________________\n",
      "Confusion Matrix: \n",
      " [[24873     3]\n",
      " [   23     0]]\n",
      "\n"
     ]
    }
   ],
   "source": [
    "# LOGISTIC REGRESSION\n",
    "\n",
    "from sklearn.linear_model import LogisticRegression\n",
    "clf_lr = LogisticRegression(random_state=0)\n",
    "\n",
    "clf_lr.fit(x_train_scaled,y_train)\n",
    "print_score(clf_lr, x_train_scaled, y_train, x_test_scaled, y_test, train=True)\n",
    "print_score(clf_lr, x_train_scaled, y_train, x_test_scaled, y_test, train=False)"
   ]
  },
  {
   "cell_type": "code",
   "execution_count": 15,
   "metadata": {},
   "outputs": [
    {
     "name": "stdout",
     "output_type": "stream",
     "text": [
      "Train Result:\n",
      "================================================\n",
      "Accuracy Score: 100.00%\n",
      "_______________________________________________\n",
      "CLASSIFICATION REPORT:\n",
      "                      0          1  accuracy     macro avg  weighted avg\n",
      "precision      0.999990   1.000000   0.99999      0.999995       0.99999\n",
      "recall         1.000000   0.987952   0.99999      0.993976       0.99999\n",
      "f1-score       0.999995   0.993939   0.99999      0.996967       0.99999\n",
      "support    99512.000000  83.000000   0.99999  99595.000000   99595.00000\n",
      "_______________________________________________\n",
      "Confusion Matrix: \n",
      " [[99512     0]\n",
      " [    1    82]]\n",
      "\n",
      "Test Result:\n",
      "================================================\n",
      "Accuracy Score: 99.82%\n",
      "_______________________________________________\n",
      "CLASSIFICATION REPORT:\n",
      "                      0          1  accuracy     macro avg  weighted avg\n",
      "precision      0.999116   0.043478  0.998233      0.521297      0.998233\n",
      "recall         0.999116   0.043478  0.998233      0.521297      0.998233\n",
      "f1-score       0.999116   0.043478  0.998233      0.521297      0.998233\n",
      "support    24876.000000  23.000000  0.998233  24899.000000  24899.000000\n",
      "_______________________________________________\n",
      "Confusion Matrix: \n",
      " [[24854    22]\n",
      " [   22     1]]\n",
      "\n"
     ]
    }
   ],
   "source": [
    "# DECISION TREE\n",
    "\n",
    "from sklearn.tree import DecisionTreeClassifier\n",
    "clf_tree= DecisionTreeClassifier(random_state=0)\n",
    "\n",
    "clf_tree.fit(x_train_scaled,y_train)\n",
    "print_score(clf_tree, x_train_scaled, y_train, x_test_scaled, y_test, train=True)\n",
    "print_score(clf_tree, x_train_scaled, y_train, x_test_scaled, y_test, train=False)"
   ]
  },
  {
   "cell_type": "code",
   "execution_count": 16,
   "metadata": {},
   "outputs": [
    {
     "name": "stdout",
     "output_type": "stream",
     "text": [
      "Train Result:\n",
      "================================================\n",
      "Accuracy Score: 100.00%\n",
      "_______________________________________________\n",
      "CLASSIFICATION REPORT:\n",
      "                     0          1  accuracy     macro avg  weighted avg\n",
      "precision      0.99998   1.000000   0.99998      0.999990       0.99998\n",
      "recall         1.00000   0.975904   0.99998      0.987952       0.99998\n",
      "f1-score       0.99999   0.987805   0.99998      0.993897       0.99998\n",
      "support    99512.00000  83.000000   0.99998  99595.000000   99595.00000\n",
      "_______________________________________________\n",
      "Confusion Matrix: \n",
      " [[99512     0]\n",
      " [    2    81]]\n",
      "\n",
      "Test Result:\n",
      "================================================\n",
      "Accuracy Score: 99.88%\n",
      "_______________________________________________\n",
      "CLASSIFICATION REPORT:\n",
      "                      0     1  accuracy     macro avg  weighted avg\n",
      "precision      0.999076   0.0  0.998795      0.499538      0.998153\n",
      "recall         0.999719   0.0  0.998795      0.499859      0.998795\n",
      "f1-score       0.999397   0.0  0.998795      0.499699      0.998474\n",
      "support    24876.000000  23.0  0.998795  24899.000000  24899.000000\n",
      "_______________________________________________\n",
      "Confusion Matrix: \n",
      " [[24869     7]\n",
      " [   23     0]]\n",
      "\n"
     ]
    }
   ],
   "source": [
    "# Random Forest\n",
    "from sklearn.ensemble import RandomForestClassifier\n",
    "clf_rf= RandomForestClassifier(random_state=0)\n",
    "\n",
    "clf_rf.fit(x_train_scaled,y_train)\n",
    "print_score(clf_rf, x_train_scaled, y_train, x_test_scaled, y_test, train=True)\n",
    "print_score(clf_rf, x_train_scaled, y_train, x_test_scaled, y_test, train=False)"
   ]
  },
  {
   "cell_type": "code",
   "execution_count": 17,
   "metadata": {},
   "outputs": [
    {
     "name": "stdout",
     "output_type": "stream",
     "text": [
      "=======================Linear Kernel SVM==========================\n"
     ]
    },
    {
     "name": "stderr",
     "output_type": "stream",
     "text": [
      "C:\\Users\\ebineet\\Anaconda3\\lib\\site-packages\\sklearn\\metrics\\_classification.py:1248: UndefinedMetricWarning: Precision and F-score are ill-defined and being set to 0.0 in labels with no predicted samples. Use `zero_division` parameter to control this behavior.\n",
      "  _warn_prf(average, modifier, msg_start, len(result))\n",
      "C:\\Users\\ebineet\\Anaconda3\\lib\\site-packages\\sklearn\\metrics\\_classification.py:1248: UndefinedMetricWarning: Precision and F-score are ill-defined and being set to 0.0 in labels with no predicted samples. Use `zero_division` parameter to control this behavior.\n",
      "  _warn_prf(average, modifier, msg_start, len(result))\n",
      "C:\\Users\\ebineet\\Anaconda3\\lib\\site-packages\\sklearn\\metrics\\_classification.py:1248: UndefinedMetricWarning: Precision and F-score are ill-defined and being set to 0.0 in labels with no predicted samples. Use `zero_division` parameter to control this behavior.\n",
      "  _warn_prf(average, modifier, msg_start, len(result))\n"
     ]
    },
    {
     "name": "stdout",
     "output_type": "stream",
     "text": [
      "Train Result:\n",
      "================================================\n",
      "Accuracy Score: 99.92%\n",
      "_______________________________________________\n",
      "CLASSIFICATION REPORT:\n",
      "                      0     1  accuracy     macro avg  weighted avg\n",
      "precision      0.999167   0.0  0.999167      0.499583      0.998334\n",
      "recall         1.000000   0.0  0.999167      0.500000      0.999167\n",
      "f1-score       0.999583   0.0  0.999167      0.499792      0.998750\n",
      "support    99512.000000  83.0  0.999167  99595.000000  99595.000000\n",
      "_______________________________________________\n",
      "Confusion Matrix: \n",
      " [[99512     0]\n",
      " [   83     0]]\n",
      "\n",
      "Test Result:\n",
      "================================================\n",
      "Accuracy Score: 99.91%\n",
      "_______________________________________________\n",
      "CLASSIFICATION REPORT:\n",
      "                      0     1  accuracy     macro avg  weighted avg\n",
      "precision      0.999076   0.0  0.999076      0.499538      0.998153\n",
      "recall         1.000000   0.0  0.999076      0.500000      0.999076\n",
      "f1-score       0.999538   0.0  0.999076      0.499769      0.998615\n",
      "support    24876.000000  23.0  0.999076  24899.000000  24899.000000\n",
      "_______________________________________________\n",
      "Confusion Matrix: \n",
      " [[24876     0]\n",
      " [   23     0]]\n",
      "\n"
     ]
    },
    {
     "name": "stderr",
     "output_type": "stream",
     "text": [
      "C:\\Users\\ebineet\\Anaconda3\\lib\\site-packages\\sklearn\\metrics\\_classification.py:1248: UndefinedMetricWarning: Precision and F-score are ill-defined and being set to 0.0 in labels with no predicted samples. Use `zero_division` parameter to control this behavior.\n",
      "  _warn_prf(average, modifier, msg_start, len(result))\n",
      "C:\\Users\\ebineet\\Anaconda3\\lib\\site-packages\\sklearn\\metrics\\_classification.py:1248: UndefinedMetricWarning: Precision and F-score are ill-defined and being set to 0.0 in labels with no predicted samples. Use `zero_division` parameter to control this behavior.\n",
      "  _warn_prf(average, modifier, msg_start, len(result))\n",
      "C:\\Users\\ebineet\\Anaconda3\\lib\\site-packages\\sklearn\\metrics\\_classification.py:1248: UndefinedMetricWarning: Precision and F-score are ill-defined and being set to 0.0 in labels with no predicted samples. Use `zero_division` parameter to control this behavior.\n",
      "  _warn_prf(average, modifier, msg_start, len(result))\n"
     ]
    }
   ],
   "source": [
    "# SVM\n",
    "from sklearn.svm import SVC\n",
    "\n",
    "print(\"=======================Linear Kernel SVM==========================\")\n",
    "model = SVC(kernel='linear')\n",
    "model.fit(x_train_scaled, y_train)\n",
    "print_score(model, x_train_scaled, y_train, x_test_scaled, y_test, train=True)\n",
    "print_score(model, x_train_scaled, y_train, x_test_scaled, y_test, train=False)"
   ]
  },
  {
   "cell_type": "code",
   "execution_count": null,
   "metadata": {},
   "outputs": [],
   "source": []
  },
  {
   "cell_type": "code",
   "execution_count": null,
   "metadata": {},
   "outputs": [],
   "source": []
  },
  {
   "cell_type": "code",
   "execution_count": null,
   "metadata": {},
   "outputs": [],
   "source": []
  },
  {
   "cell_type": "code",
   "execution_count": null,
   "metadata": {},
   "outputs": [],
   "source": []
  },
  {
   "cell_type": "code",
   "execution_count": null,
   "metadata": {},
   "outputs": [],
   "source": []
  }
 ],
 "metadata": {
  "kernelspec": {
   "display_name": "Python 3",
   "language": "python",
   "name": "python3"
  },
  "language_info": {
   "codemirror_mode": {
    "name": "ipython",
    "version": 3
   },
   "file_extension": ".py",
   "mimetype": "text/x-python",
   "name": "python",
   "nbconvert_exporter": "python",
   "pygments_lexer": "ipython3",
   "version": "3.7.6"
  }
 },
 "nbformat": 4,
 "nbformat_minor": 4
}
