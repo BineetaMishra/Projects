{
 "cells": [
  {
   "cell_type": "markdown",
   "metadata": {
    "id": "Tc6NlIPlBr_N"
   },
   "source": [
    "# Business Problem: Predict product failure for a transmission device based harware company."
   ]
  },
  {
   "cell_type": "code",
   "execution_count": 1,
   "metadata": {
    "id": "QaC8lDtFBr_S"
   },
   "outputs": [],
   "source": [
    "#Importing the libraries\n",
    "\n",
    "import pandas as pd\n",
    "import numpy as np\n",
    "import matplotlib.pyplot as plt\n",
    "import seaborn as sns "
   ]
  },
  {
   "cell_type": "code",
   "execution_count": 7,
   "metadata": {
    "colab": {
     "base_uri": "https://localhost:8080/"
    },
    "id": "x5buh3bwD2mJ",
    "outputId": "6e9ff865-0724-4bcb-b36e-0365ee9cee9b"
   },
   "outputs": [
    {
     "name": "stdout",
     "output_type": "stream",
     "text": [
      "Mounted at /content/drive\n"
     ]
    }
   ],
   "source": [
    "from google.colab import drive\n",
    "drive.mount('/content/drive')"
   ]
  },
  {
   "cell_type": "code",
   "execution_count": 2,
   "metadata": {
    "id": "t6g-JxaMBr_U"
   },
   "outputs": [
    {
     "ename": "FileNotFoundError",
     "evalue": "[Errno 2] File /content/drive/MyDrive/Dataset/DeviceFailure.csv does not exist: '/content/drive/MyDrive/Dataset/DeviceFailure.csv'",
     "output_type": "error",
     "traceback": [
      "\u001b[1;31m---------------------------------------------------------------------------\u001b[0m",
      "\u001b[1;31mFileNotFoundError\u001b[0m                         Traceback (most recent call last)",
      "\u001b[1;32m<ipython-input-2-09069b76685d>\u001b[0m in \u001b[0;36m<module>\u001b[1;34m\u001b[0m\n\u001b[0;32m      1\u001b[0m \u001b[1;31m# Importing the dataset\u001b[0m\u001b[1;33m\u001b[0m\u001b[1;33m\u001b[0m\u001b[1;33m\u001b[0m\u001b[0m\n\u001b[0;32m      2\u001b[0m \u001b[1;31m#df=pd.read_csv('DeviceFailure.csv')\u001b[0m\u001b[1;33m\u001b[0m\u001b[1;33m\u001b[0m\u001b[1;33m\u001b[0m\u001b[0m\n\u001b[1;32m----> 3\u001b[1;33m \u001b[0mdf\u001b[0m \u001b[1;33m=\u001b[0m \u001b[0mpd\u001b[0m\u001b[1;33m.\u001b[0m\u001b[0mread_csv\u001b[0m\u001b[1;33m(\u001b[0m\u001b[1;34m'/content/drive/MyDrive/Dataset/DeviceFailure.csv'\u001b[0m\u001b[1;33m)\u001b[0m\u001b[1;33m\u001b[0m\u001b[1;33m\u001b[0m\u001b[0m\n\u001b[0m",
      "\u001b[1;32m~\\Anaconda3\\lib\\site-packages\\pandas\\io\\parsers.py\u001b[0m in \u001b[0;36mparser_f\u001b[1;34m(filepath_or_buffer, sep, delimiter, header, names, index_col, usecols, squeeze, prefix, mangle_dupe_cols, dtype, engine, converters, true_values, false_values, skipinitialspace, skiprows, skipfooter, nrows, na_values, keep_default_na, na_filter, verbose, skip_blank_lines, parse_dates, infer_datetime_format, keep_date_col, date_parser, dayfirst, cache_dates, iterator, chunksize, compression, thousands, decimal, lineterminator, quotechar, quoting, doublequote, escapechar, comment, encoding, dialect, error_bad_lines, warn_bad_lines, delim_whitespace, low_memory, memory_map, float_precision)\u001b[0m\n\u001b[0;32m    674\u001b[0m         )\n\u001b[0;32m    675\u001b[0m \u001b[1;33m\u001b[0m\u001b[0m\n\u001b[1;32m--> 676\u001b[1;33m         \u001b[1;32mreturn\u001b[0m \u001b[0m_read\u001b[0m\u001b[1;33m(\u001b[0m\u001b[0mfilepath_or_buffer\u001b[0m\u001b[1;33m,\u001b[0m \u001b[0mkwds\u001b[0m\u001b[1;33m)\u001b[0m\u001b[1;33m\u001b[0m\u001b[1;33m\u001b[0m\u001b[0m\n\u001b[0m\u001b[0;32m    677\u001b[0m \u001b[1;33m\u001b[0m\u001b[0m\n\u001b[0;32m    678\u001b[0m     \u001b[0mparser_f\u001b[0m\u001b[1;33m.\u001b[0m\u001b[0m__name__\u001b[0m \u001b[1;33m=\u001b[0m \u001b[0mname\u001b[0m\u001b[1;33m\u001b[0m\u001b[1;33m\u001b[0m\u001b[0m\n",
      "\u001b[1;32m~\\Anaconda3\\lib\\site-packages\\pandas\\io\\parsers.py\u001b[0m in \u001b[0;36m_read\u001b[1;34m(filepath_or_buffer, kwds)\u001b[0m\n\u001b[0;32m    446\u001b[0m \u001b[1;33m\u001b[0m\u001b[0m\n\u001b[0;32m    447\u001b[0m     \u001b[1;31m# Create the parser.\u001b[0m\u001b[1;33m\u001b[0m\u001b[1;33m\u001b[0m\u001b[1;33m\u001b[0m\u001b[0m\n\u001b[1;32m--> 448\u001b[1;33m     \u001b[0mparser\u001b[0m \u001b[1;33m=\u001b[0m \u001b[0mTextFileReader\u001b[0m\u001b[1;33m(\u001b[0m\u001b[0mfp_or_buf\u001b[0m\u001b[1;33m,\u001b[0m \u001b[1;33m**\u001b[0m\u001b[0mkwds\u001b[0m\u001b[1;33m)\u001b[0m\u001b[1;33m\u001b[0m\u001b[1;33m\u001b[0m\u001b[0m\n\u001b[0m\u001b[0;32m    449\u001b[0m \u001b[1;33m\u001b[0m\u001b[0m\n\u001b[0;32m    450\u001b[0m     \u001b[1;32mif\u001b[0m \u001b[0mchunksize\u001b[0m \u001b[1;32mor\u001b[0m \u001b[0miterator\u001b[0m\u001b[1;33m:\u001b[0m\u001b[1;33m\u001b[0m\u001b[1;33m\u001b[0m\u001b[0m\n",
      "\u001b[1;32m~\\Anaconda3\\lib\\site-packages\\pandas\\io\\parsers.py\u001b[0m in \u001b[0;36m__init__\u001b[1;34m(self, f, engine, **kwds)\u001b[0m\n\u001b[0;32m    878\u001b[0m             \u001b[0mself\u001b[0m\u001b[1;33m.\u001b[0m\u001b[0moptions\u001b[0m\u001b[1;33m[\u001b[0m\u001b[1;34m\"has_index_names\"\u001b[0m\u001b[1;33m]\u001b[0m \u001b[1;33m=\u001b[0m \u001b[0mkwds\u001b[0m\u001b[1;33m[\u001b[0m\u001b[1;34m\"has_index_names\"\u001b[0m\u001b[1;33m]\u001b[0m\u001b[1;33m\u001b[0m\u001b[1;33m\u001b[0m\u001b[0m\n\u001b[0;32m    879\u001b[0m \u001b[1;33m\u001b[0m\u001b[0m\n\u001b[1;32m--> 880\u001b[1;33m         \u001b[0mself\u001b[0m\u001b[1;33m.\u001b[0m\u001b[0m_make_engine\u001b[0m\u001b[1;33m(\u001b[0m\u001b[0mself\u001b[0m\u001b[1;33m.\u001b[0m\u001b[0mengine\u001b[0m\u001b[1;33m)\u001b[0m\u001b[1;33m\u001b[0m\u001b[1;33m\u001b[0m\u001b[0m\n\u001b[0m\u001b[0;32m    881\u001b[0m \u001b[1;33m\u001b[0m\u001b[0m\n\u001b[0;32m    882\u001b[0m     \u001b[1;32mdef\u001b[0m \u001b[0mclose\u001b[0m\u001b[1;33m(\u001b[0m\u001b[0mself\u001b[0m\u001b[1;33m)\u001b[0m\u001b[1;33m:\u001b[0m\u001b[1;33m\u001b[0m\u001b[1;33m\u001b[0m\u001b[0m\n",
      "\u001b[1;32m~\\Anaconda3\\lib\\site-packages\\pandas\\io\\parsers.py\u001b[0m in \u001b[0;36m_make_engine\u001b[1;34m(self, engine)\u001b[0m\n\u001b[0;32m   1112\u001b[0m     \u001b[1;32mdef\u001b[0m \u001b[0m_make_engine\u001b[0m\u001b[1;33m(\u001b[0m\u001b[0mself\u001b[0m\u001b[1;33m,\u001b[0m \u001b[0mengine\u001b[0m\u001b[1;33m=\u001b[0m\u001b[1;34m\"c\"\u001b[0m\u001b[1;33m)\u001b[0m\u001b[1;33m:\u001b[0m\u001b[1;33m\u001b[0m\u001b[1;33m\u001b[0m\u001b[0m\n\u001b[0;32m   1113\u001b[0m         \u001b[1;32mif\u001b[0m \u001b[0mengine\u001b[0m \u001b[1;33m==\u001b[0m \u001b[1;34m\"c\"\u001b[0m\u001b[1;33m:\u001b[0m\u001b[1;33m\u001b[0m\u001b[1;33m\u001b[0m\u001b[0m\n\u001b[1;32m-> 1114\u001b[1;33m             \u001b[0mself\u001b[0m\u001b[1;33m.\u001b[0m\u001b[0m_engine\u001b[0m \u001b[1;33m=\u001b[0m \u001b[0mCParserWrapper\u001b[0m\u001b[1;33m(\u001b[0m\u001b[0mself\u001b[0m\u001b[1;33m.\u001b[0m\u001b[0mf\u001b[0m\u001b[1;33m,\u001b[0m \u001b[1;33m**\u001b[0m\u001b[0mself\u001b[0m\u001b[1;33m.\u001b[0m\u001b[0moptions\u001b[0m\u001b[1;33m)\u001b[0m\u001b[1;33m\u001b[0m\u001b[1;33m\u001b[0m\u001b[0m\n\u001b[0m\u001b[0;32m   1115\u001b[0m         \u001b[1;32melse\u001b[0m\u001b[1;33m:\u001b[0m\u001b[1;33m\u001b[0m\u001b[1;33m\u001b[0m\u001b[0m\n\u001b[0;32m   1116\u001b[0m             \u001b[1;32mif\u001b[0m \u001b[0mengine\u001b[0m \u001b[1;33m==\u001b[0m \u001b[1;34m\"python\"\u001b[0m\u001b[1;33m:\u001b[0m\u001b[1;33m\u001b[0m\u001b[1;33m\u001b[0m\u001b[0m\n",
      "\u001b[1;32m~\\Anaconda3\\lib\\site-packages\\pandas\\io\\parsers.py\u001b[0m in \u001b[0;36m__init__\u001b[1;34m(self, src, **kwds)\u001b[0m\n\u001b[0;32m   1889\u001b[0m         \u001b[0mkwds\u001b[0m\u001b[1;33m[\u001b[0m\u001b[1;34m\"usecols\"\u001b[0m\u001b[1;33m]\u001b[0m \u001b[1;33m=\u001b[0m \u001b[0mself\u001b[0m\u001b[1;33m.\u001b[0m\u001b[0musecols\u001b[0m\u001b[1;33m\u001b[0m\u001b[1;33m\u001b[0m\u001b[0m\n\u001b[0;32m   1890\u001b[0m \u001b[1;33m\u001b[0m\u001b[0m\n\u001b[1;32m-> 1891\u001b[1;33m         \u001b[0mself\u001b[0m\u001b[1;33m.\u001b[0m\u001b[0m_reader\u001b[0m \u001b[1;33m=\u001b[0m \u001b[0mparsers\u001b[0m\u001b[1;33m.\u001b[0m\u001b[0mTextReader\u001b[0m\u001b[1;33m(\u001b[0m\u001b[0msrc\u001b[0m\u001b[1;33m,\u001b[0m \u001b[1;33m**\u001b[0m\u001b[0mkwds\u001b[0m\u001b[1;33m)\u001b[0m\u001b[1;33m\u001b[0m\u001b[1;33m\u001b[0m\u001b[0m\n\u001b[0m\u001b[0;32m   1892\u001b[0m         \u001b[0mself\u001b[0m\u001b[1;33m.\u001b[0m\u001b[0munnamed_cols\u001b[0m \u001b[1;33m=\u001b[0m \u001b[0mself\u001b[0m\u001b[1;33m.\u001b[0m\u001b[0m_reader\u001b[0m\u001b[1;33m.\u001b[0m\u001b[0munnamed_cols\u001b[0m\u001b[1;33m\u001b[0m\u001b[1;33m\u001b[0m\u001b[0m\n\u001b[0;32m   1893\u001b[0m \u001b[1;33m\u001b[0m\u001b[0m\n",
      "\u001b[1;32mpandas\\_libs\\parsers.pyx\u001b[0m in \u001b[0;36mpandas._libs.parsers.TextReader.__cinit__\u001b[1;34m()\u001b[0m\n",
      "\u001b[1;32mpandas\\_libs\\parsers.pyx\u001b[0m in \u001b[0;36mpandas._libs.parsers.TextReader._setup_parser_source\u001b[1;34m()\u001b[0m\n",
      "\u001b[1;31mFileNotFoundError\u001b[0m: [Errno 2] File /content/drive/MyDrive/Dataset/DeviceFailure.csv does not exist: '/content/drive/MyDrive/Dataset/DeviceFailure.csv'"
     ]
    }
   ],
   "source": [
    "# Importing the dataset\n",
    "#df=pd.read_csv('DeviceFailure.csv')\n",
    "df = pd.read_csv('/content/drive/MyDrive/Dataset/DeviceFailure.csv')"
   ]
  },
  {
   "cell_type": "code",
   "execution_count": 3,
   "metadata": {},
   "outputs": [],
   "source": [
    "df = pd.read_csv('DeviceFailure.csv')"
   ]
  },
  {
   "cell_type": "code",
   "execution_count": 4,
   "metadata": {},
   "outputs": [
    {
     "data": {
      "text/plain": [
       "(124494, 8)"
      ]
     },
     "execution_count": 4,
     "metadata": {},
     "output_type": "execute_result"
    }
   ],
   "source": [
    "df.shape"
   ]
  },
  {
   "cell_type": "code",
   "execution_count": 12,
   "metadata": {
    "colab": {
     "base_uri": "https://localhost:8080/",
     "height": 206
    },
    "id": "ONZaHD34Br_n",
    "outputId": "8e105677-57d3-4a35-9d35-39049b4cf617"
   },
   "outputs": [
    {
     "data": {
      "text/html": [
       "<div>\n",
       "<style scoped>\n",
       "    .dataframe tbody tr th:only-of-type {\n",
       "        vertical-align: middle;\n",
       "    }\n",
       "\n",
       "    .dataframe tbody tr th {\n",
       "        vertical-align: top;\n",
       "    }\n",
       "\n",
       "    .dataframe thead th {\n",
       "        text-align: right;\n",
       "    }\n",
       "</style>\n",
       "<table border=\"1\" class=\"dataframe\">\n",
       "  <thead>\n",
       "    <tr style=\"text-align: right;\">\n",
       "      <th></th>\n",
       "      <th>device</th>\n",
       "      <th>failure</th>\n",
       "      <th>attribute1</th>\n",
       "      <th>attribute2</th>\n",
       "      <th>attribute4</th>\n",
       "      <th>attribute5</th>\n",
       "      <th>attribute7</th>\n",
       "      <th>attribute9</th>\n",
       "    </tr>\n",
       "  </thead>\n",
       "  <tbody>\n",
       "    <tr>\n",
       "      <th>0</th>\n",
       "      <td>S1F01085</td>\n",
       "      <td>0</td>\n",
       "      <td>215630672</td>\n",
       "      <td>56</td>\n",
       "      <td>52</td>\n",
       "      <td>6</td>\n",
       "      <td>0</td>\n",
       "      <td>7</td>\n",
       "    </tr>\n",
       "    <tr>\n",
       "      <th>1</th>\n",
       "      <td>S1F01085</td>\n",
       "      <td>0</td>\n",
       "      <td>1650864</td>\n",
       "      <td>56</td>\n",
       "      <td>52</td>\n",
       "      <td>6</td>\n",
       "      <td>0</td>\n",
       "      <td>7</td>\n",
       "    </tr>\n",
       "    <tr>\n",
       "      <th>2</th>\n",
       "      <td>S1F01085</td>\n",
       "      <td>0</td>\n",
       "      <td>124017368</td>\n",
       "      <td>56</td>\n",
       "      <td>52</td>\n",
       "      <td>6</td>\n",
       "      <td>0</td>\n",
       "      <td>7</td>\n",
       "    </tr>\n",
       "    <tr>\n",
       "      <th>3</th>\n",
       "      <td>S1F01085</td>\n",
       "      <td>0</td>\n",
       "      <td>128073224</td>\n",
       "      <td>56</td>\n",
       "      <td>52</td>\n",
       "      <td>6</td>\n",
       "      <td>0</td>\n",
       "      <td>7</td>\n",
       "    </tr>\n",
       "    <tr>\n",
       "      <th>4</th>\n",
       "      <td>S1F01085</td>\n",
       "      <td>0</td>\n",
       "      <td>97393448</td>\n",
       "      <td>56</td>\n",
       "      <td>52</td>\n",
       "      <td>6</td>\n",
       "      <td>0</td>\n",
       "      <td>7</td>\n",
       "    </tr>\n",
       "  </tbody>\n",
       "</table>\n",
       "</div>"
      ],
      "text/plain": [
       "     device  failure  attribute1  ...  attribute5  attribute7  attribute9\n",
       "0  S1F01085        0   215630672  ...           6           0           7\n",
       "1  S1F01085        0     1650864  ...           6           0           7\n",
       "2  S1F01085        0   124017368  ...           6           0           7\n",
       "3  S1F01085        0   128073224  ...           6           0           7\n",
       "4  S1F01085        0    97393448  ...           6           0           7\n",
       "\n",
       "[5 rows x 8 columns]"
      ]
     },
     "execution_count": 12,
     "metadata": {
      "tags": []
     },
     "output_type": "execute_result"
    }
   ],
   "source": [
    "# Checking the dataset loaded correctly\n",
    "df.head()"
   ]
  },
  {
   "cell_type": "code",
   "execution_count": 13,
   "metadata": {
    "colab": {
     "base_uri": "https://localhost:8080/",
     "height": 206
    },
    "id": "W1s8A8IkBr_p",
    "outputId": "63f34f71-a101-437b-a85e-59073474f54d"
   },
   "outputs": [
    {
     "data": {
      "text/html": [
       "<div>\n",
       "<style scoped>\n",
       "    .dataframe tbody tr th:only-of-type {\n",
       "        vertical-align: middle;\n",
       "    }\n",
       "\n",
       "    .dataframe tbody tr th {\n",
       "        vertical-align: top;\n",
       "    }\n",
       "\n",
       "    .dataframe thead th {\n",
       "        text-align: right;\n",
       "    }\n",
       "</style>\n",
       "<table border=\"1\" class=\"dataframe\">\n",
       "  <thead>\n",
       "    <tr style=\"text-align: right;\">\n",
       "      <th></th>\n",
       "      <th>device</th>\n",
       "      <th>failure</th>\n",
       "      <th>attribute1</th>\n",
       "      <th>attribute2</th>\n",
       "      <th>attribute4</th>\n",
       "      <th>attribute5</th>\n",
       "      <th>attribute7</th>\n",
       "      <th>attribute9</th>\n",
       "    </tr>\n",
       "  </thead>\n",
       "  <tbody>\n",
       "    <tr>\n",
       "      <th>124489</th>\n",
       "      <td>Z1F2PBHX</td>\n",
       "      <td>0</td>\n",
       "      <td>180917784</td>\n",
       "      <td>0</td>\n",
       "      <td>0</td>\n",
       "      <td>5</td>\n",
       "      <td>0</td>\n",
       "      <td>0</td>\n",
       "    </tr>\n",
       "    <tr>\n",
       "      <th>124490</th>\n",
       "      <td>Z1F2PBHX</td>\n",
       "      <td>0</td>\n",
       "      <td>33952520</td>\n",
       "      <td>0</td>\n",
       "      <td>0</td>\n",
       "      <td>5</td>\n",
       "      <td>0</td>\n",
       "      <td>0</td>\n",
       "    </tr>\n",
       "    <tr>\n",
       "      <th>124491</th>\n",
       "      <td>Z1F2PBHX</td>\n",
       "      <td>0</td>\n",
       "      <td>59053184</td>\n",
       "      <td>0</td>\n",
       "      <td>0</td>\n",
       "      <td>5</td>\n",
       "      <td>0</td>\n",
       "      <td>0</td>\n",
       "    </tr>\n",
       "    <tr>\n",
       "      <th>124492</th>\n",
       "      <td>Z1F2PBHX</td>\n",
       "      <td>0</td>\n",
       "      <td>110545440</td>\n",
       "      <td>0</td>\n",
       "      <td>0</td>\n",
       "      <td>5</td>\n",
       "      <td>0</td>\n",
       "      <td>0</td>\n",
       "    </tr>\n",
       "    <tr>\n",
       "      <th>124493</th>\n",
       "      <td>Z1F2PBHX</td>\n",
       "      <td>0</td>\n",
       "      <td>130522432</td>\n",
       "      <td>0</td>\n",
       "      <td>0</td>\n",
       "      <td>5</td>\n",
       "      <td>0</td>\n",
       "      <td>0</td>\n",
       "    </tr>\n",
       "  </tbody>\n",
       "</table>\n",
       "</div>"
      ],
      "text/plain": [
       "          device  failure  attribute1  ...  attribute5  attribute7  attribute9\n",
       "124489  Z1F2PBHX        0   180917784  ...           5           0           0\n",
       "124490  Z1F2PBHX        0    33952520  ...           5           0           0\n",
       "124491  Z1F2PBHX        0    59053184  ...           5           0           0\n",
       "124492  Z1F2PBHX        0   110545440  ...           5           0           0\n",
       "124493  Z1F2PBHX        0   130522432  ...           5           0           0\n",
       "\n",
       "[5 rows x 8 columns]"
      ]
     },
     "execution_count": 13,
     "metadata": {
      "tags": []
     },
     "output_type": "execute_result"
    }
   ],
   "source": [
    "df.tail()"
   ]
  },
  {
   "cell_type": "code",
   "execution_count": 14,
   "metadata": {
    "colab": {
     "base_uri": "https://localhost:8080/"
    },
    "id": "Od4GimsuBr_q",
    "outputId": "6c506686-ba62-4759-d780-b25a09b97b1a"
   },
   "outputs": [
    {
     "data": {
      "text/plain": [
       "0    124388\n",
       "1       106\n",
       "Name: failure, dtype: int64"
      ]
     },
     "execution_count": 14,
     "metadata": {
      "tags": []
     },
     "output_type": "execute_result"
    }
   ],
   "source": [
    "df['failure'].value_counts()"
   ]
  },
  {
   "cell_type": "raw",
   "metadata": {
    "id": "ij9R7uXQBr_r"
   },
   "source": [
    "Note: \n",
    "    this is an imbalance dataset. IT SOULD BE BALANCED."
   ]
  },
  {
   "cell_type": "code",
   "execution_count": 15,
   "metadata": {
    "id": "TKyxMmqxBr_s"
   },
   "outputs": [],
   "source": [
    "# Data Pre processing\n",
    "x = df.loc[:, df.columns != \"failure\"]\n",
    "y = df['failure']"
   ]
  },
  {
   "cell_type": "code",
   "execution_count": 16,
   "metadata": {
    "colab": {
     "base_uri": "https://localhost:8080/",
     "height": 206
    },
    "id": "yfGQxKWlBr_u",
    "outputId": "bbb1e0ac-4730-4df2-d78c-a7544afc888f"
   },
   "outputs": [
    {
     "data": {
      "text/html": [
       "<div>\n",
       "<style scoped>\n",
       "    .dataframe tbody tr th:only-of-type {\n",
       "        vertical-align: middle;\n",
       "    }\n",
       "\n",
       "    .dataframe tbody tr th {\n",
       "        vertical-align: top;\n",
       "    }\n",
       "\n",
       "    .dataframe thead th {\n",
       "        text-align: right;\n",
       "    }\n",
       "</style>\n",
       "<table border=\"1\" class=\"dataframe\">\n",
       "  <thead>\n",
       "    <tr style=\"text-align: right;\">\n",
       "      <th></th>\n",
       "      <th>device</th>\n",
       "      <th>attribute1</th>\n",
       "      <th>attribute2</th>\n",
       "      <th>attribute4</th>\n",
       "      <th>attribute5</th>\n",
       "      <th>attribute7</th>\n",
       "      <th>attribute9</th>\n",
       "    </tr>\n",
       "  </thead>\n",
       "  <tbody>\n",
       "    <tr>\n",
       "      <th>0</th>\n",
       "      <td>S1F01085</td>\n",
       "      <td>215630672</td>\n",
       "      <td>56</td>\n",
       "      <td>52</td>\n",
       "      <td>6</td>\n",
       "      <td>0</td>\n",
       "      <td>7</td>\n",
       "    </tr>\n",
       "    <tr>\n",
       "      <th>1</th>\n",
       "      <td>S1F01085</td>\n",
       "      <td>1650864</td>\n",
       "      <td>56</td>\n",
       "      <td>52</td>\n",
       "      <td>6</td>\n",
       "      <td>0</td>\n",
       "      <td>7</td>\n",
       "    </tr>\n",
       "    <tr>\n",
       "      <th>2</th>\n",
       "      <td>S1F01085</td>\n",
       "      <td>124017368</td>\n",
       "      <td>56</td>\n",
       "      <td>52</td>\n",
       "      <td>6</td>\n",
       "      <td>0</td>\n",
       "      <td>7</td>\n",
       "    </tr>\n",
       "    <tr>\n",
       "      <th>3</th>\n",
       "      <td>S1F01085</td>\n",
       "      <td>128073224</td>\n",
       "      <td>56</td>\n",
       "      <td>52</td>\n",
       "      <td>6</td>\n",
       "      <td>0</td>\n",
       "      <td>7</td>\n",
       "    </tr>\n",
       "    <tr>\n",
       "      <th>4</th>\n",
       "      <td>S1F01085</td>\n",
       "      <td>97393448</td>\n",
       "      <td>56</td>\n",
       "      <td>52</td>\n",
       "      <td>6</td>\n",
       "      <td>0</td>\n",
       "      <td>7</td>\n",
       "    </tr>\n",
       "  </tbody>\n",
       "</table>\n",
       "</div>"
      ],
      "text/plain": [
       "     device  attribute1  attribute2  ...  attribute5  attribute7  attribute9\n",
       "0  S1F01085   215630672          56  ...           6           0           7\n",
       "1  S1F01085     1650864          56  ...           6           0           7\n",
       "2  S1F01085   124017368          56  ...           6           0           7\n",
       "3  S1F01085   128073224          56  ...           6           0           7\n",
       "4  S1F01085    97393448          56  ...           6           0           7\n",
       "\n",
       "[5 rows x 7 columns]"
      ]
     },
     "execution_count": 16,
     "metadata": {
      "tags": []
     },
     "output_type": "execute_result"
    }
   ],
   "source": [
    "x.head()"
   ]
  },
  {
   "cell_type": "code",
   "execution_count": 17,
   "metadata": {
    "colab": {
     "base_uri": "https://localhost:8080/"
    },
    "id": "M9Qm0xzLBr_v",
    "outputId": "ee34496d-c221-4b3e-fa7a-5a5fa349c307"
   },
   "outputs": [
    {
     "data": {
      "text/plain": [
       "0    0\n",
       "1    0\n",
       "2    0\n",
       "3    0\n",
       "4    0\n",
       "Name: failure, dtype: int64"
      ]
     },
     "execution_count": 17,
     "metadata": {
      "tags": []
     },
     "output_type": "execute_result"
    }
   ],
   "source": [
    "y.head()"
   ]
  },
  {
   "cell_type": "code",
   "execution_count": 18,
   "metadata": {
    "id": "Xr2M4ZREBr_w"
   },
   "outputs": [],
   "source": [
    "# Splitting the Data\n",
    "from sklearn.model_selection import train_test_split\n",
    "\n",
    "x_train,x_test,y_train,y_test= train_test_split(x,y,test_size=0.2,random_state=0)"
   ]
  },
  {
   "cell_type": "code",
   "execution_count": 19,
   "metadata": {
    "id": "H7kETlkvBr_x"
   },
   "outputs": [],
   "source": [
    "# Removing the device column as it is not a real feature.\n",
    "# but at the end we will use this data associating the prediction from user it came from\n",
    "\n",
    "train_identifier = x_train['device']\n",
    "x_train = x_train.drop(columns=['device'])\n",
    "\n",
    "test_identifier = x_test['device']\n",
    "x_test = x_test.drop(columns=['device'])"
   ]
  },
  {
   "cell_type": "code",
   "execution_count": 20,
   "metadata": {
    "id": "ccfeW4QOBr_y"
   },
   "outputs": [],
   "source": [
    "#Feature Scaling\n",
    "from sklearn.preprocessing import StandardScaler\n",
    "sc= StandardScaler()"
   ]
  },
  {
   "cell_type": "code",
   "execution_count": 21,
   "metadata": {
    "id": "QaloMS_kBr_z"
   },
   "outputs": [],
   "source": [
    "# scale the x_train and create a new variable for scaled x_train\n",
    "#Standard scaler returns a numpy array so we need to convert to DataFrame\n",
    "#In array form 'index' and 'column names' are lost we need it so convert to Df\n",
    "\n",
    "x_train_scaled= pd.DataFrame(sc.fit_transform(x_train))\n",
    "x_test_scaled = pd.DataFrame(sc.transform(x_test))"
   ]
  },
  {
   "cell_type": "code",
   "execution_count": 22,
   "metadata": {
    "id": "TVnEMSewBr_0"
   },
   "outputs": [],
   "source": [
    "# put x_train_scaled have the columns of original x_train set\n",
    "x_train_scaled.columns = x_train.columns.values\n",
    "\n",
    "# put x_test_scaled have the columns of original x_test set\n",
    "x_test_scaled.columns = x_test.columns.values\n",
    "\n",
    "# take the indexes also\n",
    "x_train_scaled.index = x_train.index.values\n",
    "x_test_scaled.index = x_test.index.values"
   ]
  },
  {
   "cell_type": "markdown",
   "metadata": {
    "id": "COc3QxLzBr_1"
   },
   "source": [
    "## Balanicing the Dataset."
   ]
  },
  {
   "cell_type": "code",
   "execution_count": 23,
   "metadata": {
    "colab": {
     "base_uri": "https://localhost:8080/",
     "height": 363
    },
    "id": "L7GOvy-rBr_2",
    "outputId": "c3a531bb-befa-402e-d95c-d130437592db"
   },
   "outputs": [
    {
     "data": {
      "text/html": [
       "<div>\n",
       "<style scoped>\n",
       "    .dataframe tbody tr th:only-of-type {\n",
       "        vertical-align: middle;\n",
       "    }\n",
       "\n",
       "    .dataframe tbody tr th {\n",
       "        vertical-align: top;\n",
       "    }\n",
       "\n",
       "    .dataframe thead th {\n",
       "        text-align: right;\n",
       "    }\n",
       "</style>\n",
       "<table border=\"1\" class=\"dataframe\">\n",
       "  <thead>\n",
       "    <tr style=\"text-align: right;\">\n",
       "      <th></th>\n",
       "      <th>attribute1</th>\n",
       "      <th>attribute2</th>\n",
       "      <th>attribute4</th>\n",
       "      <th>attribute5</th>\n",
       "      <th>attribute7</th>\n",
       "      <th>attribute9</th>\n",
       "      <th>failure</th>\n",
       "    </tr>\n",
       "  </thead>\n",
       "  <tbody>\n",
       "    <tr>\n",
       "      <th>25688</th>\n",
       "      <td>0.141837</td>\n",
       "      <td>-0.073271</td>\n",
       "      <td>-0.077923</td>\n",
       "      <td>-0.202428</td>\n",
       "      <td>-0.041268</td>\n",
       "      <td>-0.023940</td>\n",
       "      <td>0</td>\n",
       "    </tr>\n",
       "    <tr>\n",
       "      <th>80316</th>\n",
       "      <td>-0.986174</td>\n",
       "      <td>-0.069551</td>\n",
       "      <td>-0.077923</td>\n",
       "      <td>-0.265370</td>\n",
       "      <td>-0.041268</td>\n",
       "      <td>-0.065921</td>\n",
       "      <td>0</td>\n",
       "    </tr>\n",
       "    <tr>\n",
       "      <th>91494</th>\n",
       "      <td>-0.253533</td>\n",
       "      <td>-0.073271</td>\n",
       "      <td>4.998986</td>\n",
       "      <td>0.364055</td>\n",
       "      <td>-0.041268</td>\n",
       "      <td>-0.065921</td>\n",
       "      <td>0</td>\n",
       "    </tr>\n",
       "    <tr>\n",
       "      <th>122693</th>\n",
       "      <td>1.472664</td>\n",
       "      <td>-0.073271</td>\n",
       "      <td>-0.077923</td>\n",
       "      <td>-0.202428</td>\n",
       "      <td>-0.041268</td>\n",
       "      <td>-0.060674</td>\n",
       "      <td>0</td>\n",
       "    </tr>\n",
       "    <tr>\n",
       "      <th>109410</th>\n",
       "      <td>0.845466</td>\n",
       "      <td>-0.073271</td>\n",
       "      <td>-0.077923</td>\n",
       "      <td>-0.454198</td>\n",
       "      <td>-0.041268</td>\n",
       "      <td>-0.065921</td>\n",
       "      <td>0</td>\n",
       "    </tr>\n",
       "    <tr>\n",
       "      <th>3031</th>\n",
       "      <td>-0.128126</td>\n",
       "      <td>-0.073271</td>\n",
       "      <td>-0.077923</td>\n",
       "      <td>-0.580083</td>\n",
       "      <td>-0.041268</td>\n",
       "      <td>-0.065921</td>\n",
       "      <td>0</td>\n",
       "    </tr>\n",
       "    <tr>\n",
       "      <th>112669</th>\n",
       "      <td>-1.358294</td>\n",
       "      <td>-0.073271</td>\n",
       "      <td>-0.077923</td>\n",
       "      <td>3.385293</td>\n",
       "      <td>-0.041268</td>\n",
       "      <td>-0.065921</td>\n",
       "      <td>0</td>\n",
       "    </tr>\n",
       "    <tr>\n",
       "      <th>6614</th>\n",
       "      <td>1.216513</td>\n",
       "      <td>-0.073271</td>\n",
       "      <td>-0.077923</td>\n",
       "      <td>3.007639</td>\n",
       "      <td>-0.041268</td>\n",
       "      <td>-0.065921</td>\n",
       "      <td>0</td>\n",
       "    </tr>\n",
       "    <tr>\n",
       "      <th>86115</th>\n",
       "      <td>0.342715</td>\n",
       "      <td>-0.073271</td>\n",
       "      <td>-0.077923</td>\n",
       "      <td>-0.076543</td>\n",
       "      <td>-0.041268</td>\n",
       "      <td>-0.065921</td>\n",
       "      <td>0</td>\n",
       "    </tr>\n",
       "    <tr>\n",
       "      <th>117972</th>\n",
       "      <td>-1.626669</td>\n",
       "      <td>-0.073271</td>\n",
       "      <td>-0.077923</td>\n",
       "      <td>-0.391255</td>\n",
       "      <td>-0.041268</td>\n",
       "      <td>-0.065921</td>\n",
       "      <td>0</td>\n",
       "    </tr>\n",
       "  </tbody>\n",
       "</table>\n",
       "</div>"
      ],
      "text/plain": [
       "        attribute1  attribute2  attribute4  ...  attribute7  attribute9  failure\n",
       "25688     0.141837   -0.073271   -0.077923  ...   -0.041268   -0.023940        0\n",
       "80316    -0.986174   -0.069551   -0.077923  ...   -0.041268   -0.065921        0\n",
       "91494    -0.253533   -0.073271    4.998986  ...   -0.041268   -0.065921        0\n",
       "122693    1.472664   -0.073271   -0.077923  ...   -0.041268   -0.060674        0\n",
       "109410    0.845466   -0.073271   -0.077923  ...   -0.041268   -0.065921        0\n",
       "3031     -0.128126   -0.073271   -0.077923  ...   -0.041268   -0.065921        0\n",
       "112669   -1.358294   -0.073271   -0.077923  ...   -0.041268   -0.065921        0\n",
       "6614      1.216513   -0.073271   -0.077923  ...   -0.041268   -0.065921        0\n",
       "86115     0.342715   -0.073271   -0.077923  ...   -0.041268   -0.065921        0\n",
       "117972   -1.626669   -0.073271   -0.077923  ...   -0.041268   -0.065921        0\n",
       "\n",
       "[10 rows x 7 columns]"
      ]
     },
     "execution_count": 23,
     "metadata": {
      "tags": []
     },
     "output_type": "execute_result"
    }
   ],
   "source": [
    "# Balanicing the Dataset.\n",
    "# create the training df by remerging X_train and y_train\n",
    "df_train = x_train_scaled.join(y_train)\n",
    "df_train.sample(10)"
   ]
  },
  {
   "cell_type": "code",
   "execution_count": 24,
   "metadata": {
    "colab": {
     "base_uri": "https://localhost:8080/"
    },
    "id": "9erGQpBVBr_3",
    "outputId": "7f0fc107-95f3-4ee3-f653-4295c23a81fe"
   },
   "outputs": [
    {
     "name": "stdout",
     "output_type": "stream",
     "text": [
      "99512\n",
      "-----------\n",
      "83\n",
      "-----------\n",
      "0    99512\n",
      "1       83\n",
      "Name: failure, dtype: int64\n"
     ]
    }
   ],
   "source": [
    "from sklearn.utils import resample\n",
    "\n",
    "# Separate majority and minority classes\n",
    "df_majority = df_train[df_train.failure==0]\n",
    "df_minority = df_train[df_train.failure==1]\n",
    "\n",
    "print(df_majority.failure.count())\n",
    "print(\"-----------\")\n",
    "print(df_minority.failure.count())\n",
    "print(\"-----------\")\n",
    "print(df_train.failure.value_counts())"
   ]
  },
  {
   "cell_type": "markdown",
   "metadata": {
    "id": "iW4n8T8FBr_5"
   },
   "source": [
    "<b> UP-Sampling the Data"
   ]
  },
  {
   "cell_type": "code",
   "execution_count": 25,
   "metadata": {
    "colab": {
     "base_uri": "https://localhost:8080/"
    },
    "id": "_nKOSV_cBr_6",
    "outputId": "317a82a2-9b2b-42a8-d10f-e983757193a7"
   },
   "outputs": [
    {
     "data": {
      "text/plain": [
       "1    99512\n",
       "0    99512\n",
       "Name: failure, dtype: int64"
      ]
     },
     "execution_count": 25,
     "metadata": {
      "tags": []
     },
     "output_type": "execute_result"
    }
   ],
   "source": [
    "# UPSAMPLING\n",
    "# Upsample minority class\n",
    "df_minority_upsampled = resample(df_minority, \n",
    "                                 replace=True,     # sample with replacement\n",
    "                                 n_samples=99512,    # to match majority class\n",
    "                                 random_state=587) # reproducible results\n",
    "# Combine majority class with upsampled minority class\n",
    "df_upsampled = pd.concat([df_majority, df_minority_upsampled])\n",
    "# Display new class counts\n",
    "df_upsampled.failure.value_counts()"
   ]
  },
  {
   "cell_type": "code",
   "execution_count": 26,
   "metadata": {
    "id": "_iQAAOrWBr_7"
   },
   "outputs": [],
   "source": [
    "x_upsampled = df_upsampled.drop(['failure'], axis= 1)\n",
    "y_upsampled = df_upsampled.failure"
   ]
  },
  {
   "cell_type": "code",
   "execution_count": 27,
   "metadata": {
    "id": "HjSsBJ8HBr_8"
   },
   "outputs": [],
   "source": [
    "# Splitting the Data\n",
    "from sklearn.model_selection import train_test_split\n",
    "\n",
    "x_up_train,x_up_test,y_up_train,y_up_test= train_test_split(x_upsampled,y_upsampled,test_size=0.2,random_state=0)"
   ]
  },
  {
   "cell_type": "code",
   "execution_count": 28,
   "metadata": {
    "colab": {
     "base_uri": "https://localhost:8080/",
     "height": 206
    },
    "id": "8oiCm92WBr_9",
    "outputId": "a85bc217-dfe5-40f6-9eb7-317545a9a2b7"
   },
   "outputs": [
    {
     "data": {
      "text/html": [
       "<div>\n",
       "<style scoped>\n",
       "    .dataframe tbody tr th:only-of-type {\n",
       "        vertical-align: middle;\n",
       "    }\n",
       "\n",
       "    .dataframe tbody tr th {\n",
       "        vertical-align: top;\n",
       "    }\n",
       "\n",
       "    .dataframe thead th {\n",
       "        text-align: right;\n",
       "    }\n",
       "</style>\n",
       "<table border=\"1\" class=\"dataframe\">\n",
       "  <thead>\n",
       "    <tr style=\"text-align: right;\">\n",
       "      <th></th>\n",
       "      <th>attribute1</th>\n",
       "      <th>attribute2</th>\n",
       "      <th>attribute4</th>\n",
       "      <th>attribute5</th>\n",
       "      <th>attribute7</th>\n",
       "      <th>attribute9</th>\n",
       "    </tr>\n",
       "  </thead>\n",
       "  <tbody>\n",
       "    <tr>\n",
       "      <th>64496</th>\n",
       "      <td>0.473767</td>\n",
       "      <td>-0.073271</td>\n",
       "      <td>-0.077923</td>\n",
       "      <td>-0.013600</td>\n",
       "      <td>-0.041268</td>\n",
       "      <td>-0.065921</td>\n",
       "    </tr>\n",
       "    <tr>\n",
       "      <th>23861</th>\n",
       "      <td>0.417016</td>\n",
       "      <td>-0.073271</td>\n",
       "      <td>-0.077923</td>\n",
       "      <td>-0.391255</td>\n",
       "      <td>10.918911</td>\n",
       "      <td>-0.065921</td>\n",
       "    </tr>\n",
       "    <tr>\n",
       "      <th>10716</th>\n",
       "      <td>0.293393</td>\n",
       "      <td>-0.073271</td>\n",
       "      <td>-0.077923</td>\n",
       "      <td>-0.013600</td>\n",
       "      <td>-0.041268</td>\n",
       "      <td>-0.065921</td>\n",
       "    </tr>\n",
       "    <tr>\n",
       "      <th>35081</th>\n",
       "      <td>-0.790088</td>\n",
       "      <td>-0.073271</td>\n",
       "      <td>-0.077923</td>\n",
       "      <td>-0.202428</td>\n",
       "      <td>-0.041268</td>\n",
       "      <td>-0.034435</td>\n",
       "    </tr>\n",
       "    <tr>\n",
       "      <th>22640</th>\n",
       "      <td>-1.024272</td>\n",
       "      <td>-0.073271</td>\n",
       "      <td>-0.077923</td>\n",
       "      <td>-0.517140</td>\n",
       "      <td>-0.041268</td>\n",
       "      <td>-0.065921</td>\n",
       "    </tr>\n",
       "  </tbody>\n",
       "</table>\n",
       "</div>"
      ],
      "text/plain": [
       "       attribute1  attribute2  attribute4  attribute5  attribute7  attribute9\n",
       "64496    0.473767   -0.073271   -0.077923   -0.013600   -0.041268   -0.065921\n",
       "23861    0.417016   -0.073271   -0.077923   -0.391255   10.918911   -0.065921\n",
       "10716    0.293393   -0.073271   -0.077923   -0.013600   -0.041268   -0.065921\n",
       "35081   -0.790088   -0.073271   -0.077923   -0.202428   -0.041268   -0.034435\n",
       "22640   -1.024272   -0.073271   -0.077923   -0.517140   -0.041268   -0.065921"
      ]
     },
     "execution_count": 28,
     "metadata": {
      "tags": []
     },
     "output_type": "execute_result"
    }
   ],
   "source": [
    "x_up_train.head()"
   ]
  },
  {
   "cell_type": "markdown",
   "metadata": {
    "id": "t6cJeZ85Br_-"
   },
   "source": [
    "<b># Applying machine learning algorithms"
   ]
  },
  {
   "cell_type": "code",
   "execution_count": 29,
   "metadata": {
    "id": "B_vWS9apBr__"
   },
   "outputs": [],
   "source": [
    "# Applying machine learning algorithms\n",
    "# Creating a function that will give the Following output when any model is run\n",
    "\n",
    "from sklearn.metrics import accuracy_score, confusion_matrix, classification_report\n",
    "\n",
    "def print_score(clf, x_up_train,x_up_test,y_up_train,y_up_test, train=True):\n",
    "    if train:\n",
    "        pred = clf.predict(x_up_train)\n",
    "        clf_report = pd.DataFrame(classification_report(y_up_train, pred, output_dict=True))\n",
    "        print(\"Train Result:\\n================================================\")\n",
    "        print(f\"Accuracy Score: {accuracy_score(y_up_train, pred) * 100:.2f}%\")\n",
    "        print(\"_______________________________________________\")\n",
    "        print(f\"CLASSIFICATION REPORT:\\n{clf_report}\")\n",
    "        print(\"_______________________________________________\")\n",
    "        print(f\"Confusion Matrix: \\n {confusion_matrix(y_up_train, pred)}\\n\")\n",
    "        \n",
    "    elif train==False:\n",
    "        pred = clf.predict(x_up_test)\n",
    "        clf_report = pd.DataFrame(classification_report(y_up_test, pred, output_dict=True))\n",
    "        print(\"Test Result:\\n================================================\")        \n",
    "        print(f\"Accuracy Score: {accuracy_score(y_up_test, pred) * 100:.2f}%\")\n",
    "        print(\"_______________________________________________\")\n",
    "        print(f\"CLASSIFICATION REPORT:\\n{clf_report}\")\n",
    "        print(\"_______________________________________________\")\n",
    "        print(f\"Confusion Matrix: \\n {confusion_matrix(y_up_test, pred)}\\n\")"
   ]
  },
  {
   "cell_type": "code",
   "execution_count": 30,
   "metadata": {
    "colab": {
     "base_uri": "https://localhost:8080/"
    },
    "id": "qamvczHPBsAB",
    "outputId": "dd4827fa-c3cd-4e54-cb71-1499051753a4"
   },
   "outputs": [
    {
     "name": "stdout",
     "output_type": "stream",
     "text": [
      "Train Result:\n",
      "================================================\n",
      "Accuracy Score: 76.83%\n",
      "_______________________________________________\n",
      "CLASSIFICATION REPORT:\n",
      "                      0             1  accuracy      macro avg   weighted avg\n",
      "precision      0.695323      0.929328  0.768338       0.812325       0.812228\n",
      "recall         0.955934      0.580428  0.768338       0.768181       0.768338\n",
      "f1-score       0.805063      0.714563  0.768338       0.759813       0.759851\n",
      "support    79676.000000  79543.000000  0.768338  159219.000000  159219.000000\n",
      "_______________________________________________\n",
      "Confusion Matrix: \n",
      " [[76165  3511]\n",
      " [33374 46169]]\n",
      "\n",
      "Test Result:\n",
      "================================================\n",
      "Accuracy Score: 76.94%\n",
      "_______________________________________________\n",
      "CLASSIFICATION REPORT:\n",
      "                      0             1  accuracy     macro avg  weighted avg\n",
      "precision      0.694555      0.934230  0.769351      0.814392      0.814793\n",
      "recall         0.958812      0.581151  0.769351      0.769982      0.769351\n",
      "f1-score       0.805566      0.716557  0.769351      0.761061      0.760913\n",
      "support    19836.000000  19969.000000  0.769351  39805.000000  39805.000000\n",
      "_______________________________________________\n",
      "Confusion Matrix: \n",
      " [[19019   817]\n",
      " [ 8364 11605]]\n",
      "\n"
     ]
    }
   ],
   "source": [
    "# LOGISTIC REGRESSION\n",
    "\n",
    "from sklearn.linear_model import LogisticRegression\n",
    "clf_lr = LogisticRegression(random_state=0)\n",
    "\n",
    "clf_lr.fit(x_up_train ,y_up_train)\n",
    "print_score(clf_lr, x_up_train,x_up_test,y_up_train,y_up_test, train=True)\n",
    "print_score(clf_lr, x_up_train,x_up_test,y_up_train,y_up_test, train=False)"
   ]
  },
  {
   "cell_type": "code",
   "execution_count": 31,
   "metadata": {
    "colab": {
     "base_uri": "https://localhost:8080/"
    },
    "id": "K4d2Qv2KBsAF",
    "outputId": "74c3ab7a-b5b3-424f-cdea-17ec569927ff"
   },
   "outputs": [
    {
     "name": "stdout",
     "output_type": "stream",
     "text": [
      "Train Result:\n",
      "================================================\n",
      "Accuracy Score: 100.00%\n",
      "_______________________________________________\n",
      "CLASSIFICATION REPORT:\n",
      "                      0             1  accuracy      macro avg   weighted avg\n",
      "precision      1.000000      0.999987  0.999994       0.999994       0.999994\n",
      "recall         0.999987      1.000000  0.999994       0.999994       0.999994\n",
      "f1-score       0.999994      0.999994  0.999994       0.999994       0.999994\n",
      "support    79676.000000  79543.000000  0.999994  159219.000000  159219.000000\n",
      "_______________________________________________\n",
      "Confusion Matrix: \n",
      " [[79675     1]\n",
      " [    0 79543]]\n",
      "\n",
      "Test Result:\n",
      "================================================\n",
      "Accuracy Score: 99.96%\n",
      "_______________________________________________\n",
      "CLASSIFICATION REPORT:\n",
      "                      0             1  accuracy     macro avg  weighted avg\n",
      "precision      1.000000      0.999299  0.999648      0.999650      0.999649\n",
      "recall         0.999294      1.000000  0.999648      0.999647      0.999648\n",
      "f1-score       0.999647      0.999650  0.999648      0.999648      0.999648\n",
      "support    19836.000000  19969.000000  0.999648  39805.000000  39805.000000\n",
      "_______________________________________________\n",
      "Confusion Matrix: \n",
      " [[19822    14]\n",
      " [    0 19969]]\n",
      "\n"
     ]
    }
   ],
   "source": [
    "# DECISION TREE\n",
    "\n",
    "from sklearn.tree import DecisionTreeClassifier\n",
    "clf_tree= DecisionTreeClassifier(random_state=0)\n",
    "\n",
    "clf_tree.fit(x_up_train ,y_up_train)\n",
    "print_score(clf_tree, x_up_train,x_up_test,y_up_train,y_up_test, train=True)\n",
    "print_score(clf_tree, x_up_train,x_up_test,y_up_train,y_up_test, train=False)"
   ]
  },
  {
   "cell_type": "code",
   "execution_count": 32,
   "metadata": {
    "colab": {
     "base_uri": "https://localhost:8080/"
    },
    "id": "oVpON40sBsAH",
    "outputId": "89463d6c-1bb1-4c72-cbd5-b421250a3cb6"
   },
   "outputs": [
    {
     "name": "stdout",
     "output_type": "stream",
     "text": [
      "Train Result:\n",
      "================================================\n",
      "Accuracy Score: 100.00%\n",
      "_______________________________________________\n",
      "CLASSIFICATION REPORT:\n",
      "                      0             1  accuracy      macro avg   weighted avg\n",
      "precision      1.000000      0.999987  0.999994       0.999994       0.999994\n",
      "recall         0.999987      1.000000  0.999994       0.999994       0.999994\n",
      "f1-score       0.999994      0.999994  0.999994       0.999994       0.999994\n",
      "support    79676.000000  79543.000000  0.999994  159219.000000  159219.000000\n",
      "_______________________________________________\n",
      "Confusion Matrix: \n",
      " [[79675     1]\n",
      " [    0 79543]]\n",
      "\n",
      "Test Result:\n",
      "================================================\n",
      "Accuracy Score: 99.96%\n",
      "_______________________________________________\n",
      "CLASSIFICATION REPORT:\n",
      "                      0             1  accuracy     macro avg  weighted avg\n",
      "precision      1.000000      0.999249  0.999623      0.999625      0.999623\n",
      "recall         0.999244      1.000000  0.999623      0.999622      0.999623\n",
      "f1-score       0.999622      0.999625  0.999623      0.999623      0.999623\n",
      "support    19836.000000  19969.000000  0.999623  39805.000000  39805.000000\n",
      "_______________________________________________\n",
      "Confusion Matrix: \n",
      " [[19821    15]\n",
      " [    0 19969]]\n",
      "\n"
     ]
    }
   ],
   "source": [
    "# Random Forest\n",
    "# Random Forest\n",
    "from sklearn.ensemble import RandomForestClassifier\n",
    "clf_rf= RandomForestClassifier(random_state=0)\n",
    "\n",
    "clf_rf.fit(x_up_train,y_up_train)\n",
    "print_score(clf_rf, x_up_train,x_up_est,y_up_train,y_up_test, train=True)\n",
    "print_score(clf_rf, x_up_train,x_up_test,y_up_train,y_up_test, train=False)"
   ]
  },
  {
   "cell_type": "code",
   "execution_count": 33,
   "metadata": {
    "colab": {
     "base_uri": "https://localhost:8080/"
    },
    "id": "I5RGBVX2BsAI",
    "outputId": "f785f645-e1f9-4d4c-beea-41c925a1d39e"
   },
   "outputs": [
    {
     "name": "stdout",
     "output_type": "stream",
     "text": [
      "=======================Linear Kernel SVM==========================\n",
      "Train Result:\n",
      "================================================\n",
      "Accuracy Score: 73.87%\n",
      "_______________________________________________\n",
      "CLASSIFICATION REPORT:\n",
      "                      0             1  accuracy      macro avg   weighted avg\n",
      "precision      0.663379      0.943984  0.738668       0.803682       0.803564\n",
      "recall         0.969966      0.506984  0.738668       0.738475       0.738668\n",
      "f1-score       0.787899      0.659676  0.738668       0.723787       0.723841\n",
      "support    79676.000000  79543.000000  0.738668  159219.000000  159219.000000\n",
      "_______________________________________________\n",
      "Confusion Matrix: \n",
      " [[77283  2393]\n",
      " [39216 40327]]\n",
      "\n",
      "Test Result:\n",
      "================================================\n",
      "Accuracy Score: 73.91%\n",
      "_______________________________________________\n",
      "CLASSIFICATION REPORT:\n",
      "                      0             1  accuracy     macro avg  weighted avg\n",
      "precision      0.662170      0.948932  0.739053      0.805551      0.806030\n",
      "recall         0.972525      0.507136  0.739053      0.739830      0.739053\n",
      "f1-score       0.787886      0.661010  0.739053      0.724448      0.724236\n",
      "support    19836.000000  19969.000000  0.739053  39805.000000  39805.000000\n",
      "_______________________________________________\n",
      "Confusion Matrix: \n",
      " [[19291   545]\n",
      " [ 9842 10127]]\n",
      "\n"
     ]
    }
   ],
   "source": [
    "# SVM\n",
    "from sklearn.svm import SVC\n",
    "\n",
    "print(\"=======================Linear Kernel SVM==========================\")\n",
    "model = SVC(kernel='linear')\n",
    "model.fit(x_up_train,y_up_train)\n",
    "print_score(model, x_up_train,x_up_test,y_up_train,y_up_test, train=True)\n",
    "print_score(model, x_up_train,x_up_test,y_up_train,y_up_test, train=False)"
   ]
  },
  {
   "cell_type": "markdown",
   "metadata": {
    "id": "wYjLidnTBsAU"
   },
   "source": [
    "# Down-Sampling the Data"
   ]
  },
  {
   "cell_type": "code",
   "execution_count": 34,
   "metadata": {
    "colab": {
     "base_uri": "https://localhost:8080/"
    },
    "id": "WL_Fp5qdBsAV",
    "outputId": "8063296a-7369-4e7b-e4c8-8cadeefc4244"
   },
   "outputs": [
    {
     "data": {
      "text/plain": [
       "1    83\n",
       "0    83\n",
       "Name: failure, dtype: int64"
      ]
     },
     "execution_count": 34,
     "metadata": {
      "tags": []
     },
     "output_type": "execute_result"
    }
   ],
   "source": [
    "# Down-Sampling the Data\n",
    "# Downsample majority class\n",
    "df_majority_downsampled = resample(df_majority, \n",
    "                                 replace=False,    # sample without replacement\n",
    "                                 n_samples=83,     # to match minority class\n",
    "                                 random_state=24) # reproducible results\n",
    "# Combine minority class with downsampled majority class\n",
    "df_downsampled = pd.concat([df_majority_downsampled, df_minority])\n",
    "# Display new class counts\n",
    "df_downsampled.failure.value_counts()"
   ]
  },
  {
   "cell_type": "code",
   "execution_count": 35,
   "metadata": {
    "id": "VNa522y7BsAW"
   },
   "outputs": [],
   "source": [
    "x_downsampled = df_downsampled.drop(['failure'], axis = 1)\n",
    "y_downsampled = df_downsampled.failure"
   ]
  },
  {
   "cell_type": "code",
   "execution_count": 36,
   "metadata": {
    "id": "va3K9yLvBsAX"
   },
   "outputs": [],
   "source": [
    "# Splitting the Data\n",
    "from sklearn.model_selection import train_test_split\n",
    "\n",
    "x_down_train,x_down_test,y_down_train,y_down_test= train_test_split(x_downsampled,y_downsampled,test_size=0.2,random_state=0)"
   ]
  },
  {
   "cell_type": "markdown",
   "metadata": {
    "id": "0j7UFdk1BsAY"
   },
   "source": [
    "<b># Applying machine learning algorithms"
   ]
  },
  {
   "cell_type": "code",
   "execution_count": 37,
   "metadata": {
    "id": "BwuxCyRUBsAZ"
   },
   "outputs": [],
   "source": [
    "# Applying machine learning algorithms\n",
    "# Creating a function that will give the Following output when any model is run\n",
    "\n",
    "from sklearn.metrics import accuracy_score, confusion_matrix, classification_report\n",
    "\n",
    "def print_score(clf, x_down_train,x_down_test,y_down_train,y_down_test, train=True):\n",
    "    if train:\n",
    "        pred = clf.predict(x_down_train)\n",
    "        clf_report = pd.DataFrame(classification_report(y_down_train, pred, output_dict=True))\n",
    "        print(\"Train Result:\\n================================================\")\n",
    "        print(f\"Accuracy Score: {accuracy_score(y_down_train, pred) * 100:.2f}%\")\n",
    "        print(\"_______________________________________________\")\n",
    "        print(f\"CLASSIFICATION REPORT:\\n{clf_report}\")\n",
    "        print(\"_______________________________________________\")\n",
    "        print(f\"Confusion Matrix: \\n {confusion_matrix(y_down_train, pred)}\\n\")\n",
    "        \n",
    "    elif train==False:\n",
    "        pred = clf.predict(x_down_test)\n",
    "        clf_report = pd.DataFrame(classification_report(y_down_test, pred, output_dict=True))\n",
    "        print(\"Test Result:\\n================================================\")        \n",
    "        print(f\"Accuracy Score: {accuracy_score(y_down_test, pred) * 100:.2f}%\")\n",
    "        print(\"_______________________________________________\")\n",
    "        print(f\"CLASSIFICATION REPORT:\\n{clf_report}\")\n",
    "        print(\"_______________________________________________\")\n",
    "        print(f\"Confusion Matrix: \\n {confusion_matrix(y_down_test, pred)}\\n\")"
   ]
  },
  {
   "cell_type": "code",
   "execution_count": 38,
   "metadata": {
    "colab": {
     "base_uri": "https://localhost:8080/"
    },
    "id": "KAtnEJVxBsAa",
    "outputId": "5132d1a0-f370-4347-df43-5660c9cdb220"
   },
   "outputs": [
    {
     "name": "stdout",
     "output_type": "stream",
     "text": [
      "Train Result:\n",
      "================================================\n",
      "Accuracy Score: 77.27%\n",
      "_______________________________________________\n",
      "CLASSIFICATION REPORT:\n",
      "                   0          1  accuracy   macro avg  weighted avg\n",
      "precision   0.711111   0.904762  0.772727    0.807937      0.805002\n",
      "recall      0.941176   0.593750  0.772727    0.767463      0.772727\n",
      "f1-score    0.810127   0.716981  0.772727    0.763554      0.764965\n",
      "support    68.000000  64.000000  0.772727  132.000000    132.000000\n",
      "_______________________________________________\n",
      "Confusion Matrix: \n",
      " [[64  4]\n",
      " [26 38]]\n",
      "\n",
      "Test Result:\n",
      "================================================\n",
      "Accuracy Score: 67.65%\n",
      "_______________________________________________\n",
      "CLASSIFICATION REPORT:\n",
      "                   0          1  accuracy  macro avg  weighted avg\n",
      "precision   0.583333   0.900000  0.676471   0.741667      0.760294\n",
      "recall      0.933333   0.473684  0.676471   0.703509      0.676471\n",
      "f1-score    0.717949   0.620690  0.676471   0.669319      0.663598\n",
      "support    15.000000  19.000000  0.676471  34.000000     34.000000\n",
      "_______________________________________________\n",
      "Confusion Matrix: \n",
      " [[14  1]\n",
      " [10  9]]\n",
      "\n"
     ]
    }
   ],
   "source": [
    "# LOGISTIC REGRESSION\n",
    "\n",
    "from sklearn.linear_model import LogisticRegression\n",
    "clf_lr = LogisticRegression(random_state=0)\n",
    "\n",
    "clf_lr.fit(x_down_train, y_down_train)\n",
    "print_score(clf_lr, x_down_train,x_down_test,y_down_train,y_down_test, train=True)\n",
    "print_score(clf_lr, x_down_train,x_down_test,y_down_train,y_down_test, train=False)"
   ]
  },
  {
   "cell_type": "code",
   "execution_count": 39,
   "metadata": {
    "colab": {
     "base_uri": "https://localhost:8080/"
    },
    "id": "prygpSOOBsAb",
    "outputId": "0800fa36-408b-4946-94d2-5c0d5ff2d803"
   },
   "outputs": [
    {
     "name": "stdout",
     "output_type": "stream",
     "text": [
      "Train Result:\n",
      "================================================\n",
      "Accuracy Score: 100.00%\n",
      "_______________________________________________\n",
      "CLASSIFICATION REPORT:\n",
      "              0     1  accuracy  macro avg  weighted avg\n",
      "precision   1.0   1.0       1.0        1.0           1.0\n",
      "recall      1.0   1.0       1.0        1.0           1.0\n",
      "f1-score    1.0   1.0       1.0        1.0           1.0\n",
      "support    68.0  64.0       1.0      132.0         132.0\n",
      "_______________________________________________\n",
      "Confusion Matrix: \n",
      " [[68  0]\n",
      " [ 0 64]]\n",
      "\n",
      "Test Result:\n",
      "================================================\n",
      "Accuracy Score: 76.47%\n",
      "_______________________________________________\n",
      "CLASSIFICATION REPORT:\n",
      "                   0          1  accuracy  macro avg  weighted avg\n",
      "precision   0.705882   0.823529  0.764706   0.764706      0.771626\n",
      "recall      0.800000   0.736842  0.764706   0.768421      0.764706\n",
      "f1-score    0.750000   0.777778  0.764706   0.763889      0.765523\n",
      "support    15.000000  19.000000  0.764706  34.000000     34.000000\n",
      "_______________________________________________\n",
      "Confusion Matrix: \n",
      " [[12  3]\n",
      " [ 5 14]]\n",
      "\n"
     ]
    }
   ],
   "source": [
    "# DECISION TREE\n",
    "\n",
    "from sklearn.tree import DecisionTreeClassifier\n",
    "clf_tree= DecisionTreeClassifier(random_state=0)\n",
    "\n",
    "clf_tree.fit(x_down_train,y_down_train)\n",
    "print_score(clf_tree, x_down_train,x_down_test,y_down_train,y_down_test, train=True)\n",
    "print_score(clf_tree, x_down_train,x_down_test,y_down_train,y_down_test, train=False)"
   ]
  },
  {
   "cell_type": "code",
   "execution_count": 40,
   "metadata": {
    "code_folding": [],
    "colab": {
     "base_uri": "https://localhost:8080/"
    },
    "id": "34o8zsc2BsAc",
    "outputId": "e64ef946-7f0b-4daa-a261-d6e3fff04675"
   },
   "outputs": [
    {
     "name": "stdout",
     "output_type": "stream",
     "text": [
      "Train Result:\n",
      "================================================\n",
      "Accuracy Score: 100.00%\n",
      "_______________________________________________\n",
      "CLASSIFICATION REPORT:\n",
      "              0     1  accuracy  macro avg  weighted avg\n",
      "precision   1.0   1.0       1.0        1.0           1.0\n",
      "recall      1.0   1.0       1.0        1.0           1.0\n",
      "f1-score    1.0   1.0       1.0        1.0           1.0\n",
      "support    68.0  64.0       1.0      132.0         132.0\n",
      "_______________________________________________\n",
      "Confusion Matrix: \n",
      " [[68  0]\n",
      " [ 0 64]]\n",
      "\n",
      "Test Result:\n",
      "================================================\n",
      "Accuracy Score: 73.53%\n",
      "_______________________________________________\n",
      "CLASSIFICATION REPORT:\n",
      "                   0          1  accuracy  macro avg  weighted avg\n",
      "precision   0.666667   0.812500  0.735294   0.739583      0.748162\n",
      "recall      0.800000   0.684211  0.735294   0.742105      0.735294\n",
      "f1-score    0.727273   0.742857  0.735294   0.735065      0.735982\n",
      "support    15.000000  19.000000  0.735294  34.000000     34.000000\n",
      "_______________________________________________\n",
      "Confusion Matrix: \n",
      " [[12  3]\n",
      " [ 6 13]]\n",
      "\n"
     ]
    }
   ],
   "source": [
    "# Random Forest\n",
    "# Random Forest\n",
    "from sklearn.ensemble import RandomForestClassifier\n",
    "clf_rf= RandomForestClassifier(random_state=0)\n",
    "\n",
    "clf_rf.fit(x_down_train,y_down_train)\n",
    "print_score(clf_rf, x_down_train,x_down_test,y_down_train,y_down_test, train=True)\n",
    "print_score(clf_rf, x_down_train,x_down_test,y_down_train,y_down_test, train=False)"
   ]
  },
  {
   "cell_type": "code",
   "execution_count": 41,
   "metadata": {
    "colab": {
     "base_uri": "https://localhost:8080/"
    },
    "id": "_Rx-DatoBsAd",
    "outputId": "76a611ef-567b-46bf-fae6-3f3c736432aa"
   },
   "outputs": [
    {
     "name": "stdout",
     "output_type": "stream",
     "text": [
      "=======================Linear Kernel SVM==========================\n",
      "Train Result:\n",
      "================================================\n",
      "Accuracy Score: 78.03%\n",
      "_______________________________________________\n",
      "CLASSIFICATION REPORT:\n",
      "                   0          1  accuracy   macro avg  weighted avg\n",
      "precision   0.719101   0.906977  0.780303    0.813039      0.810192\n",
      "recall      0.941176   0.609375  0.780303    0.775276      0.780303\n",
      "f1-score    0.815287   0.728972  0.780303    0.772129      0.773437\n",
      "support    68.000000  64.000000  0.780303  132.000000    132.000000\n",
      "_______________________________________________\n",
      "Confusion Matrix: \n",
      " [[64  4]\n",
      " [25 39]]\n",
      "\n",
      "Test Result:\n",
      "================================================\n",
      "Accuracy Score: 67.65%\n",
      "_______________________________________________\n",
      "CLASSIFICATION REPORT:\n",
      "                   0          1  accuracy  macro avg  weighted avg\n",
      "precision   0.583333   0.900000  0.676471   0.741667      0.760294\n",
      "recall      0.933333   0.473684  0.676471   0.703509      0.676471\n",
      "f1-score    0.717949   0.620690  0.676471   0.669319      0.663598\n",
      "support    15.000000  19.000000  0.676471  34.000000     34.000000\n",
      "_______________________________________________\n",
      "Confusion Matrix: \n",
      " [[14  1]\n",
      " [10  9]]\n",
      "\n"
     ]
    }
   ],
   "source": [
    "# SVM\n",
    "from sklearn.svm import SVC\n",
    "\n",
    "print(\"=======================Linear Kernel SVM==========================\")\n",
    "model = SVC(kernel='linear')\n",
    "model.fit(x_down_train,y_down_train)\n",
    "print_score(model, x_down_train,x_down_test,y_down_train,y_down_test, train=True)\n",
    "print_score(model, x_down_train,x_down_test,y_down_train,y_down_test, train=False)"
   ]
  },
  {
   "cell_type": "markdown",
   "metadata": {
    "id": "wxtOZmYUBsAe"
   },
   "source": [
    "### Performing Hyper Parameter tuning for DT for UP Sampled Data"
   ]
  },
  {
   "cell_type": "code",
   "execution_count": 42,
   "metadata": {
    "colab": {
     "base_uri": "https://localhost:8080/"
    },
    "id": "DHWtuKOpBsAf",
    "outputId": "2c567d9a-f9ed-4314-84eb-cba6a928c2a6"
   },
   "outputs": [
    {
     "name": "stdout",
     "output_type": "stream",
     "text": [
      "Fitting 3 folds for each of 2052 candidates, totalling 6156 fits\n"
     ]
    },
    {
     "name": "stderr",
     "output_type": "stream",
     "text": [
      "[Parallel(n_jobs=-1)]: Using backend LokyBackend with 2 concurrent workers.\n",
      "[Parallel(n_jobs=-1)]: Done  46 tasks      | elapsed:    3.7s\n",
      "[Parallel(n_jobs=-1)]: Done 196 tasks      | elapsed:   11.5s\n",
      "[Parallel(n_jobs=-1)]: Done 696 tasks      | elapsed:   39.4s\n",
      "[Parallel(n_jobs=-1)]: Done 1396 tasks      | elapsed:  1.5min\n",
      "[Parallel(n_jobs=-1)]: Done 2296 tasks      | elapsed:  2.9min\n",
      "[Parallel(n_jobs=-1)]: Done 3396 tasks      | elapsed:  4.5min\n",
      "[Parallel(n_jobs=-1)]: Done 4696 tasks      | elapsed:  6.1min\n",
      "[Parallel(n_jobs=-1)]: Done 6156 out of 6156 | elapsed:  8.8min finished\n"
     ]
    },
    {
     "name": "stdout",
     "output_type": "stream",
     "text": [
      "Best paramters: {'criterion': 'entropy', 'max_depth': 2, 'min_samples_leaf': 1, 'min_samples_split': 2, 'splitter': 'random'})\n",
      "Train Result:\n",
      "================================================\n",
      "Accuracy Score: 85.12%\n",
      "_______________________________________________\n",
      "CLASSIFICATION REPORT:\n",
      "                      0             1  accuracy      macro avg   weighted avg\n",
      "precision      0.926015      0.798702  0.851249       0.862358       0.862411\n",
      "recall         0.763768      0.938876  0.851249       0.851322       0.851249\n",
      "f1-score       0.837102      0.863135  0.851249       0.850119       0.850108\n",
      "support    79676.000000  79543.000000  0.851249  159219.000000  159219.000000\n",
      "_______________________________________________\n",
      "Confusion Matrix: \n",
      " [[60854 18822]\n",
      " [ 4862 74681]]\n",
      "\n",
      "Test Result:\n",
      "================================================\n",
      "Accuracy Score: 85.03%\n",
      "_______________________________________________\n",
      "CLASSIFICATION REPORT:\n",
      "                      0             1  accuracy     macro avg  weighted avg\n",
      "precision      0.925184      0.798297   0.85032      0.861740      0.861528\n",
      "recall         0.761192      0.938855   0.85032      0.850023      0.850320\n",
      "f1-score       0.835214      0.862889   0.85032      0.849052      0.849098\n",
      "support    19836.000000  19969.000000   0.85032  39805.000000  39805.000000\n",
      "_______________________________________________\n",
      "Confusion Matrix: \n",
      " [[15099  4737]\n",
      " [ 1221 18748]]\n",
      "\n"
     ]
    }
   ],
   "source": [
    "from sklearn.tree import DecisionTreeClassifier\n",
    "from sklearn.model_selection import GridSearchCV\n",
    "\n",
    "params = {\n",
    "    \"criterion\":(\"gini\", \"entropy\"), \n",
    "    \"splitter\":(\"best\", \"random\"), \n",
    "    \"max_depth\":(list(range(1,10))), \n",
    "    \"min_samples_split\":[2, 3, 4], \n",
    "    \"min_samples_leaf\":list(range(1, 20)), \n",
    "}\n",
    "\n",
    "\n",
    "tree_clf = DecisionTreeClassifier(random_state=42)\n",
    "tree_cv = GridSearchCV(tree_clf, params, scoring=\"precision\", n_jobs=-1, verbose=1, cv=3)\n",
    "tree_cv.fit(x_up_train ,y_up_train)\n",
    "best_params = tree_cv.best_params_\n",
    "print(f\"Best paramters: {best_params})\")\n",
    "\n",
    "tree_clf = DecisionTreeClassifier(**best_params)\n",
    "tree_clf.fit(x_up_train ,y_up_train)\n",
    "print_score(clf_tree, x_up_train,x_up_test,y_up_train,y_up_test, train=True)\n",
    "print_score(clf_tree, x_up_train,x_up_test,y_up_train,y_up_test, train=False)\n"
   ]
  },
  {
   "cell_type": "markdown",
   "metadata": {
    "id": "aPnmn7O6BsAg"
   },
   "source": [
    "### Performing Hyper Parameter tuning for DT for DOWN Sampled Data"
   ]
  },
  {
   "cell_type": "code",
   "execution_count": 43,
   "metadata": {
    "colab": {
     "base_uri": "https://localhost:8080/"
    },
    "id": "PGeHvji4BsAh",
    "outputId": "93aa2e6b-36e4-472c-e85c-a1d1d837646d"
   },
   "outputs": [
    {
     "name": "stdout",
     "output_type": "stream",
     "text": [
      "Fitting 3 folds for each of 2052 candidates, totalling 6156 fits\n"
     ]
    },
    {
     "name": "stderr",
     "output_type": "stream",
     "text": [
      "[Parallel(n_jobs=-1)]: Using backend LokyBackend with 2 concurrent workers.\n",
      "[Parallel(n_jobs=-1)]: Done 988 tasks      | elapsed:    2.9s\n",
      "[Parallel(n_jobs=-1)]: Done 5788 tasks      | elapsed:   16.2s\n"
     ]
    },
    {
     "name": "stdout",
     "output_type": "stream",
     "text": [
      "Best paramters: {'criterion': 'gini', 'max_depth': 1, 'min_samples_leaf': 1, 'min_samples_split': 2, 'splitter': 'random'})\n",
      "Train Result:\n",
      "================================================\n",
      "Accuracy Score: 53.03%\n",
      "_______________________________________________\n",
      "CLASSIFICATION REPORT:\n",
      "                   0          1  accuracy   macro avg  weighted avg\n",
      "precision   0.523077   1.000000  0.530303    0.761538      0.754312\n",
      "recall      1.000000   0.031250  0.530303    0.515625      0.530303\n",
      "f1-score    0.686869   0.060606  0.530303    0.373737      0.383226\n",
      "support    68.000000  64.000000  0.530303  132.000000    132.000000\n",
      "_______________________________________________\n",
      "Confusion Matrix: \n",
      " [[68  0]\n",
      " [62  2]]\n",
      "\n",
      "Test Result:\n",
      "================================================\n",
      "Accuracy Score: 44.12%\n",
      "_______________________________________________\n",
      "CLASSIFICATION REPORT:\n",
      "                   0     1  accuracy  macro avg  weighted avg\n",
      "precision   0.441176   0.0  0.441176   0.220588      0.194637\n",
      "recall      1.000000   0.0  0.441176   0.500000      0.441176\n",
      "f1-score    0.612245   0.0  0.441176   0.306122      0.270108\n",
      "support    15.000000  19.0  0.441176  34.000000     34.000000\n",
      "_______________________________________________\n",
      "Confusion Matrix: \n",
      " [[15  0]\n",
      " [19  0]]\n",
      "\n"
     ]
    },
    {
     "name": "stderr",
     "output_type": "stream",
     "text": [
      "[Parallel(n_jobs=-1)]: Done 6156 out of 6156 | elapsed:   17.1s finished\n",
      "/usr/local/lib/python3.7/dist-packages/sklearn/metrics/_classification.py:1272: UndefinedMetricWarning: Precision and F-score are ill-defined and being set to 0.0 in labels with no predicted samples. Use `zero_division` parameter to control this behavior.\n",
      "  _warn_prf(average, modifier, msg_start, len(result))\n"
     ]
    }
   ],
   "source": [
    "from sklearn.tree import DecisionTreeClassifier\n",
    "from sklearn.model_selection import GridSearchCV\n",
    "\n",
    "params = {\n",
    "    \"criterion\":(\"gini\", \"entropy\"), \n",
    "    \"splitter\":(\"best\", \"random\"), \n",
    "    \"max_depth\":(list(range(1,10))), \n",
    "    \"min_samples_split\":[2, 3, 4], \n",
    "    \"min_samples_leaf\":list(range(1, 20)), \n",
    "}\n",
    "\n",
    "\n",
    "tree_clf = DecisionTreeClassifier(random_state=42)\n",
    "tree_cv = GridSearchCV(tree_clf, params, scoring=\"precision\", n_jobs=-1, verbose=1, cv=3)\n",
    "tree_cv.fit(x_down_train,y_down_train)\n",
    "best_params = tree_cv.best_params_\n",
    "print(f\"Best paramters: {best_params})\")\n",
    "\n",
    "clf_tree = DecisionTreeClassifier(**best_params)\n",
    "clf_tree.fit(x_down_train,y_down_train)\n",
    "print_score(clf_tree, x_down_train,x_down_test,y_down_train,y_down_test, train=True)\n",
    "print_score(clf_tree, x_down_train,x_down_test,y_down_train,y_down_test, train=False)"
   ]
  },
  {
   "cell_type": "markdown",
   "metadata": {
    "id": "g45_9mJ3BsAi"
   },
   "source": [
    "### Random Forest hyperparameter tuning for UP Sampled Data"
   ]
  },
  {
   "cell_type": "code",
   "execution_count": 45,
   "metadata": {
    "colab": {
     "base_uri": "https://localhost:8080/"
    },
    "id": "gI_WxmOxdW_F",
    "outputId": "00f8e38d-501c-4943-cf20-0e5e433e3df8"
   },
   "outputs": [
    {
     "name": "stdout",
     "output_type": "stream",
     "text": [
      "Fitting 3 folds for each of 144 candidates, totalling 432 fits\n"
     ]
    },
    {
     "name": "stderr",
     "output_type": "stream",
     "text": [
      "[Parallel(n_jobs=-1)]: Using backend LokyBackend with 2 concurrent workers.\n",
      "[Parallel(n_jobs=-1)]: Done  46 tasks      | elapsed:  1.2min\n",
      "[Parallel(n_jobs=-1)]: Done 196 tasks      | elapsed:  5.5min\n",
      "[Parallel(n_jobs=-1)]: Done 432 out of 432 | elapsed: 17.3min finished\n"
     ]
    },
    {
     "name": "stdout",
     "output_type": "stream",
     "text": [
      "Best parameters: {'max_depth': None, 'max_features': 'auto', 'min_samples_leaf': 1, 'min_samples_split': 2, 'n_estimators': 100}\n",
      "Train Result:\n",
      "================================================\n",
      "Accuracy Score: 88.75%\n",
      "_______________________________________________\n",
      "CLASSIFICATION REPORT:\n",
      "                      0             1  accuracy      macro avg   weighted avg\n",
      "precision      0.920555      0.859229  0.887513       0.889892       0.889918\n",
      "recall         0.848436      0.926656  0.887513       0.887546       0.887513\n",
      "f1-score       0.883025      0.891670  0.887513       0.887348       0.887344\n",
      "support    79676.000000  79543.000000  0.887513  159219.000000  159219.000000\n",
      "_______________________________________________\n",
      "Confusion Matrix: \n",
      " [[67600 12076]\n",
      " [ 5834 73709]]\n",
      "\n",
      "Test Result:\n",
      "================================================\n",
      "Accuracy Score: 88.60%\n",
      "_______________________________________________\n",
      "CLASSIFICATION REPORT:\n",
      "                      0             1  accuracy     macro avg  weighted avg\n",
      "precision      0.919675      0.857547  0.885994      0.888611      0.888507\n",
      "recall         0.845029      0.926686  0.885994      0.885858      0.885994\n",
      "f1-score       0.880773      0.890777  0.885994      0.885775      0.885792\n",
      "support    19836.000000  19969.000000  0.885994  39805.000000  39805.000000\n",
      "_______________________________________________\n",
      "Confusion Matrix: \n",
      " [[16762  3074]\n",
      " [ 1464 18505]]\n",
      "\n"
     ]
    }
   ],
   "source": [
    "n_estimators = [50,100]\n",
    "max_features = ['auto', 'sqrt']\n",
    "max_depth = [2, 3, 5]\n",
    "max_depth.append(None)\n",
    "min_samples_split = [2, 5, 7]\n",
    "min_samples_leaf = [1, 2, 4]\n",
    "\n",
    "\n",
    "params_grid = {'n_estimators': n_estimators, 'max_features': max_features,\n",
    "               'max_depth': max_depth, 'min_samples_split': min_samples_split,\n",
    "               'min_samples_leaf': min_samples_leaf}\n",
    "\n",
    "\n",
    "rf_clf = RandomForestClassifier(random_state=42)\n",
    "\n",
    "rf_cv = GridSearchCV(rf_clf, params_grid, scoring=\"precision\", cv=3, verbose=1, n_jobs=-1)\n",
    "\n",
    "\n",
    "rf_cv.fit(x_up_train,y_up_train)\n",
    "best_params = rf_cv.best_params_\n",
    "print(f\"Best parameters: {best_params}\")\n",
    "\n",
    "rf_clf = RandomForestClassifier(**best_params)\n",
    "rf_clf.fit(x_up_train,y_up_train)\n",
    "\n",
    "print_score(clf_rf, x_up_train,x_up_test,y_up_train,y_up_test, train=True)\n",
    "print_score(clf_rf, x_up_train,x_up_test,y_up_train,y_up_test, train=False)"
   ]
  },
  {
   "cell_type": "markdown",
   "metadata": {
    "id": "NJNgW92ABsAj"
   },
   "source": [
    "### Performing Hyper Parameter tuning for DT for DOWN Sampled Data"
   ]
  },
  {
   "cell_type": "code",
   "execution_count": 46,
   "metadata": {
    "colab": {
     "base_uri": "https://localhost:8080/"
    },
    "id": "zNfk6ZJndQrO",
    "outputId": "b50bd02b-8e55-474a-bb40-9303c0528a29"
   },
   "outputs": [
    {
     "name": "stdout",
     "output_type": "stream",
     "text": [
      "Fitting 3 folds for each of 144 candidates, totalling 432 fits\n"
     ]
    },
    {
     "name": "stderr",
     "output_type": "stream",
     "text": [
      "[Parallel(n_jobs=-1)]: Using backend LokyBackend with 2 concurrent workers.\n",
      "[Parallel(n_jobs=-1)]: Done  88 tasks      | elapsed:    7.7s\n",
      "[Parallel(n_jobs=-1)]: Done 388 tasks      | elapsed:   33.7s\n"
     ]
    },
    {
     "name": "stdout",
     "output_type": "stream",
     "text": [
      "Best parameters: {'max_depth': 3, 'max_features': 'auto', 'min_samples_leaf': 2, 'min_samples_split': 2, 'n_estimators': 50}\n",
      "Train Result:\n",
      "================================================\n",
      "Accuracy Score: 100.00%\n",
      "_______________________________________________\n",
      "CLASSIFICATION REPORT:\n",
      "              0     1  accuracy  macro avg  weighted avg\n",
      "precision   1.0   1.0       1.0        1.0           1.0\n",
      "recall      1.0   1.0       1.0        1.0           1.0\n",
      "f1-score    1.0   1.0       1.0        1.0           1.0\n",
      "support    68.0  64.0       1.0      132.0         132.0\n",
      "_______________________________________________\n",
      "Confusion Matrix: \n",
      " [[68  0]\n",
      " [ 0 64]]\n",
      "\n",
      "Test Result:\n",
      "================================================\n",
      "Accuracy Score: 73.53%\n",
      "_______________________________________________\n",
      "CLASSIFICATION REPORT:\n",
      "                   0          1  accuracy  macro avg  weighted avg\n",
      "precision   0.666667   0.812500  0.735294   0.739583      0.748162\n",
      "recall      0.800000   0.684211  0.735294   0.742105      0.735294\n",
      "f1-score    0.727273   0.742857  0.735294   0.735065      0.735982\n",
      "support    15.000000  19.000000  0.735294  34.000000     34.000000\n",
      "_______________________________________________\n",
      "Confusion Matrix: \n",
      " [[12  3]\n",
      " [ 6 13]]\n",
      "\n"
     ]
    },
    {
     "name": "stderr",
     "output_type": "stream",
     "text": [
      "[Parallel(n_jobs=-1)]: Done 432 out of 432 | elapsed:   37.4s finished\n"
     ]
    }
   ],
   "source": [
    "n_estimators = [50, 100]\n",
    "max_features = ['auto', 'sqrt']\n",
    "max_depth = [2, 3, 5]\n",
    "max_depth.append(None)\n",
    "min_samples_split = [2, 5, 7]\n",
    "min_samples_leaf = [1, 2, 4]\n",
    "\n",
    "\n",
    "params_grid = {'n_estimators': n_estimators, 'max_features': max_features,\n",
    "               'max_depth': max_depth, 'min_samples_split': min_samples_split,\n",
    "               'min_samples_leaf': min_samples_leaf}\n",
    "\n",
    "\n",
    "rf_clf = RandomForestClassifier(random_state=42)\n",
    "\n",
    "rf_cv = GridSearchCV(rf_clf, params_grid, scoring=\"precision\", cv=2, verbose=1, n_jobs=-1)\n",
    "\n",
    "\n",
    "rf_cv.fit(x_down_train,y_down_train)\n",
    "best_params = rf_cv.best_params_\n",
    "print(f\"Best parameters: {best_params}\")\n",
    "\n",
    "rf_clf = RandomForestClassifier(**best_params)\n",
    "rf_clf.fit(x_down_train,y_down_train)\n",
    "\n",
    "print_score(clf_rf, x_down_train,x_down_test,y_down_train,y_down_test, train=True)\n",
    "print_score(clf_rf, x_down_train,x_down_test,y_down_train,y_down_test, train=False)"
   ]
  },
  {
   "cell_type": "markdown",
   "metadata": {
    "id": "CpcrMPo8d2Uo"
   },
   "source": [
    "As per precision rate the best model will be: DT or RF with UP Sampled Data because precision rate for both is Good."
   ]
  }
 ],
 "metadata": {
  "colab": {
   "collapsed_sections": [],
   "name": "Manufacturing_Device_Failure_Model_Balanced.ipynb",
   "provenance": []
  },
  "kernelspec": {
   "display_name": "Python 3",
   "language": "python",
   "name": "python3"
  },
  "language_info": {
   "codemirror_mode": {
    "name": "ipython",
    "version": 3
   },
   "file_extension": ".py",
   "mimetype": "text/x-python",
   "name": "python",
   "nbconvert_exporter": "python",
   "pygments_lexer": "ipython3",
   "version": "3.7.6"
  }
 },
 "nbformat": 4,
 "nbformat_minor": 1
}
