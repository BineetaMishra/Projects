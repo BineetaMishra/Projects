{
 "cells": [
  {
   "cell_type": "markdown",
   "metadata": {},
   "source": [
    "# Business Problem: Predict product failure for a transmission device based harware company."
   ]
  },
  {
   "cell_type": "code",
   "execution_count": 1,
   "metadata": {},
   "outputs": [],
   "source": [
    "#Importing the libraries\n",
    "\n",
    "import pandas as pd\n",
    "import numpy as np\n",
    "import matplotlib.pyplot as plt\n",
    "import seaborn as sns "
   ]
  },
  {
   "cell_type": "code",
   "execution_count": 2,
   "metadata": {},
   "outputs": [],
   "source": [
    "# Importing the dataset\n",
    "df=pd.read_csv('DeviceFailure.csv')"
   ]
  },
  {
   "cell_type": "code",
   "execution_count": 3,
   "metadata": {},
   "outputs": [
    {
     "data": {
      "text/html": [
       "<div>\n",
       "<style scoped>\n",
       "    .dataframe tbody tr th:only-of-type {\n",
       "        vertical-align: middle;\n",
       "    }\n",
       "\n",
       "    .dataframe tbody tr th {\n",
       "        vertical-align: top;\n",
       "    }\n",
       "\n",
       "    .dataframe thead th {\n",
       "        text-align: right;\n",
       "    }\n",
       "</style>\n",
       "<table border=\"1\" class=\"dataframe\">\n",
       "  <thead>\n",
       "    <tr style=\"text-align: right;\">\n",
       "      <th></th>\n",
       "      <th>device</th>\n",
       "      <th>failure</th>\n",
       "      <th>attribute1</th>\n",
       "      <th>attribute2</th>\n",
       "      <th>attribute4</th>\n",
       "      <th>attribute5</th>\n",
       "      <th>attribute7</th>\n",
       "      <th>attribute9</th>\n",
       "    </tr>\n",
       "  </thead>\n",
       "  <tbody>\n",
       "    <tr>\n",
       "      <th>0</th>\n",
       "      <td>S1F01085</td>\n",
       "      <td>0</td>\n",
       "      <td>215630672</td>\n",
       "      <td>56</td>\n",
       "      <td>52</td>\n",
       "      <td>6</td>\n",
       "      <td>0</td>\n",
       "      <td>7</td>\n",
       "    </tr>\n",
       "    <tr>\n",
       "      <th>1</th>\n",
       "      <td>S1F01085</td>\n",
       "      <td>0</td>\n",
       "      <td>1650864</td>\n",
       "      <td>56</td>\n",
       "      <td>52</td>\n",
       "      <td>6</td>\n",
       "      <td>0</td>\n",
       "      <td>7</td>\n",
       "    </tr>\n",
       "    <tr>\n",
       "      <th>2</th>\n",
       "      <td>S1F01085</td>\n",
       "      <td>0</td>\n",
       "      <td>124017368</td>\n",
       "      <td>56</td>\n",
       "      <td>52</td>\n",
       "      <td>6</td>\n",
       "      <td>0</td>\n",
       "      <td>7</td>\n",
       "    </tr>\n",
       "    <tr>\n",
       "      <th>3</th>\n",
       "      <td>S1F01085</td>\n",
       "      <td>0</td>\n",
       "      <td>128073224</td>\n",
       "      <td>56</td>\n",
       "      <td>52</td>\n",
       "      <td>6</td>\n",
       "      <td>0</td>\n",
       "      <td>7</td>\n",
       "    </tr>\n",
       "    <tr>\n",
       "      <th>4</th>\n",
       "      <td>S1F01085</td>\n",
       "      <td>0</td>\n",
       "      <td>97393448</td>\n",
       "      <td>56</td>\n",
       "      <td>52</td>\n",
       "      <td>6</td>\n",
       "      <td>0</td>\n",
       "      <td>7</td>\n",
       "    </tr>\n",
       "  </tbody>\n",
       "</table>\n",
       "</div>"
      ],
      "text/plain": [
       "     device  failure  attribute1  attribute2  attribute4  attribute5  \\\n",
       "0  S1F01085        0   215630672          56          52           6   \n",
       "1  S1F01085        0     1650864          56          52           6   \n",
       "2  S1F01085        0   124017368          56          52           6   \n",
       "3  S1F01085        0   128073224          56          52           6   \n",
       "4  S1F01085        0    97393448          56          52           6   \n",
       "\n",
       "   attribute7  attribute9  \n",
       "0           0           7  \n",
       "1           0           7  \n",
       "2           0           7  \n",
       "3           0           7  \n",
       "4           0           7  "
      ]
     },
     "execution_count": 3,
     "metadata": {},
     "output_type": "execute_result"
    }
   ],
   "source": [
    "# Checking the dataset loaded correctly\n",
    "df.head()"
   ]
  },
  {
   "cell_type": "code",
   "execution_count": 4,
   "metadata": {},
   "outputs": [
    {
     "data": {
      "text/html": [
       "<div>\n",
       "<style scoped>\n",
       "    .dataframe tbody tr th:only-of-type {\n",
       "        vertical-align: middle;\n",
       "    }\n",
       "\n",
       "    .dataframe tbody tr th {\n",
       "        vertical-align: top;\n",
       "    }\n",
       "\n",
       "    .dataframe thead th {\n",
       "        text-align: right;\n",
       "    }\n",
       "</style>\n",
       "<table border=\"1\" class=\"dataframe\">\n",
       "  <thead>\n",
       "    <tr style=\"text-align: right;\">\n",
       "      <th></th>\n",
       "      <th>device</th>\n",
       "      <th>failure</th>\n",
       "      <th>attribute1</th>\n",
       "      <th>attribute2</th>\n",
       "      <th>attribute4</th>\n",
       "      <th>attribute5</th>\n",
       "      <th>attribute7</th>\n",
       "      <th>attribute9</th>\n",
       "    </tr>\n",
       "  </thead>\n",
       "  <tbody>\n",
       "    <tr>\n",
       "      <th>124489</th>\n",
       "      <td>Z1F2PBHX</td>\n",
       "      <td>0</td>\n",
       "      <td>180917784</td>\n",
       "      <td>0</td>\n",
       "      <td>0</td>\n",
       "      <td>5</td>\n",
       "      <td>0</td>\n",
       "      <td>0</td>\n",
       "    </tr>\n",
       "    <tr>\n",
       "      <th>124490</th>\n",
       "      <td>Z1F2PBHX</td>\n",
       "      <td>0</td>\n",
       "      <td>33952520</td>\n",
       "      <td>0</td>\n",
       "      <td>0</td>\n",
       "      <td>5</td>\n",
       "      <td>0</td>\n",
       "      <td>0</td>\n",
       "    </tr>\n",
       "    <tr>\n",
       "      <th>124491</th>\n",
       "      <td>Z1F2PBHX</td>\n",
       "      <td>0</td>\n",
       "      <td>59053184</td>\n",
       "      <td>0</td>\n",
       "      <td>0</td>\n",
       "      <td>5</td>\n",
       "      <td>0</td>\n",
       "      <td>0</td>\n",
       "    </tr>\n",
       "    <tr>\n",
       "      <th>124492</th>\n",
       "      <td>Z1F2PBHX</td>\n",
       "      <td>0</td>\n",
       "      <td>110545440</td>\n",
       "      <td>0</td>\n",
       "      <td>0</td>\n",
       "      <td>5</td>\n",
       "      <td>0</td>\n",
       "      <td>0</td>\n",
       "    </tr>\n",
       "    <tr>\n",
       "      <th>124493</th>\n",
       "      <td>Z1F2PBHX</td>\n",
       "      <td>0</td>\n",
       "      <td>130522432</td>\n",
       "      <td>0</td>\n",
       "      <td>0</td>\n",
       "      <td>5</td>\n",
       "      <td>0</td>\n",
       "      <td>0</td>\n",
       "    </tr>\n",
       "  </tbody>\n",
       "</table>\n",
       "</div>"
      ],
      "text/plain": [
       "          device  failure  attribute1  attribute2  attribute4  attribute5  \\\n",
       "124489  Z1F2PBHX        0   180917784           0           0           5   \n",
       "124490  Z1F2PBHX        0    33952520           0           0           5   \n",
       "124491  Z1F2PBHX        0    59053184           0           0           5   \n",
       "124492  Z1F2PBHX        0   110545440           0           0           5   \n",
       "124493  Z1F2PBHX        0   130522432           0           0           5   \n",
       "\n",
       "        attribute7  attribute9  \n",
       "124489           0           0  \n",
       "124490           0           0  \n",
       "124491           0           0  \n",
       "124492           0           0  \n",
       "124493           0           0  "
      ]
     },
     "execution_count": 4,
     "metadata": {},
     "output_type": "execute_result"
    }
   ],
   "source": [
    "df.tail()"
   ]
  },
  {
   "cell_type": "code",
   "execution_count": 5,
   "metadata": {},
   "outputs": [
    {
     "data": {
      "text/plain": [
       "0    124388\n",
       "1       106\n",
       "Name: failure, dtype: int64"
      ]
     },
     "execution_count": 5,
     "metadata": {},
     "output_type": "execute_result"
    }
   ],
   "source": [
    "df['failure'].value_counts()"
   ]
  },
  {
   "cell_type": "raw",
   "metadata": {},
   "source": [
    "Note: \n",
    "    this is an imbalance dataset. IT SOULD BE BALANCED."
   ]
  },
  {
   "cell_type": "code",
   "execution_count": 6,
   "metadata": {},
   "outputs": [],
   "source": [
    "# Data Pre processing\n",
    "x = df.loc[:, df.columns != \"failure\"]\n",
    "y = df['failure']"
   ]
  },
  {
   "cell_type": "code",
   "execution_count": 7,
   "metadata": {},
   "outputs": [
    {
     "data": {
      "text/html": [
       "<div>\n",
       "<style scoped>\n",
       "    .dataframe tbody tr th:only-of-type {\n",
       "        vertical-align: middle;\n",
       "    }\n",
       "\n",
       "    .dataframe tbody tr th {\n",
       "        vertical-align: top;\n",
       "    }\n",
       "\n",
       "    .dataframe thead th {\n",
       "        text-align: right;\n",
       "    }\n",
       "</style>\n",
       "<table border=\"1\" class=\"dataframe\">\n",
       "  <thead>\n",
       "    <tr style=\"text-align: right;\">\n",
       "      <th></th>\n",
       "      <th>device</th>\n",
       "      <th>attribute1</th>\n",
       "      <th>attribute2</th>\n",
       "      <th>attribute4</th>\n",
       "      <th>attribute5</th>\n",
       "      <th>attribute7</th>\n",
       "      <th>attribute9</th>\n",
       "    </tr>\n",
       "  </thead>\n",
       "  <tbody>\n",
       "    <tr>\n",
       "      <th>0</th>\n",
       "      <td>S1F01085</td>\n",
       "      <td>215630672</td>\n",
       "      <td>56</td>\n",
       "      <td>52</td>\n",
       "      <td>6</td>\n",
       "      <td>0</td>\n",
       "      <td>7</td>\n",
       "    </tr>\n",
       "    <tr>\n",
       "      <th>1</th>\n",
       "      <td>S1F01085</td>\n",
       "      <td>1650864</td>\n",
       "      <td>56</td>\n",
       "      <td>52</td>\n",
       "      <td>6</td>\n",
       "      <td>0</td>\n",
       "      <td>7</td>\n",
       "    </tr>\n",
       "    <tr>\n",
       "      <th>2</th>\n",
       "      <td>S1F01085</td>\n",
       "      <td>124017368</td>\n",
       "      <td>56</td>\n",
       "      <td>52</td>\n",
       "      <td>6</td>\n",
       "      <td>0</td>\n",
       "      <td>7</td>\n",
       "    </tr>\n",
       "    <tr>\n",
       "      <th>3</th>\n",
       "      <td>S1F01085</td>\n",
       "      <td>128073224</td>\n",
       "      <td>56</td>\n",
       "      <td>52</td>\n",
       "      <td>6</td>\n",
       "      <td>0</td>\n",
       "      <td>7</td>\n",
       "    </tr>\n",
       "    <tr>\n",
       "      <th>4</th>\n",
       "      <td>S1F01085</td>\n",
       "      <td>97393448</td>\n",
       "      <td>56</td>\n",
       "      <td>52</td>\n",
       "      <td>6</td>\n",
       "      <td>0</td>\n",
       "      <td>7</td>\n",
       "    </tr>\n",
       "  </tbody>\n",
       "</table>\n",
       "</div>"
      ],
      "text/plain": [
       "     device  attribute1  attribute2  attribute4  attribute5  attribute7  \\\n",
       "0  S1F01085   215630672          56          52           6           0   \n",
       "1  S1F01085     1650864          56          52           6           0   \n",
       "2  S1F01085   124017368          56          52           6           0   \n",
       "3  S1F01085   128073224          56          52           6           0   \n",
       "4  S1F01085    97393448          56          52           6           0   \n",
       "\n",
       "   attribute9  \n",
       "0           7  \n",
       "1           7  \n",
       "2           7  \n",
       "3           7  \n",
       "4           7  "
      ]
     },
     "execution_count": 7,
     "metadata": {},
     "output_type": "execute_result"
    }
   ],
   "source": [
    "x.head()"
   ]
  },
  {
   "cell_type": "code",
   "execution_count": 8,
   "metadata": {},
   "outputs": [
    {
     "data": {
      "text/plain": [
       "0    0\n",
       "1    0\n",
       "2    0\n",
       "3    0\n",
       "4    0\n",
       "Name: failure, dtype: int64"
      ]
     },
     "execution_count": 8,
     "metadata": {},
     "output_type": "execute_result"
    }
   ],
   "source": [
    "y.head()"
   ]
  },
  {
   "cell_type": "code",
   "execution_count": 9,
   "metadata": {},
   "outputs": [],
   "source": [
    "# Splitting the Data\n",
    "from sklearn.model_selection import train_test_split\n",
    "\n",
    "x_train,x_test,y_train,y_test= train_test_split(x,y,test_size=0.2,random_state=0)"
   ]
  },
  {
   "cell_type": "code",
   "execution_count": 10,
   "metadata": {},
   "outputs": [],
   "source": [
    "# Removing the device column as it is not a real feature.\n",
    "# but at the end we will use this data associating the prediction from user it came from\n",
    "\n",
    "train_identifier = x_train['device']\n",
    "x_train = x_train.drop(columns=['device'])\n",
    "\n",
    "test_identifier = x_test['device']\n",
    "x_test = x_test.drop(columns=['device'])"
   ]
  },
  {
   "cell_type": "code",
   "execution_count": 11,
   "metadata": {},
   "outputs": [],
   "source": [
    "#Feature Scaling\n",
    "from sklearn.preprocessing import StandardScaler\n",
    "sc= StandardScaler()"
   ]
  },
  {
   "cell_type": "code",
   "execution_count": 12,
   "metadata": {},
   "outputs": [],
   "source": [
    "# scale the x_train and create a new variable for scaled x_train\n",
    "#Standard scaler returns a numpy array so we need to convert to DataFrame\n",
    "#In array form 'index' and 'column names' are lost we need it so convert to Df\n",
    "\n",
    "x_train_scaled= pd.DataFrame(sc.fit_transform(x_train))\n",
    "x_test_scaled = pd.DataFrame(sc.transform(x_test))"
   ]
  },
  {
   "cell_type": "code",
   "execution_count": 13,
   "metadata": {},
   "outputs": [],
   "source": [
    "# put x_train_scaled have the columns of original x_train set\n",
    "x_train_scaled.columns = x_train.columns.values\n",
    "\n",
    "# put x_test_scaled have the columns of original x_test set\n",
    "x_test_scaled.columns = x_test.columns.values\n",
    "\n",
    "# take the indexes also\n",
    "x_train_scaled.index = x_train.index.values\n",
    "x_test_scaled.index = x_test.index.values"
   ]
  },
  {
   "cell_type": "markdown",
   "metadata": {},
   "source": [
    "## Balanicing the Dataset."
   ]
  },
  {
   "cell_type": "code",
   "execution_count": 14,
   "metadata": {},
   "outputs": [
    {
     "data": {
      "text/html": [
       "<div>\n",
       "<style scoped>\n",
       "    .dataframe tbody tr th:only-of-type {\n",
       "        vertical-align: middle;\n",
       "    }\n",
       "\n",
       "    .dataframe tbody tr th {\n",
       "        vertical-align: top;\n",
       "    }\n",
       "\n",
       "    .dataframe thead th {\n",
       "        text-align: right;\n",
       "    }\n",
       "</style>\n",
       "<table border=\"1\" class=\"dataframe\">\n",
       "  <thead>\n",
       "    <tr style=\"text-align: right;\">\n",
       "      <th></th>\n",
       "      <th>attribute1</th>\n",
       "      <th>attribute2</th>\n",
       "      <th>attribute4</th>\n",
       "      <th>attribute5</th>\n",
       "      <th>attribute7</th>\n",
       "      <th>attribute9</th>\n",
       "      <th>failure</th>\n",
       "    </tr>\n",
       "  </thead>\n",
       "  <tbody>\n",
       "    <tr>\n",
       "      <th>12239</th>\n",
       "      <td>0.682920</td>\n",
       "      <td>-0.073271</td>\n",
       "      <td>-0.077923</td>\n",
       "      <td>-0.454198</td>\n",
       "      <td>-0.041268</td>\n",
       "      <td>-0.065921</td>\n",
       "      <td>0</td>\n",
       "    </tr>\n",
       "    <tr>\n",
       "      <th>93561</th>\n",
       "      <td>1.408937</td>\n",
       "      <td>-0.073271</td>\n",
       "      <td>-0.077923</td>\n",
       "      <td>-0.202428</td>\n",
       "      <td>-0.041268</td>\n",
       "      <td>-0.065921</td>\n",
       "      <td>0</td>\n",
       "    </tr>\n",
       "    <tr>\n",
       "      <th>83776</th>\n",
       "      <td>1.089498</td>\n",
       "      <td>-0.073271</td>\n",
       "      <td>-0.077923</td>\n",
       "      <td>-0.202428</td>\n",
       "      <td>-0.041268</td>\n",
       "      <td>-0.065921</td>\n",
       "      <td>0</td>\n",
       "    </tr>\n",
       "    <tr>\n",
       "      <th>35276</th>\n",
       "      <td>0.959044</td>\n",
       "      <td>-0.073271</td>\n",
       "      <td>-0.077923</td>\n",
       "      <td>-0.391255</td>\n",
       "      <td>-0.041268</td>\n",
       "      <td>-0.060674</td>\n",
       "      <td>0</td>\n",
       "    </tr>\n",
       "    <tr>\n",
       "      <th>28461</th>\n",
       "      <td>-1.670694</td>\n",
       "      <td>-0.073271</td>\n",
       "      <td>-0.077923</td>\n",
       "      <td>-0.202428</td>\n",
       "      <td>-0.041268</td>\n",
       "      <td>-0.065921</td>\n",
       "      <td>0</td>\n",
       "    </tr>\n",
       "    <tr>\n",
       "      <th>96033</th>\n",
       "      <td>1.521889</td>\n",
       "      <td>-0.073271</td>\n",
       "      <td>-0.077923</td>\n",
       "      <td>-0.391255</td>\n",
       "      <td>-0.041268</td>\n",
       "      <td>-0.065921</td>\n",
       "      <td>0</td>\n",
       "    </tr>\n",
       "    <tr>\n",
       "      <th>96488</th>\n",
       "      <td>0.444899</td>\n",
       "      <td>-0.073271</td>\n",
       "      <td>-0.077923</td>\n",
       "      <td>-0.202428</td>\n",
       "      <td>-0.041268</td>\n",
       "      <td>-0.065921</td>\n",
       "      <td>0</td>\n",
       "    </tr>\n",
       "    <tr>\n",
       "      <th>5253</th>\n",
       "      <td>-0.241317</td>\n",
       "      <td>-0.073271</td>\n",
       "      <td>-0.077923</td>\n",
       "      <td>-0.265370</td>\n",
       "      <td>-0.041268</td>\n",
       "      <td>-0.065921</td>\n",
       "      <td>0</td>\n",
       "    </tr>\n",
       "    <tr>\n",
       "      <th>34415</th>\n",
       "      <td>-1.374782</td>\n",
       "      <td>-0.073271</td>\n",
       "      <td>-0.077923</td>\n",
       "      <td>-0.265370</td>\n",
       "      <td>-0.041268</td>\n",
       "      <td>-0.065921</td>\n",
       "      <td>0</td>\n",
       "    </tr>\n",
       "    <tr>\n",
       "      <th>66059</th>\n",
       "      <td>-0.482727</td>\n",
       "      <td>-0.073271</td>\n",
       "      <td>-0.077923</td>\n",
       "      <td>-0.517140</td>\n",
       "      <td>-0.041268</td>\n",
       "      <td>-0.060674</td>\n",
       "      <td>0</td>\n",
       "    </tr>\n",
       "  </tbody>\n",
       "</table>\n",
       "</div>"
      ],
      "text/plain": [
       "       attribute1  attribute2  attribute4  attribute5  attribute7  attribute9  \\\n",
       "12239    0.682920   -0.073271   -0.077923   -0.454198   -0.041268   -0.065921   \n",
       "93561    1.408937   -0.073271   -0.077923   -0.202428   -0.041268   -0.065921   \n",
       "83776    1.089498   -0.073271   -0.077923   -0.202428   -0.041268   -0.065921   \n",
       "35276    0.959044   -0.073271   -0.077923   -0.391255   -0.041268   -0.060674   \n",
       "28461   -1.670694   -0.073271   -0.077923   -0.202428   -0.041268   -0.065921   \n",
       "96033    1.521889   -0.073271   -0.077923   -0.391255   -0.041268   -0.065921   \n",
       "96488    0.444899   -0.073271   -0.077923   -0.202428   -0.041268   -0.065921   \n",
       "5253    -0.241317   -0.073271   -0.077923   -0.265370   -0.041268   -0.065921   \n",
       "34415   -1.374782   -0.073271   -0.077923   -0.265370   -0.041268   -0.065921   \n",
       "66059   -0.482727   -0.073271   -0.077923   -0.517140   -0.041268   -0.060674   \n",
       "\n",
       "       failure  \n",
       "12239        0  \n",
       "93561        0  \n",
       "83776        0  \n",
       "35276        0  \n",
       "28461        0  \n",
       "96033        0  \n",
       "96488        0  \n",
       "5253         0  \n",
       "34415        0  \n",
       "66059        0  "
      ]
     },
     "execution_count": 14,
     "metadata": {},
     "output_type": "execute_result"
    }
   ],
   "source": [
    "# Balanicing the Dataset.\n",
    "# create the training df by remerging X_train and y_train\n",
    "df_train = x_train_scaled.join(y_train)\n",
    "df_train.sample(10)"
   ]
  },
  {
   "cell_type": "code",
   "execution_count": 15,
   "metadata": {},
   "outputs": [
    {
     "name": "stdout",
     "output_type": "stream",
     "text": [
      "99512\n",
      "-----------\n",
      "83\n",
      "-----------\n",
      "0    99512\n",
      "1       83\n",
      "Name: failure, dtype: int64\n"
     ]
    }
   ],
   "source": [
    "from sklearn.utils import resample\n",
    "\n",
    "# Separate majority and minority classes\n",
    "df_majority = df_train[df_train.failure==0]\n",
    "df_minority = df_train[df_train.failure==1]\n",
    "\n",
    "print(df_majority.failure.count())\n",
    "print(\"-----------\")\n",
    "print(df_minority.failure.count())\n",
    "print(\"-----------\")\n",
    "print(df_train.failure.value_counts())"
   ]
  },
  {
   "cell_type": "markdown",
   "metadata": {},
   "source": [
    "<b> UP-Sampling the Data"
   ]
  },
  {
   "cell_type": "code",
   "execution_count": 16,
   "metadata": {},
   "outputs": [
    {
     "data": {
      "text/plain": [
       "1    99512\n",
       "0    99512\n",
       "Name: failure, dtype: int64"
      ]
     },
     "execution_count": 16,
     "metadata": {},
     "output_type": "execute_result"
    }
   ],
   "source": [
    "# UPSAMPLING\n",
    "# Upsample minority class\n",
    "df_minority_upsampled = resample(df_minority, \n",
    "                                 replace=True,     # sample with replacement\n",
    "                                 n_samples=99512,    # to match majority class\n",
    "                                 random_state=587) # reproducible results\n",
    "# Combine majority class with upsampled minority class\n",
    "df_upsampled = pd.concat([df_majority, df_minority_upsampled])\n",
    "# Display new class counts\n",
    "df_upsampled.failure.value_counts()"
   ]
  },
  {
   "cell_type": "code",
   "execution_count": 17,
   "metadata": {},
   "outputs": [],
   "source": [
    "x_upsampled = df_upsampled.drop(['failure'], axis= 1)\n",
    "y_upsampled = df_upsampled.failure"
   ]
  },
  {
   "cell_type": "code",
   "execution_count": 18,
   "metadata": {},
   "outputs": [],
   "source": [
    "# Splitting the Data\n",
    "from sklearn.model_selection import train_test_split\n",
    "\n",
    "x_up_train,x_up_test,y_up_train,y_up_test= train_test_split(x_upsampled,y_upsampled,test_size=0.2,random_state=0)"
   ]
  },
  {
   "cell_type": "code",
   "execution_count": 19,
   "metadata": {},
   "outputs": [
    {
     "data": {
      "text/html": [
       "<div>\n",
       "<style scoped>\n",
       "    .dataframe tbody tr th:only-of-type {\n",
       "        vertical-align: middle;\n",
       "    }\n",
       "\n",
       "    .dataframe tbody tr th {\n",
       "        vertical-align: top;\n",
       "    }\n",
       "\n",
       "    .dataframe thead th {\n",
       "        text-align: right;\n",
       "    }\n",
       "</style>\n",
       "<table border=\"1\" class=\"dataframe\">\n",
       "  <thead>\n",
       "    <tr style=\"text-align: right;\">\n",
       "      <th></th>\n",
       "      <th>attribute1</th>\n",
       "      <th>attribute2</th>\n",
       "      <th>attribute4</th>\n",
       "      <th>attribute5</th>\n",
       "      <th>attribute7</th>\n",
       "      <th>attribute9</th>\n",
       "    </tr>\n",
       "  </thead>\n",
       "  <tbody>\n",
       "    <tr>\n",
       "      <th>64496</th>\n",
       "      <td>0.473767</td>\n",
       "      <td>-0.073271</td>\n",
       "      <td>-0.077923</td>\n",
       "      <td>-0.013600</td>\n",
       "      <td>-0.041268</td>\n",
       "      <td>-0.065921</td>\n",
       "    </tr>\n",
       "    <tr>\n",
       "      <th>23861</th>\n",
       "      <td>0.417016</td>\n",
       "      <td>-0.073271</td>\n",
       "      <td>-0.077923</td>\n",
       "      <td>-0.391255</td>\n",
       "      <td>10.918911</td>\n",
       "      <td>-0.065921</td>\n",
       "    </tr>\n",
       "    <tr>\n",
       "      <th>10716</th>\n",
       "      <td>0.293393</td>\n",
       "      <td>-0.073271</td>\n",
       "      <td>-0.077923</td>\n",
       "      <td>-0.013600</td>\n",
       "      <td>-0.041268</td>\n",
       "      <td>-0.065921</td>\n",
       "    </tr>\n",
       "    <tr>\n",
       "      <th>35081</th>\n",
       "      <td>-0.790088</td>\n",
       "      <td>-0.073271</td>\n",
       "      <td>-0.077923</td>\n",
       "      <td>-0.202428</td>\n",
       "      <td>-0.041268</td>\n",
       "      <td>-0.034435</td>\n",
       "    </tr>\n",
       "    <tr>\n",
       "      <th>22640</th>\n",
       "      <td>-1.024272</td>\n",
       "      <td>-0.073271</td>\n",
       "      <td>-0.077923</td>\n",
       "      <td>-0.517140</td>\n",
       "      <td>-0.041268</td>\n",
       "      <td>-0.065921</td>\n",
       "    </tr>\n",
       "  </tbody>\n",
       "</table>\n",
       "</div>"
      ],
      "text/plain": [
       "       attribute1  attribute2  attribute4  attribute5  attribute7  attribute9\n",
       "64496    0.473767   -0.073271   -0.077923   -0.013600   -0.041268   -0.065921\n",
       "23861    0.417016   -0.073271   -0.077923   -0.391255   10.918911   -0.065921\n",
       "10716    0.293393   -0.073271   -0.077923   -0.013600   -0.041268   -0.065921\n",
       "35081   -0.790088   -0.073271   -0.077923   -0.202428   -0.041268   -0.034435\n",
       "22640   -1.024272   -0.073271   -0.077923   -0.517140   -0.041268   -0.065921"
      ]
     },
     "execution_count": 19,
     "metadata": {},
     "output_type": "execute_result"
    }
   ],
   "source": [
    "x_up_train.head()"
   ]
  },
  {
   "cell_type": "markdown",
   "metadata": {},
   "source": [
    "<b># Applying machine learning algorithms"
   ]
  },
  {
   "cell_type": "code",
   "execution_count": 20,
   "metadata": {},
   "outputs": [],
   "source": [
    "# Applying machine learning algorithms\n",
    "# Creating a function that will give the Following output when any model is run\n",
    "\n",
    "from sklearn.metrics import accuracy_score, confusion_matrix, classification_report\n",
    "\n",
    "def print_score(clf, x_up_train,x_up_test,y_up_train,y_up_test, train=True):\n",
    "    if train:\n",
    "        pred = clf.predict(x_up_train)\n",
    "        clf_report = pd.DataFrame(classification_report(y_up_train, pred, output_dict=True))\n",
    "        print(\"Train Result:\\n================================================\")\n",
    "        print(f\"Accuracy Score: {accuracy_score(y_up_train, pred) * 100:.2f}%\")\n",
    "        print(\"_______________________________________________\")\n",
    "        print(f\"CLASSIFICATION REPORT:\\n{clf_report}\")\n",
    "        print(\"_______________________________________________\")\n",
    "        print(f\"Confusion Matrix: \\n {confusion_matrix(y_up_train, pred)}\\n\")\n",
    "        \n",
    "    elif train==False:\n",
    "        pred = clf.predict(x_up_test)\n",
    "        clf_report = pd.DataFrame(classification_report(y_up_test, pred, output_dict=True))\n",
    "        print(\"Test Result:\\n================================================\")        \n",
    "        print(f\"Accuracy Score: {accuracy_score(y_up_test, pred) * 100:.2f}%\")\n",
    "        print(\"_______________________________________________\")\n",
    "        print(f\"CLASSIFICATION REPORT:\\n{clf_report}\")\n",
    "        print(\"_______________________________________________\")\n",
    "        print(f\"Confusion Matrix: \\n {confusion_matrix(y_up_test, pred)}\\n\")"
   ]
  },
  {
   "cell_type": "code",
   "execution_count": 21,
   "metadata": {},
   "outputs": [
    {
     "name": "stdout",
     "output_type": "stream",
     "text": [
      "Train Result:\n",
      "================================================\n",
      "Accuracy Score: 76.83%\n",
      "_______________________________________________\n",
      "CLASSIFICATION REPORT:\n",
      "                      0             1  accuracy      macro avg   weighted avg\n",
      "precision      0.695323      0.929328  0.768338       0.812325       0.812228\n",
      "recall         0.955934      0.580428  0.768338       0.768181       0.768338\n",
      "f1-score       0.805063      0.714563  0.768338       0.759813       0.759851\n",
      "support    79676.000000  79543.000000  0.768338  159219.000000  159219.000000\n",
      "_______________________________________________\n",
      "Confusion Matrix: \n",
      " [[76165  3511]\n",
      " [33374 46169]]\n",
      "\n",
      "Test Result:\n",
      "================================================\n",
      "Accuracy Score: 76.94%\n",
      "_______________________________________________\n",
      "CLASSIFICATION REPORT:\n",
      "                      0             1  accuracy     macro avg  weighted avg\n",
      "precision      0.694555      0.934230  0.769351      0.814392      0.814793\n",
      "recall         0.958812      0.581151  0.769351      0.769982      0.769351\n",
      "f1-score       0.805566      0.716557  0.769351      0.761061      0.760913\n",
      "support    19836.000000  19969.000000  0.769351  39805.000000  39805.000000\n",
      "_______________________________________________\n",
      "Confusion Matrix: \n",
      " [[19019   817]\n",
      " [ 8364 11605]]\n",
      "\n"
     ]
    }
   ],
   "source": [
    "# LOGISTIC REGRESSION\n",
    "\n",
    "from sklearn.linear_model import LogisticRegression\n",
    "clf_lr = LogisticRegression(random_state=0)\n",
    "\n",
    "clf_lr.fit(x_up_train ,y_up_train)\n",
    "print_score(clf_lr, x_up_train,x_up_test,y_up_train,y_up_test, train=True)\n",
    "print_score(clf_lr, x_up_train,x_up_test,y_up_train,y_up_test, train=False)"
   ]
  },
  {
   "cell_type": "code",
   "execution_count": 22,
   "metadata": {},
   "outputs": [
    {
     "name": "stdout",
     "output_type": "stream",
     "text": [
      "Train Result:\n",
      "================================================\n",
      "Accuracy Score: 100.00%\n",
      "_______________________________________________\n",
      "CLASSIFICATION REPORT:\n",
      "                      0             1  accuracy      macro avg   weighted avg\n",
      "precision      1.000000      0.999987  0.999994       0.999994       0.999994\n",
      "recall         0.999987      1.000000  0.999994       0.999994       0.999994\n",
      "f1-score       0.999994      0.999994  0.999994       0.999994       0.999994\n",
      "support    79676.000000  79543.000000  0.999994  159219.000000  159219.000000\n",
      "_______________________________________________\n",
      "Confusion Matrix: \n",
      " [[79675     1]\n",
      " [    0 79543]]\n",
      "\n",
      "Test Result:\n",
      "================================================\n",
      "Accuracy Score: 99.96%\n",
      "_______________________________________________\n",
      "CLASSIFICATION REPORT:\n",
      "                      0             1  accuracy     macro avg  weighted avg\n",
      "precision      1.000000      0.999299  0.999648      0.999650      0.999649\n",
      "recall         0.999294      1.000000  0.999648      0.999647      0.999648\n",
      "f1-score       0.999647      0.999650  0.999648      0.999648      0.999648\n",
      "support    19836.000000  19969.000000  0.999648  39805.000000  39805.000000\n",
      "_______________________________________________\n",
      "Confusion Matrix: \n",
      " [[19822    14]\n",
      " [    0 19969]]\n",
      "\n"
     ]
    }
   ],
   "source": [
    "# DECISION TREE\n",
    "\n",
    "from sklearn.tree import DecisionTreeClassifier\n",
    "clf_tree= DecisionTreeClassifier(random_state=0)\n",
    "\n",
    "clf_tree.fit(x_up_train ,y_up_train)\n",
    "print_score(clf_tree, x_up_train,x_up_test,y_up_train,y_up_test, train=True)\n",
    "print_score(clf_tree, x_up_train,x_up_test,y_up_train,y_up_test, train=False)"
   ]
  },
  {
   "cell_type": "code",
   "execution_count": 23,
   "metadata": {},
   "outputs": [
    {
     "name": "stdout",
     "output_type": "stream",
     "text": [
      "Train Result:\n",
      "================================================\n",
      "Accuracy Score: 100.00%\n",
      "_______________________________________________\n",
      "CLASSIFICATION REPORT:\n",
      "                      0             1  accuracy      macro avg   weighted avg\n",
      "precision      1.000000      0.999987  0.999994       0.999994       0.999994\n",
      "recall         0.999987      1.000000  0.999994       0.999994       0.999994\n",
      "f1-score       0.999994      0.999994  0.999994       0.999994       0.999994\n",
      "support    79676.000000  79543.000000  0.999994  159219.000000  159219.000000\n",
      "_______________________________________________\n",
      "Confusion Matrix: \n",
      " [[79675     1]\n",
      " [    0 79543]]\n",
      "\n",
      "Test Result:\n",
      "================================================\n",
      "Accuracy Score: 99.96%\n",
      "_______________________________________________\n",
      "CLASSIFICATION REPORT:\n",
      "                      0             1  accuracy     macro avg  weighted avg\n",
      "precision      1.000000      0.999249  0.999623      0.999625      0.999623\n",
      "recall         0.999244      1.000000  0.999623      0.999622      0.999623\n",
      "f1-score       0.999622      0.999625  0.999623      0.999623      0.999623\n",
      "support    19836.000000  19969.000000  0.999623  39805.000000  39805.000000\n",
      "_______________________________________________\n",
      "Confusion Matrix: \n",
      " [[19821    15]\n",
      " [    0 19969]]\n",
      "\n"
     ]
    }
   ],
   "source": [
    "# Random Forest\n",
    "# Random Forest\n",
    "from sklearn.ensemble import RandomForestClassifier\n",
    "clf_rf= RandomForestClassifier(random_state=0)\n",
    "\n",
    "clf_rf.fit(x_up_train,y_up_train)\n",
    "print_score(clf_rf, x_up_train,x_up_test,y_up_train,y_up_test, train=True)\n",
    "print_score(clf_rf, x_up_train,x_up_test,y_up_train,y_up_test, train=False)"
   ]
  },
  {
   "cell_type": "code",
   "execution_count": 32,
   "metadata": {},
   "outputs": [
    {
     "name": "stdout",
     "output_type": "stream",
     "text": [
      "=======================Linear Kernel SVM==========================\n"
     ]
    },
    {
     "ename": "KeyboardInterrupt",
     "evalue": "",
     "output_type": "error",
     "traceback": [
      "\u001b[1;31m---------------------------------------------------------------------------\u001b[0m",
      "\u001b[1;31mKeyboardInterrupt\u001b[0m                         Traceback (most recent call last)",
      "\u001b[1;32m<ipython-input-32-b8dd30b1d3c7>\u001b[0m in \u001b[0;36m<module>\u001b[1;34m\u001b[0m\n\u001b[0;32m      4\u001b[0m \u001b[0mprint\u001b[0m\u001b[1;33m(\u001b[0m\u001b[1;34m\"=======================Linear Kernel SVM==========================\"\u001b[0m\u001b[1;33m)\u001b[0m\u001b[1;33m\u001b[0m\u001b[1;33m\u001b[0m\u001b[0m\n\u001b[0;32m      5\u001b[0m \u001b[0mmodel\u001b[0m \u001b[1;33m=\u001b[0m \u001b[0mSVC\u001b[0m\u001b[1;33m(\u001b[0m\u001b[0mkernel\u001b[0m\u001b[1;33m=\u001b[0m\u001b[1;34m'linear'\u001b[0m\u001b[1;33m)\u001b[0m\u001b[1;33m\u001b[0m\u001b[1;33m\u001b[0m\u001b[0m\n\u001b[1;32m----> 6\u001b[1;33m \u001b[0mmodel\u001b[0m\u001b[1;33m.\u001b[0m\u001b[0mfit\u001b[0m\u001b[1;33m(\u001b[0m\u001b[0mx_up_train\u001b[0m\u001b[1;33m,\u001b[0m\u001b[0my_up_train\u001b[0m\u001b[1;33m)\u001b[0m\u001b[1;33m\u001b[0m\u001b[1;33m\u001b[0m\u001b[0m\n\u001b[0m\u001b[0;32m      7\u001b[0m \u001b[0mprint_score\u001b[0m\u001b[1;33m(\u001b[0m\u001b[0mmodel\u001b[0m\u001b[1;33m,\u001b[0m \u001b[0mx_up_train\u001b[0m\u001b[1;33m,\u001b[0m\u001b[0mx_up_test\u001b[0m\u001b[1;33m,\u001b[0m\u001b[0my_up_train\u001b[0m\u001b[1;33m,\u001b[0m\u001b[0my_up_test\u001b[0m\u001b[1;33m,\u001b[0m \u001b[0mtrain\u001b[0m\u001b[1;33m=\u001b[0m\u001b[1;32mTrue\u001b[0m\u001b[1;33m)\u001b[0m\u001b[1;33m\u001b[0m\u001b[1;33m\u001b[0m\u001b[0m\n\u001b[0;32m      8\u001b[0m \u001b[0mprint_score\u001b[0m\u001b[1;33m(\u001b[0m\u001b[0mmodel\u001b[0m\u001b[1;33m,\u001b[0m \u001b[0mx_up_train\u001b[0m\u001b[1;33m,\u001b[0m\u001b[0mx_up_test\u001b[0m\u001b[1;33m,\u001b[0m\u001b[0my_up_train\u001b[0m\u001b[1;33m,\u001b[0m\u001b[0my_up_test\u001b[0m\u001b[1;33m,\u001b[0m \u001b[0mtrain\u001b[0m\u001b[1;33m=\u001b[0m\u001b[1;32mFalse\u001b[0m\u001b[1;33m)\u001b[0m\u001b[1;33m\u001b[0m\u001b[1;33m\u001b[0m\u001b[0m\n",
      "\u001b[1;32m~\\Anaconda3\\lib\\site-packages\\sklearn\\svm\\_base.py\u001b[0m in \u001b[0;36mfit\u001b[1;34m(self, X, y, sample_weight)\u001b[0m\n\u001b[0;32m    224\u001b[0m \u001b[1;33m\u001b[0m\u001b[0m\n\u001b[0;32m    225\u001b[0m         \u001b[0mseed\u001b[0m \u001b[1;33m=\u001b[0m \u001b[0mrnd\u001b[0m\u001b[1;33m.\u001b[0m\u001b[0mrandint\u001b[0m\u001b[1;33m(\u001b[0m\u001b[0mnp\u001b[0m\u001b[1;33m.\u001b[0m\u001b[0miinfo\u001b[0m\u001b[1;33m(\u001b[0m\u001b[1;34m'i'\u001b[0m\u001b[1;33m)\u001b[0m\u001b[1;33m.\u001b[0m\u001b[0mmax\u001b[0m\u001b[1;33m)\u001b[0m\u001b[1;33m\u001b[0m\u001b[1;33m\u001b[0m\u001b[0m\n\u001b[1;32m--> 226\u001b[1;33m         \u001b[0mfit\u001b[0m\u001b[1;33m(\u001b[0m\u001b[0mX\u001b[0m\u001b[1;33m,\u001b[0m \u001b[0my\u001b[0m\u001b[1;33m,\u001b[0m \u001b[0msample_weight\u001b[0m\u001b[1;33m,\u001b[0m \u001b[0msolver_type\u001b[0m\u001b[1;33m,\u001b[0m \u001b[0mkernel\u001b[0m\u001b[1;33m,\u001b[0m \u001b[0mrandom_seed\u001b[0m\u001b[1;33m=\u001b[0m\u001b[0mseed\u001b[0m\u001b[1;33m)\u001b[0m\u001b[1;33m\u001b[0m\u001b[1;33m\u001b[0m\u001b[0m\n\u001b[0m\u001b[0;32m    227\u001b[0m         \u001b[1;31m# see comment on the other call to np.iinfo in this file\u001b[0m\u001b[1;33m\u001b[0m\u001b[1;33m\u001b[0m\u001b[1;33m\u001b[0m\u001b[0m\n\u001b[0;32m    228\u001b[0m \u001b[1;33m\u001b[0m\u001b[0m\n",
      "\u001b[1;32m~\\Anaconda3\\lib\\site-packages\\sklearn\\svm\\_base.py\u001b[0m in \u001b[0;36m_dense_fit\u001b[1;34m(self, X, y, sample_weight, solver_type, kernel, random_seed)\u001b[0m\n\u001b[0;32m    283\u001b[0m                 \u001b[0mcache_size\u001b[0m\u001b[1;33m=\u001b[0m\u001b[0mself\u001b[0m\u001b[1;33m.\u001b[0m\u001b[0mcache_size\u001b[0m\u001b[1;33m,\u001b[0m \u001b[0mcoef0\u001b[0m\u001b[1;33m=\u001b[0m\u001b[0mself\u001b[0m\u001b[1;33m.\u001b[0m\u001b[0mcoef0\u001b[0m\u001b[1;33m,\u001b[0m\u001b[1;33m\u001b[0m\u001b[1;33m\u001b[0m\u001b[0m\n\u001b[0;32m    284\u001b[0m                 \u001b[0mgamma\u001b[0m\u001b[1;33m=\u001b[0m\u001b[0mself\u001b[0m\u001b[1;33m.\u001b[0m\u001b[0m_gamma\u001b[0m\u001b[1;33m,\u001b[0m \u001b[0mepsilon\u001b[0m\u001b[1;33m=\u001b[0m\u001b[0mself\u001b[0m\u001b[1;33m.\u001b[0m\u001b[0mepsilon\u001b[0m\u001b[1;33m,\u001b[0m\u001b[1;33m\u001b[0m\u001b[1;33m\u001b[0m\u001b[0m\n\u001b[1;32m--> 285\u001b[1;33m                 max_iter=self.max_iter, random_seed=random_seed)\n\u001b[0m\u001b[0;32m    286\u001b[0m \u001b[1;33m\u001b[0m\u001b[0m\n\u001b[0;32m    287\u001b[0m         \u001b[0mself\u001b[0m\u001b[1;33m.\u001b[0m\u001b[0m_warn_from_fit_status\u001b[0m\u001b[1;33m(\u001b[0m\u001b[1;33m)\u001b[0m\u001b[1;33m\u001b[0m\u001b[1;33m\u001b[0m\u001b[0m\n",
      "\u001b[1;31mKeyboardInterrupt\u001b[0m: "
     ]
    }
   ],
   "source": [
    "# SVM\n",
    "from sklearn.svm import SVC\n",
    "\n",
    "print(\"=======================Linear Kernel SVM==========================\")\n",
    "model = SVC(kernel='linear')\n",
    "model.fit(x_up_train,y_up_train)\n",
    "print_score(model, x_up_train,x_up_test,y_up_train,y_up_test, train=True)\n",
    "print_score(model, x_up_train,x_up_test,y_up_train,y_up_test, train=False)"
   ]
  },
  {
   "cell_type": "markdown",
   "metadata": {},
   "source": [
    "# Down-Sampling the Data"
   ]
  },
  {
   "cell_type": "code",
   "execution_count": 24,
   "metadata": {},
   "outputs": [
    {
     "data": {
      "text/plain": [
       "1    83\n",
       "0    83\n",
       "Name: failure, dtype: int64"
      ]
     },
     "execution_count": 24,
     "metadata": {},
     "output_type": "execute_result"
    }
   ],
   "source": [
    "# Down-Sampling the Data\n",
    "# Downsample majority class\n",
    "df_majority_downsampled = resample(df_majority, \n",
    "                                 replace=False,    # sample without replacement\n",
    "                                 n_samples=83,     # to match minority class\n",
    "                                 random_state=24) # reproducible results\n",
    "# Combine minority class with downsampled majority class\n",
    "df_downsampled = pd.concat([df_majority_downsampled, df_minority])\n",
    "# Display new class counts\n",
    "df_downsampled.failure.value_counts()"
   ]
  },
  {
   "cell_type": "code",
   "execution_count": 25,
   "metadata": {},
   "outputs": [],
   "source": [
    "x_downsampled = df_downsampled.drop(['failure'], axis = 1)\n",
    "y_downsampled = df_downsampled.failure"
   ]
  },
  {
   "cell_type": "code",
   "execution_count": 26,
   "metadata": {},
   "outputs": [],
   "source": [
    "# Splitting the Data\n",
    "from sklearn.model_selection import train_test_split\n",
    "\n",
    "x_down_train,x_down_test,y_down_train,y_down_test= train_test_split(x_downsampled,y_downsampled,test_size=0.2,random_state=0)"
   ]
  },
  {
   "cell_type": "markdown",
   "metadata": {},
   "source": [
    "<b># Applying machine learning algorithms"
   ]
  },
  {
   "cell_type": "code",
   "execution_count": 27,
   "metadata": {},
   "outputs": [],
   "source": [
    "# Applying machine learning algorithms\n",
    "# Creating a function that will give the Following output when any model is run\n",
    "\n",
    "from sklearn.metrics import accuracy_score, confusion_matrix, classification_report\n",
    "\n",
    "def print_score(clf, x_down_train,x_down_test,y_down_train,y_down_test, train=True):\n",
    "    if train:\n",
    "        pred = clf.predict(x_down_train)\n",
    "        clf_report = pd.DataFrame(classification_report(y_down_train, pred, output_dict=True))\n",
    "        print(\"Train Result:\\n================================================\")\n",
    "        print(f\"Accuracy Score: {accuracy_score(y_down_train, pred) * 100:.2f}%\")\n",
    "        print(\"_______________________________________________\")\n",
    "        print(f\"CLASSIFICATION REPORT:\\n{clf_report}\")\n",
    "        print(\"_______________________________________________\")\n",
    "        print(f\"Confusion Matrix: \\n {confusion_matrix(y_down_train, pred)}\\n\")\n",
    "        \n",
    "    elif train==False:\n",
    "        pred = clf.predict(x_down_test)\n",
    "        clf_report = pd.DataFrame(classification_report(y_down_test, pred, output_dict=True))\n",
    "        print(\"Test Result:\\n================================================\")        \n",
    "        print(f\"Accuracy Score: {accuracy_score(y_down_test, pred) * 100:.2f}%\")\n",
    "        print(\"_______________________________________________\")\n",
    "        print(f\"CLASSIFICATION REPORT:\\n{clf_report}\")\n",
    "        print(\"_______________________________________________\")\n",
    "        print(f\"Confusion Matrix: \\n {confusion_matrix(y_down_test, pred)}\\n\")"
   ]
  },
  {
   "cell_type": "code",
   "execution_count": 28,
   "metadata": {},
   "outputs": [
    {
     "name": "stdout",
     "output_type": "stream",
     "text": [
      "Train Result:\n",
      "================================================\n",
      "Accuracy Score: 77.27%\n",
      "_______________________________________________\n",
      "CLASSIFICATION REPORT:\n",
      "                   0          1  accuracy   macro avg  weighted avg\n",
      "precision   0.711111   0.904762  0.772727    0.807937      0.805002\n",
      "recall      0.941176   0.593750  0.772727    0.767463      0.772727\n",
      "f1-score    0.810127   0.716981  0.772727    0.763554      0.764965\n",
      "support    68.000000  64.000000  0.772727  132.000000    132.000000\n",
      "_______________________________________________\n",
      "Confusion Matrix: \n",
      " [[64  4]\n",
      " [26 38]]\n",
      "\n",
      "Test Result:\n",
      "================================================\n",
      "Accuracy Score: 67.65%\n",
      "_______________________________________________\n",
      "CLASSIFICATION REPORT:\n",
      "                   0          1  accuracy  macro avg  weighted avg\n",
      "precision   0.583333   0.900000  0.676471   0.741667      0.760294\n",
      "recall      0.933333   0.473684  0.676471   0.703509      0.676471\n",
      "f1-score    0.717949   0.620690  0.676471   0.669319      0.663598\n",
      "support    15.000000  19.000000  0.676471  34.000000     34.000000\n",
      "_______________________________________________\n",
      "Confusion Matrix: \n",
      " [[14  1]\n",
      " [10  9]]\n",
      "\n"
     ]
    }
   ],
   "source": [
    "# LOGISTIC REGRESSION\n",
    "\n",
    "from sklearn.linear_model import LogisticRegression\n",
    "clf_lr = LogisticRegression(random_state=0)\n",
    "\n",
    "clf_lr.fit(x_down_train, y_down_train)\n",
    "print_score(clf_lr, x_down_train,x_down_test,y_down_train,y_down_test, train=True)\n",
    "print_score(clf_lr, x_down_train,x_down_test,y_down_train,y_down_test, train=False)"
   ]
  },
  {
   "cell_type": "code",
   "execution_count": 29,
   "metadata": {},
   "outputs": [
    {
     "name": "stdout",
     "output_type": "stream",
     "text": [
      "Train Result:\n",
      "================================================\n",
      "Accuracy Score: 100.00%\n",
      "_______________________________________________\n",
      "CLASSIFICATION REPORT:\n",
      "              0     1  accuracy  macro avg  weighted avg\n",
      "precision   1.0   1.0       1.0        1.0           1.0\n",
      "recall      1.0   1.0       1.0        1.0           1.0\n",
      "f1-score    1.0   1.0       1.0        1.0           1.0\n",
      "support    68.0  64.0       1.0      132.0         132.0\n",
      "_______________________________________________\n",
      "Confusion Matrix: \n",
      " [[68  0]\n",
      " [ 0 64]]\n",
      "\n",
      "Test Result:\n",
      "================================================\n",
      "Accuracy Score: 76.47%\n",
      "_______________________________________________\n",
      "CLASSIFICATION REPORT:\n",
      "                   0          1  accuracy  macro avg  weighted avg\n",
      "precision   0.705882   0.823529  0.764706   0.764706      0.771626\n",
      "recall      0.800000   0.736842  0.764706   0.768421      0.764706\n",
      "f1-score    0.750000   0.777778  0.764706   0.763889      0.765523\n",
      "support    15.000000  19.000000  0.764706  34.000000     34.000000\n",
      "_______________________________________________\n",
      "Confusion Matrix: \n",
      " [[12  3]\n",
      " [ 5 14]]\n",
      "\n"
     ]
    }
   ],
   "source": [
    "# DECISION TREE\n",
    "\n",
    "from sklearn.tree import DecisionTreeClassifier\n",
    "clf_tree= DecisionTreeClassifier(random_state=0)\n",
    "\n",
    "clf_tree.fit(x_down_train,y_down_train)\n",
    "print_score(clf_tree, x_down_train,x_down_test,y_down_train,y_down_test, train=True)\n",
    "print_score(clf_tree, x_down_train,x_down_test,y_down_train,y_down_test, train=False)"
   ]
  },
  {
   "cell_type": "code",
   "execution_count": 30,
   "metadata": {
    "code_folding": []
   },
   "outputs": [
    {
     "name": "stdout",
     "output_type": "stream",
     "text": [
      "Train Result:\n",
      "================================================\n",
      "Accuracy Score: 100.00%\n",
      "_______________________________________________\n",
      "CLASSIFICATION REPORT:\n",
      "              0     1  accuracy  macro avg  weighted avg\n",
      "precision   1.0   1.0       1.0        1.0           1.0\n",
      "recall      1.0   1.0       1.0        1.0           1.0\n",
      "f1-score    1.0   1.0       1.0        1.0           1.0\n",
      "support    68.0  64.0       1.0      132.0         132.0\n",
      "_______________________________________________\n",
      "Confusion Matrix: \n",
      " [[68  0]\n",
      " [ 0 64]]\n",
      "\n",
      "Test Result:\n",
      "================================================\n",
      "Accuracy Score: 73.53%\n",
      "_______________________________________________\n",
      "CLASSIFICATION REPORT:\n",
      "                   0          1  accuracy  macro avg  weighted avg\n",
      "precision   0.666667   0.812500  0.735294   0.739583      0.748162\n",
      "recall      0.800000   0.684211  0.735294   0.742105      0.735294\n",
      "f1-score    0.727273   0.742857  0.735294   0.735065      0.735982\n",
      "support    15.000000  19.000000  0.735294  34.000000     34.000000\n",
      "_______________________________________________\n",
      "Confusion Matrix: \n",
      " [[12  3]\n",
      " [ 6 13]]\n",
      "\n"
     ]
    }
   ],
   "source": [
    "# Random Forest\n",
    "# Random Forest\n",
    "from sklearn.ensemble import RandomForestClassifier\n",
    "clf_rf= RandomForestClassifier(random_state=0)\n",
    "\n",
    "clf_rf.fit(x_down_train,y_down_train)\n",
    "print_score(clf_rf, x_down_train,x_down_test,y_down_train,y_down_test, train=True)\n",
    "print_score(clf_rf, x_down_train,x_down_test,y_down_train,y_down_test, train=False)"
   ]
  },
  {
   "cell_type": "code",
   "execution_count": null,
   "metadata": {},
   "outputs": [],
   "source": [
    "# SVM\n",
    "from sklearn.svm import SVC\n",
    "\n",
    "print(\"=======================Linear Kernel SVM==========================\")\n",
    "model = SVC(kernel='linear')\n",
    "model.fit(x_down_train,y_down_train)\n",
    "print_score(model, x_down_train,x_down_test,y_down_train,y_down_test, train=True)\n",
    "print_score(model, x_down_train,x_down_test,y_down_train,y_down_test, train=False)"
   ]
  },
  {
   "cell_type": "markdown",
   "metadata": {},
   "source": [
    "### Performing Hyper Parameter tuning for DT for UP Sampled Data"
   ]
  },
  {
   "cell_type": "code",
   "execution_count": 33,
   "metadata": {},
   "outputs": [
    {
     "name": "stdout",
     "output_type": "stream",
     "text": [
      "Fitting 3 folds for each of 2052 candidates, totalling 6156 fits\n",
      "Best paramters: {'criterion': 'entropy', 'max_depth': 2, 'min_samples_leaf': 1, 'min_samples_split': 2, 'splitter': 'random'})\n",
      "Train Result:\n",
      "================================================\n",
      "Accuracy Score: 85.12%\n",
      "_______________________________________________\n",
      "CLASSIFICATION REPORT:\n",
      "                      0             1  accuracy      macro avg   weighted avg\n",
      "precision      0.926015      0.798702  0.851249       0.862358       0.862411\n",
      "recall         0.763768      0.938876  0.851249       0.851322       0.851249\n",
      "f1-score       0.837102      0.863135  0.851249       0.850119       0.850108\n",
      "support    79676.000000  79543.000000  0.851249  159219.000000  159219.000000\n",
      "_______________________________________________\n",
      "Confusion Matrix: \n",
      " [[60854 18822]\n",
      " [ 4862 74681]]\n",
      "\n",
      "Test Result:\n",
      "================================================\n",
      "Accuracy Score: 85.03%\n",
      "_______________________________________________\n",
      "CLASSIFICATION REPORT:\n",
      "                      0             1  accuracy     macro avg  weighted avg\n",
      "precision      0.925184      0.798297   0.85032      0.861740      0.861528\n",
      "recall         0.761192      0.938855   0.85032      0.850023      0.850320\n",
      "f1-score       0.835214      0.862889   0.85032      0.849052      0.849098\n",
      "support    19836.000000  19969.000000   0.85032  39805.000000  39805.000000\n",
      "_______________________________________________\n",
      "Confusion Matrix: \n",
      " [[15099  4737]\n",
      " [ 1221 18748]]\n",
      "\n"
     ]
    }
   ],
   "source": [
    "from sklearn.tree import DecisionTreeClassifier\n",
    "from sklearn.model_selection import GridSearchCV\n",
    "\n",
    "params = {\n",
    "    \"criterion\":(\"gini\", \"entropy\"), \n",
    "    \"splitter\":(\"best\", \"random\"), \n",
    "    \"max_depth\":(list(range(1,10))), \n",
    "    \"min_samples_split\":[2, 3, 4], \n",
    "    \"min_samples_leaf\":list(range(1, 20)), \n",
    "}\n",
    "\n",
    "\n",
    "tree_clf = DecisionTreeClassifier(random_state=42)\n",
    "tree_cv = GridSearchCV(tree_clf, params, scoring=\"precision\", n_jobs=-1, verbose=1, cv=3)\n",
    "tree_cv.fit(x_up_train ,y_up_train)\n",
    "best_params = tree_cv.best_params_\n",
    "print(f\"Best paramters: {best_params})\")\n",
    "\n",
    "tree_clf = DecisionTreeClassifier(**best_params)\n",
    "tree_clf.fit(x_up_train ,y_up_train)\n",
    "print_score(clf_tree, x_up_train,x_up_test,y_up_train,y_up_test, train=True)\n",
    "print_score(clf_tree, x_up_train,x_up_test,y_up_train,y_up_test, train=False)\n"
   ]
  },
  {
   "cell_type": "markdown",
   "metadata": {},
   "source": [
    "### Performing Hyper Parameter tuning for DT for DOWN Sampled Data"
   ]
  },
  {
   "cell_type": "code",
   "execution_count": 34,
   "metadata": {},
   "outputs": [
    {
     "name": "stdout",
     "output_type": "stream",
     "text": [
      "Fitting 3 folds for each of 2052 candidates, totalling 6156 fits\n",
      "Best paramters: {'criterion': 'gini', 'max_depth': 1, 'min_samples_leaf': 1, 'min_samples_split': 2, 'splitter': 'random'})\n",
      "Train Result:\n",
      "================================================\n",
      "Accuracy Score: 54.55%\n",
      "_______________________________________________\n",
      "CLASSIFICATION REPORT:\n",
      "                   0          1  accuracy   macro avg  weighted avg\n",
      "precision   0.531250   1.000000  0.545455    0.765625      0.758523\n",
      "recall      1.000000   0.062500  0.545455    0.531250      0.545455\n",
      "f1-score    0.693878   0.117647  0.545455    0.405762      0.414493\n",
      "support    68.000000  64.000000  0.545455  132.000000    132.000000\n",
      "_______________________________________________\n",
      "Confusion Matrix: \n",
      " [[68  0]\n",
      " [60  4]]\n",
      "\n",
      "Test Result:\n",
      "================================================\n",
      "Accuracy Score: 50.00%\n",
      "_______________________________________________\n",
      "CLASSIFICATION REPORT:\n",
      "                   0          1  accuracy  macro avg  weighted avg\n",
      "precision   0.468750   1.000000       0.5   0.734375      0.765625\n",
      "recall      1.000000   0.105263       0.5   0.552632      0.500000\n",
      "f1-score    0.638298   0.190476       0.5   0.414387      0.388045\n",
      "support    15.000000  19.000000       0.5  34.000000     34.000000\n",
      "_______________________________________________\n",
      "Confusion Matrix: \n",
      " [[15  0]\n",
      " [17  2]]\n",
      "\n"
     ]
    }
   ],
   "source": [
    "from sklearn.tree import DecisionTreeClassifier\n",
    "from sklearn.model_selection import GridSearchCV\n",
    "\n",
    "params = {\n",
    "    \"criterion\":(\"gini\", \"entropy\"), \n",
    "    \"splitter\":(\"best\", \"random\"), \n",
    "    \"max_depth\":(list(range(1,10))), \n",
    "    \"min_samples_split\":[2, 3, 4], \n",
    "    \"min_samples_leaf\":list(range(1, 20)), \n",
    "}\n",
    "\n",
    "\n",
    "tree_clf = DecisionTreeClassifier(random_state=42)\n",
    "tree_cv = GridSearchCV(tree_clf, params, scoring=\"precision\", n_jobs=-1, verbose=1, cv=3)\n",
    "tree_cv.fit(x_down_train,y_down_train)\n",
    "best_params = tree_cv.best_params_\n",
    "print(f\"Best paramters: {best_params})\")\n",
    "\n",
    "clf_tree = DecisionTreeClassifier(**best_params)\n",
    "clf_tree.fit(x_down_train,y_down_train)\n",
    "print_score(clf_tree, x_down_train,x_down_test,y_down_train,y_down_test, train=True)\n",
    "print_score(clf_tree, x_down_train,x_down_test,y_down_train,y_down_test, train=False)"
   ]
  },
  {
   "cell_type": "markdown",
   "metadata": {},
   "source": [
    "### Random Forest hyperparameter tuning for UP Sampled Data"
   ]
  },
  {
   "cell_type": "code",
   "execution_count": null,
   "metadata": {},
   "outputs": [
    {
     "name": "stdout",
     "output_type": "stream",
     "text": [
      "Fitting 3 folds for each of 384 candidates, totalling 1152 fits\n"
     ]
    }
   ],
   "source": [
    "n_estimators = [100, 500, 1000, 1500]\n",
    "max_features = ['auto', 'sqrt']\n",
    "max_depth = [2, 3, 5]\n",
    "max_depth.append(None)\n",
    "min_samples_split = [2, 5, 10]\n",
    "min_samples_leaf = [1, 2, 4, 10]\n",
    "\n",
    "\n",
    "params_grid = {'n_estimators': n_estimators, 'max_features': max_features,\n",
    "               'max_depth': max_depth, 'min_samples_split': min_samples_split,\n",
    "               'min_samples_leaf': min_samples_leaf}\n",
    "\n",
    "\n",
    "rf_clf = RandomForestClassifier(random_state=42)\n",
    "\n",
    "rf_cv = GridSearchCV(rf_clf, params_grid, scoring=\"precision\", cv=3, verbose=1, n_jobs=-1)\n",
    "\n",
    "\n",
    "rf_cv.fit(x_up_train,y_up_train)\n",
    "best_params = rf_cv.best_params_\n",
    "print(f\"Best parameters: {best_params}\")\n",
    "\n",
    "rf_clf = RandomForestClassifier(**best_params)\n",
    "rf_clf.fit(x_up_train,y_up_train)\n",
    "\n",
    "print_score(clf_rf, x_up_train,x_up_test,y_up_train,y_up_test, train=True)\n",
    "print_score(clf_rf, x_up_train,x_up_test,y_up_train,y_up_test, train=False)\n"
   ]
  },
  {
   "cell_type": "markdown",
   "metadata": {},
   "source": [
    "### Performing Hyper Parameter tuning for DT for DOWN Sampled Data"
   ]
  },
  {
   "cell_type": "code",
   "execution_count": null,
   "metadata": {},
   "outputs": [],
   "source": [
    "n_estimators = [100, 500, 1000, 1500]\n",
    "max_features = ['auto', 'sqrt']\n",
    "max_depth = [2, 3, 5]\n",
    "max_depth.append(None)\n",
    "min_samples_split = [2, 5, 10]\n",
    "min_samples_leaf = [1, 2, 4, 10]\n",
    "\n",
    "\n",
    "params_grid = {'n_estimators': n_estimators, 'max_features': max_features,\n",
    "               'max_depth': max_depth, 'min_samples_split': min_samples_split,\n",
    "               'min_samples_leaf': min_samples_leaf}\n",
    "\n",
    "\n",
    "rf_clf = RandomForestClassifier(random_state=42)\n",
    "\n",
    "rf_cv = GridSearchCV(rf_clf, params_grid, scoring=\"precision\", cv=3, verbose=1, n_jobs=-1)\n",
    "\n",
    "\n",
    "rf_cv.fit(x_down_train,y_down_train)\n",
    "best_params = rf_cv.best_params_\n",
    "print(f\"Best parameters: {best_params}\")\n",
    "\n",
    "rf_clf = RandomForestClassifier(**best_params)\n",
    "rf_clf.fit(x_down_train,y_down_train)\n",
    "\n",
    "print_score(clf_rf, x_down_train,x_down_test,y_down_train,y_down_test, train=True)\n",
    "print_score(clf_rf, x_down_train,x_down_test,y_down_train,y_down_test, train=False)"
   ]
  }
 ],
 "metadata": {
  "kernelspec": {
   "display_name": "Python 3",
   "language": "python",
   "name": "python3"
  },
  "language_info": {
   "codemirror_mode": {
    "name": "ipython",
    "version": 3
   },
   "file_extension": ".py",
   "mimetype": "text/x-python",
   "name": "python",
   "nbconvert_exporter": "python",
   "pygments_lexer": "ipython3",
   "version": "3.7.6"
  }
 },
 "nbformat": 4,
 "nbformat_minor": 4
}
