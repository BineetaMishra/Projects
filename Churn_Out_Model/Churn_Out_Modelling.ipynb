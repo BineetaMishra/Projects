{
 "cells": [
  {
   "cell_type": "code",
   "execution_count": 1,
   "id": "da032628",
   "metadata": {},
   "outputs": [],
   "source": [
    "import pandas as pd\n",
    "import numpy as np\n",
    "import matplotlib.pyplot as plt\n",
    "import seaborn as sns\n",
    "from sklearn.model_selection import train_test_split\n",
    "from sklearn.preprocessing import StandardScaler\n",
    "from sklearn.metrics import confusion_matrix\n",
    "from numpy import mean\n",
    "from sklearn.model_selection import train_test_split\n",
    "# Support functions\n",
    "from sklearn.model_selection import cross_val_score\n",
    "from sklearn.model_selection import GridSearchCV\n",
    "from scipy.stats import uniform\n",
    "from sklearn.metrics import accuracy_score, confusion_matrix, classification_report\n",
    "# Fit models\n",
    "from sklearn.linear_model import LogisticRegression\n",
    "from sklearn.ensemble import RandomForestClassifier\n",
    "pd.set_option('display.max_columns',None)\n",
    "import warnings\n",
    "warnings.filterwarnings('ignore')"
   ]
  },
  {
   "cell_type": "code",
   "execution_count": 2,
   "id": "e7a6c31f",
   "metadata": {},
   "outputs": [
    {
     "data": {
      "text/plain": [
       "(10000, 15)"
      ]
     },
     "execution_count": 2,
     "metadata": {},
     "output_type": "execute_result"
    }
   ],
   "source": [
    "df = pd.read_json ('customer_data.json').transpose()\n",
    "df.shape"
   ]
  },
  {
   "cell_type": "code",
   "execution_count": 3,
   "id": "92105d18",
   "metadata": {},
   "outputs": [
    {
     "data": {
      "text/html": [
       "<div>\n",
       "<style scoped>\n",
       "    .dataframe tbody tr th:only-of-type {\n",
       "        vertical-align: middle;\n",
       "    }\n",
       "\n",
       "    .dataframe tbody tr th {\n",
       "        vertical-align: top;\n",
       "    }\n",
       "\n",
       "    .dataframe thead th {\n",
       "        text-align: right;\n",
       "    }\n",
       "</style>\n",
       "<table border=\"1\" class=\"dataframe\">\n",
       "  <thead>\n",
       "    <tr style=\"text-align: right;\">\n",
       "      <th></th>\n",
       "      <th>id</th>\n",
       "      <th>name</th>\n",
       "      <th>credit_rating</th>\n",
       "      <th>country</th>\n",
       "      <th>gender</th>\n",
       "      <th>age</th>\n",
       "      <th>tenure</th>\n",
       "      <th>balance</th>\n",
       "      <th>number_products</th>\n",
       "      <th>credit_card</th>\n",
       "      <th>is_active</th>\n",
       "      <th>estimated_salary</th>\n",
       "      <th>exited</th>\n",
       "      <th>longitude</th>\n",
       "      <th>latitude</th>\n",
       "    </tr>\n",
       "  </thead>\n",
       "  <tbody>\n",
       "    <tr>\n",
       "      <th>1</th>\n",
       "      <td>15634602</td>\n",
       "      <td>Hargrave</td>\n",
       "      <td>619</td>\n",
       "      <td>France</td>\n",
       "      <td>Female</td>\n",
       "      <td>110</td>\n",
       "      <td>2</td>\n",
       "      <td>0.0</td>\n",
       "      <td>1</td>\n",
       "      <td>1</td>\n",
       "      <td>1</td>\n",
       "      <td>101348.88</td>\n",
       "      <td>1</td>\n",
       "      <td>103.9</td>\n",
       "      <td>13.96</td>\n",
       "    </tr>\n",
       "    <tr>\n",
       "      <th>2</th>\n",
       "      <td>15647311</td>\n",
       "      <td>Hill</td>\n",
       "      <td>608</td>\n",
       "      <td>Spain</td>\n",
       "      <td>Female</td>\n",
       "      <td>38</td>\n",
       "      <td>1</td>\n",
       "      <td>83807.86</td>\n",
       "      <td>1</td>\n",
       "      <td>0</td>\n",
       "      <td>1</td>\n",
       "      <td>112542.58</td>\n",
       "      <td>0</td>\n",
       "      <td>94.02</td>\n",
       "      <td>27.62</td>\n",
       "    </tr>\n",
       "    <tr>\n",
       "      <th>3</th>\n",
       "      <td>15619304</td>\n",
       "      <td>Onio</td>\n",
       "      <td>502</td>\n",
       "      <td>France</td>\n",
       "      <td>Female</td>\n",
       "      <td>54</td>\n",
       "      <td>8</td>\n",
       "      <td>159660.8</td>\n",
       "      <td>3</td>\n",
       "      <td>1</td>\n",
       "      <td>0</td>\n",
       "      <td>113931.57</td>\n",
       "      <td>1</td>\n",
       "      <td>-117.43</td>\n",
       "      <td>-1.2</td>\n",
       "    </tr>\n",
       "    <tr>\n",
       "      <th>4</th>\n",
       "      <td>15701354</td>\n",
       "      <td>Boni</td>\n",
       "      <td>699</td>\n",
       "      <td>France</td>\n",
       "      <td>Female</td>\n",
       "      <td>0</td>\n",
       "      <td>1</td>\n",
       "      <td>0.0</td>\n",
       "      <td>2</td>\n",
       "      <td>0</td>\n",
       "      <td>0</td>\n",
       "      <td>93826.63</td>\n",
       "      <td>0</td>\n",
       "      <td>-81.99</td>\n",
       "      <td>55.05</td>\n",
       "    </tr>\n",
       "    <tr>\n",
       "      <th>5</th>\n",
       "      <td>15737888</td>\n",
       "      <td>Mitchell</td>\n",
       "      <td>850</td>\n",
       "      <td>Spain</td>\n",
       "      <td>Female</td>\n",
       "      <td>54</td>\n",
       "      <td>2</td>\n",
       "      <td>125510.82</td>\n",
       "      <td>1</td>\n",
       "      <td>1</td>\n",
       "      <td>1</td>\n",
       "      <td>79084.1</td>\n",
       "      <td>0</td>\n",
       "      <td>66.56</td>\n",
       "      <td>-13.9</td>\n",
       "    </tr>\n",
       "  </tbody>\n",
       "</table>\n",
       "</div>"
      ],
      "text/plain": [
       "         id      name credit_rating country  gender  age tenure    balance  \\\n",
       "1  15634602  Hargrave           619  France  Female  110      2        0.0   \n",
       "2  15647311      Hill           608   Spain  Female   38      1   83807.86   \n",
       "3  15619304      Onio           502  France  Female   54      8   159660.8   \n",
       "4  15701354      Boni           699  France  Female    0      1        0.0   \n",
       "5  15737888  Mitchell           850   Spain  Female   54      2  125510.82   \n",
       "\n",
       "  number_products credit_card is_active estimated_salary exited longitude  \\\n",
       "1               1           1         1        101348.88      1     103.9   \n",
       "2               1           0         1        112542.58      0     94.02   \n",
       "3               3           1         0        113931.57      1   -117.43   \n",
       "4               2           0         0         93826.63      0    -81.99   \n",
       "5               1           1         1          79084.1      0     66.56   \n",
       "\n",
       "  latitude  \n",
       "1    13.96  \n",
       "2    27.62  \n",
       "3     -1.2  \n",
       "4    55.05  \n",
       "5    -13.9  "
      ]
     },
     "execution_count": 3,
     "metadata": {},
     "output_type": "execute_result"
    }
   ],
   "source": [
    "df.head()"
   ]
  },
  {
   "cell_type": "code",
   "execution_count": 4,
   "id": "a8ed7244",
   "metadata": {},
   "outputs": [
    {
     "name": "stdout",
     "output_type": "stream",
     "text": [
      "<class 'pandas.core.frame.DataFrame'>\n",
      "Int64Index: 10000 entries, 1 to 10000\n",
      "Data columns (total 15 columns):\n",
      " #   Column            Non-Null Count  Dtype \n",
      "---  ------            --------------  ----- \n",
      " 0   id                10000 non-null  object\n",
      " 1   name              10000 non-null  object\n",
      " 2   credit_rating     10000 non-null  object\n",
      " 3   country           10000 non-null  object\n",
      " 4   gender            10000 non-null  object\n",
      " 5   age               10000 non-null  object\n",
      " 6   tenure            10000 non-null  object\n",
      " 7   balance           10000 non-null  object\n",
      " 8   number_products   10000 non-null  object\n",
      " 9   credit_card       10000 non-null  object\n",
      " 10  is_active         10000 non-null  object\n",
      " 11  estimated_salary  10000 non-null  object\n",
      " 12  exited            10000 non-null  object\n",
      " 13  longitude         10000 non-null  object\n",
      " 14  latitude          10000 non-null  object\n",
      "dtypes: object(15)\n",
      "memory usage: 1.5+ MB\n"
     ]
    }
   ],
   "source": [
    "df.info()"
   ]
  },
  {
   "cell_type": "code",
   "execution_count": 5,
   "id": "69957a06",
   "metadata": {},
   "outputs": [],
   "source": [
    "#Exited customers\n",
    "df_exited_customers = df[df[\"exited\"]==1]\n",
    "#df_exited_customers(columns=[\"Balance\"])"
   ]
  },
  {
   "cell_type": "code",
   "execution_count": 6,
   "id": "a2abb230",
   "metadata": {
    "scrolled": true
   },
   "outputs": [
    {
     "data": {
      "text/html": [
       "<div>\n",
       "<style scoped>\n",
       "    .dataframe tbody tr th:only-of-type {\n",
       "        vertical-align: middle;\n",
       "    }\n",
       "\n",
       "    .dataframe tbody tr th {\n",
       "        vertical-align: top;\n",
       "    }\n",
       "\n",
       "    .dataframe thead th {\n",
       "        text-align: right;\n",
       "    }\n",
       "</style>\n",
       "<table border=\"1\" class=\"dataframe\">\n",
       "  <thead>\n",
       "    <tr style=\"text-align: right;\">\n",
       "      <th></th>\n",
       "      <th>id</th>\n",
       "      <th>name</th>\n",
       "      <th>credit_rating</th>\n",
       "      <th>country</th>\n",
       "      <th>gender</th>\n",
       "      <th>age</th>\n",
       "      <th>tenure</th>\n",
       "      <th>balance</th>\n",
       "      <th>number_products</th>\n",
       "      <th>credit_card</th>\n",
       "      <th>is_active</th>\n",
       "      <th>estimated_salary</th>\n",
       "      <th>exited</th>\n",
       "      <th>longitude</th>\n",
       "      <th>latitude</th>\n",
       "    </tr>\n",
       "  </thead>\n",
       "  <tbody>\n",
       "    <tr>\n",
       "      <th>1</th>\n",
       "      <td>15634602</td>\n",
       "      <td>Hargrave</td>\n",
       "      <td>619</td>\n",
       "      <td>France</td>\n",
       "      <td>Female</td>\n",
       "      <td>110</td>\n",
       "      <td>2</td>\n",
       "      <td>0.0</td>\n",
       "      <td>1</td>\n",
       "      <td>1</td>\n",
       "      <td>1</td>\n",
       "      <td>101348.88</td>\n",
       "      <td>1</td>\n",
       "      <td>103.9</td>\n",
       "      <td>13.96</td>\n",
       "    </tr>\n",
       "    <tr>\n",
       "      <th>3</th>\n",
       "      <td>15619304</td>\n",
       "      <td>Onio</td>\n",
       "      <td>502</td>\n",
       "      <td>France</td>\n",
       "      <td>Female</td>\n",
       "      <td>54</td>\n",
       "      <td>8</td>\n",
       "      <td>159660.8</td>\n",
       "      <td>3</td>\n",
       "      <td>1</td>\n",
       "      <td>0</td>\n",
       "      <td>113931.57</td>\n",
       "      <td>1</td>\n",
       "      <td>-117.43</td>\n",
       "      <td>-1.2</td>\n",
       "    </tr>\n",
       "    <tr>\n",
       "      <th>6</th>\n",
       "      <td>15574012</td>\n",
       "      <td>Chu</td>\n",
       "      <td>645</td>\n",
       "      <td>Spain</td>\n",
       "      <td>Male</td>\n",
       "      <td>35</td>\n",
       "      <td>8</td>\n",
       "      <td>113755.78</td>\n",
       "      <td>2</td>\n",
       "      <td>1</td>\n",
       "      <td>0</td>\n",
       "      <td>149756.71</td>\n",
       "      <td>1</td>\n",
       "      <td>23.12</td>\n",
       "      <td>-13.67</td>\n",
       "    </tr>\n",
       "    <tr>\n",
       "      <th>8</th>\n",
       "      <td>15656148</td>\n",
       "      <td>Obinna</td>\n",
       "      <td>376</td>\n",
       "      <td>Germany</td>\n",
       "      <td>Female</td>\n",
       "      <td>127</td>\n",
       "      <td>4</td>\n",
       "      <td>115046.74</td>\n",
       "      <td>4</td>\n",
       "      <td>1</td>\n",
       "      <td>0</td>\n",
       "      <td>119346.88</td>\n",
       "      <td>1</td>\n",
       "      <td>-83.17</td>\n",
       "      <td>-6.92</td>\n",
       "    </tr>\n",
       "    <tr>\n",
       "      <th>17</th>\n",
       "      <td>15737452</td>\n",
       "      <td>Romeo</td>\n",
       "      <td>653</td>\n",
       "      <td>Germany</td>\n",
       "      <td>Male</td>\n",
       "      <td>12</td>\n",
       "      <td>1</td>\n",
       "      <td>132602.88</td>\n",
       "      <td>1</td>\n",
       "      <td>1</td>\n",
       "      <td>0</td>\n",
       "      <td>5097.67</td>\n",
       "      <td>1</td>\n",
       "      <td>33.08</td>\n",
       "      <td>52.86</td>\n",
       "    </tr>\n",
       "    <tr>\n",
       "      <th>...</th>\n",
       "      <td>...</td>\n",
       "      <td>...</td>\n",
       "      <td>...</td>\n",
       "      <td>...</td>\n",
       "      <td>...</td>\n",
       "      <td>...</td>\n",
       "      <td>...</td>\n",
       "      <td>...</td>\n",
       "      <td>...</td>\n",
       "      <td>...</td>\n",
       "      <td>...</td>\n",
       "      <td>...</td>\n",
       "      <td>...</td>\n",
       "      <td>...</td>\n",
       "      <td>...</td>\n",
       "    </tr>\n",
       "    <tr>\n",
       "      <th>9982</th>\n",
       "      <td>15672754</td>\n",
       "      <td>Burbidge</td>\n",
       "      <td>498</td>\n",
       "      <td>Germany</td>\n",
       "      <td>Male</td>\n",
       "      <td>85</td>\n",
       "      <td>3</td>\n",
       "      <td>152039.7</td>\n",
       "      <td>1</td>\n",
       "      <td>1</td>\n",
       "      <td>1</td>\n",
       "      <td>53445.17</td>\n",
       "      <td>1</td>\n",
       "      <td>-103.86</td>\n",
       "      <td>-68.03</td>\n",
       "    </tr>\n",
       "    <tr>\n",
       "      <th>9983</th>\n",
       "      <td>15768163</td>\n",
       "      <td>Griffin</td>\n",
       "      <td>655</td>\n",
       "      <td>Germany</td>\n",
       "      <td>Female</td>\n",
       "      <td>132</td>\n",
       "      <td>7</td>\n",
       "      <td>137145.12</td>\n",
       "      <td>1</td>\n",
       "      <td>1</td>\n",
       "      <td>0</td>\n",
       "      <td>115146.4</td>\n",
       "      <td>1</td>\n",
       "      <td>40.99</td>\n",
       "      <td>-72.07</td>\n",
       "    </tr>\n",
       "    <tr>\n",
       "      <th>9992</th>\n",
       "      <td>15769959</td>\n",
       "      <td>Ajuluchukwu</td>\n",
       "      <td>597</td>\n",
       "      <td>France</td>\n",
       "      <td>Female</td>\n",
       "      <td>65</td>\n",
       "      <td>4</td>\n",
       "      <td>88381.21</td>\n",
       "      <td>1</td>\n",
       "      <td>1</td>\n",
       "      <td>0</td>\n",
       "      <td>69384.71</td>\n",
       "      <td>1</td>\n",
       "      <td>-46.85</td>\n",
       "      <td>20.1</td>\n",
       "    </tr>\n",
       "    <tr>\n",
       "      <th>9998</th>\n",
       "      <td>15584532</td>\n",
       "      <td>Liu</td>\n",
       "      <td>709</td>\n",
       "      <td>France</td>\n",
       "      <td>Female</td>\n",
       "      <td>39</td>\n",
       "      <td>7</td>\n",
       "      <td>0.0</td>\n",
       "      <td>1</td>\n",
       "      <td>0</td>\n",
       "      <td>1</td>\n",
       "      <td>42085.58</td>\n",
       "      <td>1</td>\n",
       "      <td>36.47</td>\n",
       "      <td>-26.94</td>\n",
       "    </tr>\n",
       "    <tr>\n",
       "      <th>9999</th>\n",
       "      <td>15682355</td>\n",
       "      <td>Sabbatini</td>\n",
       "      <td>772</td>\n",
       "      <td>Germany</td>\n",
       "      <td>Male</td>\n",
       "      <td>70</td>\n",
       "      <td>3</td>\n",
       "      <td>75075.31</td>\n",
       "      <td>2</td>\n",
       "      <td>1</td>\n",
       "      <td>0</td>\n",
       "      <td>92888.52</td>\n",
       "      <td>1</td>\n",
       "      <td>-33.85</td>\n",
       "      <td>-1.41</td>\n",
       "    </tr>\n",
       "  </tbody>\n",
       "</table>\n",
       "<p>2037 rows × 15 columns</p>\n",
       "</div>"
      ],
      "text/plain": [
       "            id         name credit_rating  country  gender  age tenure  \\\n",
       "1     15634602     Hargrave           619   France  Female  110      2   \n",
       "3     15619304         Onio           502   France  Female   54      8   \n",
       "6     15574012          Chu           645    Spain    Male   35      8   \n",
       "8     15656148       Obinna           376  Germany  Female  127      4   \n",
       "17    15737452        Romeo           653  Germany    Male   12      1   \n",
       "...        ...          ...           ...      ...     ...  ...    ...   \n",
       "9982  15672754     Burbidge           498  Germany    Male   85      3   \n",
       "9983  15768163      Griffin           655  Germany  Female  132      7   \n",
       "9992  15769959  Ajuluchukwu           597   France  Female   65      4   \n",
       "9998  15584532          Liu           709   France  Female   39      7   \n",
       "9999  15682355    Sabbatini           772  Germany    Male   70      3   \n",
       "\n",
       "        balance number_products credit_card is_active estimated_salary exited  \\\n",
       "1           0.0               1           1         1        101348.88      1   \n",
       "3      159660.8               3           1         0        113931.57      1   \n",
       "6     113755.78               2           1         0        149756.71      1   \n",
       "8     115046.74               4           1         0        119346.88      1   \n",
       "17    132602.88               1           1         0          5097.67      1   \n",
       "...         ...             ...         ...       ...              ...    ...   \n",
       "9982   152039.7               1           1         1         53445.17      1   \n",
       "9983  137145.12               1           1         0         115146.4      1   \n",
       "9992   88381.21               1           1         0         69384.71      1   \n",
       "9998        0.0               1           0         1         42085.58      1   \n",
       "9999   75075.31               2           1         0         92888.52      1   \n",
       "\n",
       "     longitude latitude  \n",
       "1        103.9    13.96  \n",
       "3      -117.43     -1.2  \n",
       "6        23.12   -13.67  \n",
       "8       -83.17    -6.92  \n",
       "17       33.08    52.86  \n",
       "...        ...      ...  \n",
       "9982   -103.86   -68.03  \n",
       "9983     40.99   -72.07  \n",
       "9992    -46.85     20.1  \n",
       "9998     36.47   -26.94  \n",
       "9999    -33.85    -1.41  \n",
       "\n",
       "[2037 rows x 15 columns]"
      ]
     },
     "execution_count": 6,
     "metadata": {},
     "output_type": "execute_result"
    }
   ],
   "source": [
    "df_exited_customers\n",
    "#why the exited customers still have balance in account? What is the authencity for the balance data? How old is the data.\n",
    "#what is the product data?\n",
    "#freq of transaction would provide better input than the balance"
   ]
  },
  {
   "cell_type": "code",
   "execution_count": 7,
   "id": "0c8d556c",
   "metadata": {},
   "outputs": [
    {
     "data": {
      "text/plain": [
       "4"
      ]
     },
     "execution_count": 7,
     "metadata": {},
     "output_type": "execute_result"
    }
   ],
   "source": [
    "df[\"number_products\"].nunique() # which product. No of products or any specific number to a product"
   ]
  },
  {
   "cell_type": "code",
   "execution_count": 8,
   "id": "d75bdb69",
   "metadata": {},
   "outputs": [
    {
     "data": {
      "text/plain": [
       "count    10000.000000\n",
       "mean        74.413600\n",
       "std         43.502708\n",
       "min          0.000000\n",
       "1%           1.000000\n",
       "5%           7.000000\n",
       "10%         14.000000\n",
       "25%         37.000000\n",
       "50%         74.000000\n",
       "70%        105.000000\n",
       "85%        128.000000\n",
       "90%        135.000000\n",
       "99%        148.000000\n",
       "max        149.000000\n",
       "Name: age, dtype: float64"
      ]
     },
     "execution_count": 8,
     "metadata": {},
     "output_type": "execute_result"
    }
   ],
   "source": [
    "df['age']= df['age'].astype(int)\n",
    "df['age'].describe(percentiles=[0.01,0.05,0.10,0.25,0.50,0.70,0.85,0.9,0.99])  # min is 0 and max is 149 is not correct data.."
   ]
  },
  {
   "cell_type": "code",
   "execution_count": 9,
   "id": "b1caa2dc",
   "metadata": {},
   "outputs": [
    {
     "data": {
      "text/plain": [
       "<AxesSubplot:ylabel='Density'>"
      ]
     },
     "execution_count": 9,
     "metadata": {},
     "output_type": "execute_result"
    },
    {
     "data": {
      "image/png": "[encoded data removed]",
      "text/plain": [
       "<Figure size 432x288 with 1 Axes>"
      ]
     },
     "metadata": {
      "needs_background": "light"
     },
     "output_type": "display_data"
    }
   ],
   "source": [
    "sns.distplot(df[['age']], hist=True, hist_kws={\"edgecolor\": 'w', \"linewidth\": 3}, kde_kws={\"linewidth\": 3})"
   ]
  },
  {
   "cell_type": "code",
   "execution_count": 10,
   "id": "7f0163ce",
   "metadata": {},
   "outputs": [],
   "source": [
    "df = df[(df['age'] >= 18) &(df['age'] <= 90)] # legal age dataframe"
   ]
  },
  {
   "cell_type": "code",
   "execution_count": 11,
   "id": "308fc786",
   "metadata": {},
   "outputs": [
    {
     "data": {
      "text/plain": [
       "(4846, 15)"
      ]
     },
     "execution_count": 11,
     "metadata": {},
     "output_type": "execute_result"
    }
   ],
   "source": [
    "df.shape"
   ]
  },
  {
   "cell_type": "code",
   "execution_count": 12,
   "id": "095427a8",
   "metadata": {},
   "outputs": [],
   "source": [
    "#not giving any relevant input\n",
    "df.drop([\"id\",\"name\",\"longitude\",\"latitude\"],axis=1,inplace=True)"
   ]
  },
  {
   "cell_type": "code",
   "execution_count": 13,
   "id": "6b22cf77",
   "metadata": {},
   "outputs": [
    {
     "data": {
      "text/html": [
       "<div>\n",
       "<style scoped>\n",
       "    .dataframe tbody tr th:only-of-type {\n",
       "        vertical-align: middle;\n",
       "    }\n",
       "\n",
       "    .dataframe tbody tr th {\n",
       "        vertical-align: top;\n",
       "    }\n",
       "\n",
       "    .dataframe thead th {\n",
       "        text-align: right;\n",
       "    }\n",
       "</style>\n",
       "<table border=\"1\" class=\"dataframe\">\n",
       "  <thead>\n",
       "    <tr style=\"text-align: right;\">\n",
       "      <th></th>\n",
       "      <th>credit_rating</th>\n",
       "      <th>country</th>\n",
       "      <th>gender</th>\n",
       "      <th>age</th>\n",
       "      <th>tenure</th>\n",
       "      <th>balance</th>\n",
       "      <th>number_products</th>\n",
       "      <th>credit_card</th>\n",
       "      <th>is_active</th>\n",
       "      <th>estimated_salary</th>\n",
       "      <th>exited</th>\n",
       "    </tr>\n",
       "  </thead>\n",
       "  <tbody>\n",
       "    <tr>\n",
       "      <th>2</th>\n",
       "      <td>608</td>\n",
       "      <td>Spain</td>\n",
       "      <td>Female</td>\n",
       "      <td>38</td>\n",
       "      <td>1</td>\n",
       "      <td>83807.86</td>\n",
       "      <td>1</td>\n",
       "      <td>0</td>\n",
       "      <td>1</td>\n",
       "      <td>112542.58</td>\n",
       "      <td>0</td>\n",
       "    </tr>\n",
       "    <tr>\n",
       "      <th>3</th>\n",
       "      <td>502</td>\n",
       "      <td>France</td>\n",
       "      <td>Female</td>\n",
       "      <td>54</td>\n",
       "      <td>8</td>\n",
       "      <td>159660.8</td>\n",
       "      <td>3</td>\n",
       "      <td>1</td>\n",
       "      <td>0</td>\n",
       "      <td>113931.57</td>\n",
       "      <td>1</td>\n",
       "    </tr>\n",
       "    <tr>\n",
       "      <th>5</th>\n",
       "      <td>850</td>\n",
       "      <td>Spain</td>\n",
       "      <td>Female</td>\n",
       "      <td>54</td>\n",
       "      <td>2</td>\n",
       "      <td>125510.82</td>\n",
       "      <td>1</td>\n",
       "      <td>1</td>\n",
       "      <td>1</td>\n",
       "      <td>79084.1</td>\n",
       "      <td>0</td>\n",
       "    </tr>\n",
       "    <tr>\n",
       "      <th>6</th>\n",
       "      <td>645</td>\n",
       "      <td>Spain</td>\n",
       "      <td>Male</td>\n",
       "      <td>35</td>\n",
       "      <td>8</td>\n",
       "      <td>113755.78</td>\n",
       "      <td>2</td>\n",
       "      <td>1</td>\n",
       "      <td>0</td>\n",
       "      <td>149756.71</td>\n",
       "      <td>1</td>\n",
       "    </tr>\n",
       "    <tr>\n",
       "      <th>11</th>\n",
       "      <td>528</td>\n",
       "      <td>France</td>\n",
       "      <td>Male</td>\n",
       "      <td>49</td>\n",
       "      <td>6</td>\n",
       "      <td>102016.72</td>\n",
       "      <td>2</td>\n",
       "      <td>0</td>\n",
       "      <td>0</td>\n",
       "      <td>80181.12</td>\n",
       "      <td>0</td>\n",
       "    </tr>\n",
       "  </tbody>\n",
       "</table>\n",
       "</div>"
      ],
      "text/plain": [
       "   credit_rating country  gender  age tenure    balance number_products  \\\n",
       "2            608   Spain  Female   38      1   83807.86               1   \n",
       "3            502  France  Female   54      8   159660.8               3   \n",
       "5            850   Spain  Female   54      2  125510.82               1   \n",
       "6            645   Spain    Male   35      8  113755.78               2   \n",
       "11           528  France    Male   49      6  102016.72               2   \n",
       "\n",
       "   credit_card is_active estimated_salary exited  \n",
       "2            0         1        112542.58      0  \n",
       "3            1         0        113931.57      1  \n",
       "5            1         1          79084.1      0  \n",
       "6            1         0        149756.71      1  \n",
       "11           0         0         80181.12      0  "
      ]
     },
     "execution_count": 13,
     "metadata": {},
     "output_type": "execute_result"
    }
   ],
   "source": [
    "df.head()"
   ]
  },
  {
   "cell_type": "code",
   "execution_count": 14,
   "id": "30ea672d",
   "metadata": {},
   "outputs": [
    {
     "data": {
      "text/plain": [
       "count    4846.000000\n",
       "mean       53.835328\n",
       "std        20.959052\n",
       "min        18.000000\n",
       "25%        36.000000\n",
       "50%        54.000000\n",
       "75%        71.000000\n",
       "max        90.000000\n",
       "Name: age, dtype: float64"
      ]
     },
     "execution_count": 14,
     "metadata": {},
     "output_type": "execute_result"
    }
   ],
   "source": [
    "df['age'].describe()"
   ]
  },
  {
   "cell_type": "code",
   "execution_count": 15,
   "id": "e63b60d0",
   "metadata": {},
   "outputs": [
    {
     "name": "stdout",
     "output_type": "stream",
     "text": [
      "Male      2673\n",
      "Female    2173\n",
      "Name: gender, dtype: int64\n",
      "count     4846\n",
      "unique       2\n",
      "top       Male\n",
      "freq      2673\n",
      "Name: gender, dtype: object\n"
     ]
    }
   ],
   "source": [
    "#Check Gender related statistics\n",
    "print(df[\"gender\"].value_counts())\n",
    "df[\"gender\"] = df[\"gender\"].astype('category')\n",
    "print(df[\"gender\"].describe())"
   ]
  },
  {
   "cell_type": "code",
   "execution_count": 16,
   "id": "5103d450",
   "metadata": {},
   "outputs": [
    {
     "name": "stdout",
     "output_type": "stream",
     "text": [
      "France     2433\n",
      "Spain      1210\n",
      "Germany    1203\n",
      "Name: country, dtype: int64\n"
     ]
    }
   ],
   "source": [
    "print(df[\"country\"].value_counts())"
   ]
  },
  {
   "cell_type": "code",
   "execution_count": 17,
   "id": "51b53dc6",
   "metadata": {},
   "outputs": [],
   "source": [
    "#converting some columns to int to check the statistial inference\n",
    "df[[\"age\",\"tenure\",\"credit_rating\"]] = df[[\"age\",\"tenure\",\"credit_rating\"]].astype(str).astype(int)\n",
    "df[[\"estimated_salary\",\"balance\"]] = df[[\"estimated_salary\",\"balance\"]].astype(str).astype(float)"
   ]
  },
  {
   "cell_type": "code",
   "execution_count": 18,
   "id": "9f5e35ee",
   "metadata": {},
   "outputs": [
    {
     "data": {
      "text/html": [
       "<div>\n",
       "<style scoped>\n",
       "    .dataframe tbody tr th:only-of-type {\n",
       "        vertical-align: middle;\n",
       "    }\n",
       "\n",
       "    .dataframe tbody tr th {\n",
       "        vertical-align: top;\n",
       "    }\n",
       "\n",
       "    .dataframe thead th {\n",
       "        text-align: right;\n",
       "    }\n",
       "</style>\n",
       "<table border=\"1\" class=\"dataframe\">\n",
       "  <thead>\n",
       "    <tr style=\"text-align: right;\">\n",
       "      <th></th>\n",
       "      <th>credit_rating</th>\n",
       "      <th>age</th>\n",
       "      <th>tenure</th>\n",
       "      <th>balance</th>\n",
       "      <th>estimated_salary</th>\n",
       "    </tr>\n",
       "  </thead>\n",
       "  <tbody>\n",
       "    <tr>\n",
       "      <th>count</th>\n",
       "      <td>4846.000000</td>\n",
       "      <td>4846.000000</td>\n",
       "      <td>4846.000000</td>\n",
       "      <td>4846.000000</td>\n",
       "      <td>4846.000000</td>\n",
       "    </tr>\n",
       "    <tr>\n",
       "      <th>mean</th>\n",
       "      <td>650.048906</td>\n",
       "      <td>53.835328</td>\n",
       "      <td>5.012794</td>\n",
       "      <td>77033.966946</td>\n",
       "      <td>100079.144519</td>\n",
       "    </tr>\n",
       "    <tr>\n",
       "      <th>std</th>\n",
       "      <td>95.929732</td>\n",
       "      <td>20.959052</td>\n",
       "      <td>2.897464</td>\n",
       "      <td>62040.196664</td>\n",
       "      <td>57476.086635</td>\n",
       "    </tr>\n",
       "    <tr>\n",
       "      <th>min</th>\n",
       "      <td>350.000000</td>\n",
       "      <td>18.000000</td>\n",
       "      <td>0.000000</td>\n",
       "      <td>0.000000</td>\n",
       "      <td>11.580000</td>\n",
       "    </tr>\n",
       "    <tr>\n",
       "      <th>25%</th>\n",
       "      <td>584.000000</td>\n",
       "      <td>36.000000</td>\n",
       "      <td>2.000000</td>\n",
       "      <td>0.000000</td>\n",
       "      <td>50578.670000</td>\n",
       "    </tr>\n",
       "    <tr>\n",
       "      <th>50%</th>\n",
       "      <td>651.000000</td>\n",
       "      <td>54.000000</td>\n",
       "      <td>5.000000</td>\n",
       "      <td>97729.660000</td>\n",
       "      <td>100783.160000</td>\n",
       "    </tr>\n",
       "    <tr>\n",
       "      <th>75%</th>\n",
       "      <td>718.000000</td>\n",
       "      <td>71.000000</td>\n",
       "      <td>7.000000</td>\n",
       "      <td>127443.050000</td>\n",
       "      <td>148809.445000</td>\n",
       "    </tr>\n",
       "    <tr>\n",
       "      <th>max</th>\n",
       "      <td>850.000000</td>\n",
       "      <td>90.000000</td>\n",
       "      <td>10.000000</td>\n",
       "      <td>238387.560000</td>\n",
       "      <td>199953.330000</td>\n",
       "    </tr>\n",
       "  </tbody>\n",
       "</table>\n",
       "</div>"
      ],
      "text/plain": [
       "       credit_rating          age       tenure        balance  \\\n",
       "count    4846.000000  4846.000000  4846.000000    4846.000000   \n",
       "mean      650.048906    53.835328     5.012794   77033.966946   \n",
       "std        95.929732    20.959052     2.897464   62040.196664   \n",
       "min       350.000000    18.000000     0.000000       0.000000   \n",
       "25%       584.000000    36.000000     2.000000       0.000000   \n",
       "50%       651.000000    54.000000     5.000000   97729.660000   \n",
       "75%       718.000000    71.000000     7.000000  127443.050000   \n",
       "max       850.000000    90.000000    10.000000  238387.560000   \n",
       "\n",
       "       estimated_salary  \n",
       "count       4846.000000  \n",
       "mean      100079.144519  \n",
       "std        57476.086635  \n",
       "min           11.580000  \n",
       "25%        50578.670000  \n",
       "50%       100783.160000  \n",
       "75%       148809.445000  \n",
       "max       199953.330000  "
      ]
     },
     "execution_count": 18,
     "metadata": {},
     "output_type": "execute_result"
    }
   ],
   "source": [
    "df.describe()"
   ]
  },
  {
   "cell_type": "code",
   "execution_count": 19,
   "id": "fe6dbeb4",
   "metadata": {},
   "outputs": [
    {
     "data": {
      "text/html": [
       "<div>\n",
       "<style scoped>\n",
       "    .dataframe tbody tr th:only-of-type {\n",
       "        vertical-align: middle;\n",
       "    }\n",
       "\n",
       "    .dataframe tbody tr th {\n",
       "        vertical-align: top;\n",
       "    }\n",
       "\n",
       "    .dataframe thead th {\n",
       "        text-align: right;\n",
       "    }\n",
       "</style>\n",
       "<table border=\"1\" class=\"dataframe\">\n",
       "  <thead>\n",
       "    <tr style=\"text-align: right;\">\n",
       "      <th></th>\n",
       "      <th>credit_rating</th>\n",
       "      <th>country</th>\n",
       "      <th>gender</th>\n",
       "      <th>age</th>\n",
       "      <th>tenure</th>\n",
       "      <th>balance</th>\n",
       "      <th>number_products</th>\n",
       "      <th>credit_card</th>\n",
       "      <th>is_active</th>\n",
       "      <th>estimated_salary</th>\n",
       "      <th>exited</th>\n",
       "    </tr>\n",
       "  </thead>\n",
       "  <tbody>\n",
       "    <tr>\n",
       "      <th>2363</th>\n",
       "      <td>709</td>\n",
       "      <td>Germany</td>\n",
       "      <td>Male</td>\n",
       "      <td>57</td>\n",
       "      <td>4</td>\n",
       "      <td>122917.71</td>\n",
       "      <td>1</td>\n",
       "      <td>1</td>\n",
       "      <td>1</td>\n",
       "      <td>11.58</td>\n",
       "      <td>1</td>\n",
       "    </tr>\n",
       "  </tbody>\n",
       "</table>\n",
       "</div>"
      ],
      "text/plain": [
       "      credit_rating  country gender  age  tenure    balance number_products  \\\n",
       "2363            709  Germany   Male   57       4  122917.71               1   \n",
       "\n",
       "     credit_card is_active  estimated_salary exited  \n",
       "2363           1         1             11.58      1  "
      ]
     },
     "execution_count": 19,
     "metadata": {},
     "output_type": "execute_result"
    }
   ],
   "source": [
    "df[(df['estimated_salary'] == df['estimated_salary'].min())]"
   ]
  },
  {
   "cell_type": "markdown",
   "id": "a33b95a3",
   "metadata": {},
   "source": [
    "#### Solution Step 1:-\n",
    "<b>Age:</b> The age of the customers start from 0 and has maximum of 150. Which is not very logical. So only the lowest Legal age to open bank account ie. 18 years to Average life expectancy 90 years has been considered.\n",
    "\n",
    "<b>gender:</b> The Gender wise population is equally divided. And the accounts owned by Male are slightly more.\n",
    "\n",
    "<b>country:</b> Maximum customers are from France (50%) and 25% each from Spain ang Germany.\n",
    "\n",
    "<b>estimated_salary:</b> The minimum salary for one entry is as low as 11.58 Which sounds like a wrong entry (outlier).\n",
    "\n",
    "<b>number_products:</b> A breakdown of the product or more information on this column can be more insightful.\n",
    "\n",
    "<b>Customer Data :</b> There are customers who have exited but still have a balance in their account.\n"
   ]
  },
  {
   "cell_type": "code",
   "execution_count": 20,
   "id": "047c36da",
   "metadata": {},
   "outputs": [
    {
     "data": {
      "text/plain": [
       "0    3844\n",
       "1    1002\n",
       "Name: exited, dtype: int64"
      ]
     },
     "execution_count": 20,
     "metadata": {},
     "output_type": "execute_result"
    }
   ],
   "source": [
    "df[\"exited\"].value_counts()  #Imbalanced data"
   ]
  },
  {
   "cell_type": "code",
   "execution_count": 21,
   "id": "3aafa0e3",
   "metadata": {
    "scrolled": true
   },
   "outputs": [
    {
     "data": {
      "text/plain": [
       "0.20676846884028063"
      ]
     },
     "execution_count": 21,
     "metadata": {},
     "output_type": "execute_result"
    }
   ],
   "source": [
    "#churn rate\n",
    "df[\"exited\"].mean() #20.7%"
   ]
  },
  {
   "cell_type": "code",
   "execution_count": 22,
   "id": "36fcd539",
   "metadata": {},
   "outputs": [
    {
     "data": {
      "image/png": "[encoded data removed]",
      "text/plain": [
       "<Figure size 360x360 with 1 Axes>"
      ]
     },
     "metadata": {},
     "output_type": "display_data"
    }
   ],
   "source": [
    "labels = \"Exited\",\"Non_Exited\"\n",
    "sizes = [df.exited[df[\"exited\"]==1].count(), df.exited[df[\"exited\"]==0].count()]\n",
    "fig,ax = plt.subplots(figsize=(5, 5))\n",
    "ax.pie(sizes, labels=labels, autopct='%1.1f%%')\n",
    "ax.axis('equal')\n",
    "plt.title(\"Exited vs Non_Exited proportion\", size = 10)\n",
    "plt.show()"
   ]
  },
  {
   "cell_type": "code",
   "execution_count": 23,
   "id": "f02608a6",
   "metadata": {},
   "outputs": [
    {
     "name": "stdout",
     "output_type": "stream",
     "text": [
      "<class 'pandas.core.frame.DataFrame'>\n",
      "Int64Index: 4846 entries, 2 to 10000\n",
      "Data columns (total 11 columns):\n",
      " #   Column            Non-Null Count  Dtype   \n",
      "---  ------            --------------  -----   \n",
      " 0   credit_rating     4846 non-null   int32   \n",
      " 1   country           4846 non-null   object  \n",
      " 2   gender            4846 non-null   category\n",
      " 3   age               4846 non-null   int32   \n",
      " 4   tenure            4846 non-null   int32   \n",
      " 5   balance           4846 non-null   float64 \n",
      " 6   number_products   4846 non-null   object  \n",
      " 7   credit_card       4846 non-null   object  \n",
      " 8   is_active         4846 non-null   object  \n",
      " 9   estimated_salary  4846 non-null   float64 \n",
      " 10  exited            4846 non-null   object  \n",
      "dtypes: category(1), float64(2), int32(3), object(5)\n",
      "memory usage: 364.5+ KB\n"
     ]
    }
   ],
   "source": [
    "df.info()"
   ]
  },
  {
   "cell_type": "code",
   "execution_count": 24,
   "id": "fb9fe5c6",
   "metadata": {},
   "outputs": [],
   "source": [
    "num_df=df.select_dtypes(include=\"number\")\n",
    "categor_df=df.select_dtypes(include=(\"object\" or \"category\"))"
   ]
  },
  {
   "cell_type": "code",
   "execution_count": 25,
   "id": "b661bd08",
   "metadata": {},
   "outputs": [
    {
     "data": {
      "text/plain": [
       "Index(['country', 'number_products', 'credit_card', 'is_active', 'exited'], dtype='object')"
      ]
     },
     "execution_count": 25,
     "metadata": {},
     "output_type": "execute_result"
    }
   ],
   "source": [
    "categor_df.columns"
   ]
  },
  {
   "cell_type": "code",
   "execution_count": 26,
   "id": "5e5d9b21",
   "metadata": {},
   "outputs": [
    {
     "data": {
      "text/html": [
       "<div>\n",
       "<style scoped>\n",
       "    .dataframe tbody tr th:only-of-type {\n",
       "        vertical-align: middle;\n",
       "    }\n",
       "\n",
       "    .dataframe tbody tr th {\n",
       "        vertical-align: top;\n",
       "    }\n",
       "\n",
       "    .dataframe thead th {\n",
       "        text-align: right;\n",
       "    }\n",
       "</style>\n",
       "<table border=\"1\" class=\"dataframe\">\n",
       "  <thead>\n",
       "    <tr style=\"text-align: right;\">\n",
       "      <th></th>\n",
       "      <th>credit_rating</th>\n",
       "      <th>age</th>\n",
       "      <th>tenure</th>\n",
       "      <th>balance</th>\n",
       "      <th>estimated_salary</th>\n",
       "    </tr>\n",
       "  </thead>\n",
       "  <tbody>\n",
       "    <tr>\n",
       "      <th>count</th>\n",
       "      <td>4846.000000</td>\n",
       "      <td>4846.000000</td>\n",
       "      <td>4846.000000</td>\n",
       "      <td>4846.000000</td>\n",
       "      <td>4846.000000</td>\n",
       "    </tr>\n",
       "    <tr>\n",
       "      <th>mean</th>\n",
       "      <td>650.048906</td>\n",
       "      <td>53.835328</td>\n",
       "      <td>5.012794</td>\n",
       "      <td>77033.966946</td>\n",
       "      <td>100079.144519</td>\n",
       "    </tr>\n",
       "    <tr>\n",
       "      <th>std</th>\n",
       "      <td>95.929732</td>\n",
       "      <td>20.959052</td>\n",
       "      <td>2.897464</td>\n",
       "      <td>62040.196664</td>\n",
       "      <td>57476.086635</td>\n",
       "    </tr>\n",
       "    <tr>\n",
       "      <th>min</th>\n",
       "      <td>350.000000</td>\n",
       "      <td>18.000000</td>\n",
       "      <td>0.000000</td>\n",
       "      <td>0.000000</td>\n",
       "      <td>11.580000</td>\n",
       "    </tr>\n",
       "    <tr>\n",
       "      <th>1%</th>\n",
       "      <td>432.000000</td>\n",
       "      <td>18.000000</td>\n",
       "      <td>0.000000</td>\n",
       "      <td>0.000000</td>\n",
       "      <td>1711.884500</td>\n",
       "    </tr>\n",
       "    <tr>\n",
       "      <th>5%</th>\n",
       "      <td>490.250000</td>\n",
       "      <td>21.000000</td>\n",
       "      <td>1.000000</td>\n",
       "      <td>0.000000</td>\n",
       "      <td>10042.015000</td>\n",
       "    </tr>\n",
       "    <tr>\n",
       "      <th>10%</th>\n",
       "      <td>521.000000</td>\n",
       "      <td>25.000000</td>\n",
       "      <td>1.000000</td>\n",
       "      <td>0.000000</td>\n",
       "      <td>20370.065000</td>\n",
       "    </tr>\n",
       "    <tr>\n",
       "      <th>25%</th>\n",
       "      <td>584.000000</td>\n",
       "      <td>36.000000</td>\n",
       "      <td>2.000000</td>\n",
       "      <td>0.000000</td>\n",
       "      <td>50578.670000</td>\n",
       "    </tr>\n",
       "    <tr>\n",
       "      <th>50%</th>\n",
       "      <td>651.000000</td>\n",
       "      <td>54.000000</td>\n",
       "      <td>5.000000</td>\n",
       "      <td>97729.660000</td>\n",
       "      <td>100783.160000</td>\n",
       "    </tr>\n",
       "    <tr>\n",
       "      <th>70%</th>\n",
       "      <td>703.000000</td>\n",
       "      <td>68.000000</td>\n",
       "      <td>7.000000</td>\n",
       "      <td>122061.535000</td>\n",
       "      <td>138875.680000</td>\n",
       "    </tr>\n",
       "    <tr>\n",
       "      <th>85%</th>\n",
       "      <td>753.000000</td>\n",
       "      <td>79.000000</td>\n",
       "      <td>8.000000</td>\n",
       "      <td>140282.387500</td>\n",
       "      <td>169931.632500</td>\n",
       "    </tr>\n",
       "    <tr>\n",
       "      <th>90%</th>\n",
       "      <td>775.000000</td>\n",
       "      <td>83.000000</td>\n",
       "      <td>9.000000</td>\n",
       "      <td>148879.240000</td>\n",
       "      <td>179633.270000</td>\n",
       "    </tr>\n",
       "    <tr>\n",
       "      <th>99%</th>\n",
       "      <td>850.000000</td>\n",
       "      <td>90.000000</td>\n",
       "      <td>10.000000</td>\n",
       "      <td>186912.253500</td>\n",
       "      <td>198057.711000</td>\n",
       "    </tr>\n",
       "    <tr>\n",
       "      <th>max</th>\n",
       "      <td>850.000000</td>\n",
       "      <td>90.000000</td>\n",
       "      <td>10.000000</td>\n",
       "      <td>238387.560000</td>\n",
       "      <td>199953.330000</td>\n",
       "    </tr>\n",
       "  </tbody>\n",
       "</table>\n",
       "</div>"
      ],
      "text/plain": [
       "       credit_rating          age       tenure        balance  \\\n",
       "count    4846.000000  4846.000000  4846.000000    4846.000000   \n",
       "mean      650.048906    53.835328     5.012794   77033.966946   \n",
       "std        95.929732    20.959052     2.897464   62040.196664   \n",
       "min       350.000000    18.000000     0.000000       0.000000   \n",
       "1%        432.000000    18.000000     0.000000       0.000000   \n",
       "5%        490.250000    21.000000     1.000000       0.000000   \n",
       "10%       521.000000    25.000000     1.000000       0.000000   \n",
       "25%       584.000000    36.000000     2.000000       0.000000   \n",
       "50%       651.000000    54.000000     5.000000   97729.660000   \n",
       "70%       703.000000    68.000000     7.000000  122061.535000   \n",
       "85%       753.000000    79.000000     8.000000  140282.387500   \n",
       "90%       775.000000    83.000000     9.000000  148879.240000   \n",
       "99%       850.000000    90.000000    10.000000  186912.253500   \n",
       "max       850.000000    90.000000    10.000000  238387.560000   \n",
       "\n",
       "       estimated_salary  \n",
       "count       4846.000000  \n",
       "mean      100079.144519  \n",
       "std        57476.086635  \n",
       "min           11.580000  \n",
       "1%          1711.884500  \n",
       "5%         10042.015000  \n",
       "10%        20370.065000  \n",
       "25%        50578.670000  \n",
       "50%       100783.160000  \n",
       "70%       138875.680000  \n",
       "85%       169931.632500  \n",
       "90%       179633.270000  \n",
       "99%       198057.711000  \n",
       "max       199953.330000  "
      ]
     },
     "execution_count": 26,
     "metadata": {},
     "output_type": "execute_result"
    }
   ],
   "source": [
    "num_df.describe(percentiles=[0.01,0.05,0.10,0.25,0.50,0.70,0.85,0.9,0.99])"
   ]
  },
  {
   "cell_type": "code",
   "execution_count": 27,
   "id": "6793e6c3",
   "metadata": {},
   "outputs": [
    {
     "data": {
      "text/plain": [
       "<Figure size 432x288 with 0 Axes>"
      ]
     },
     "metadata": {},
     "output_type": "display_data"
    },
    {
     "data": {
      "image/png": "[encoded data removed]",
      "text/plain": [
       "<Figure size 690.375x216 with 1 Axes>"
      ]
     },
     "metadata": {
      "needs_background": "light"
     },
     "output_type": "display_data"
    },
    {
     "data": {
      "text/plain": [
       "<Figure size 432x288 with 0 Axes>"
      ]
     },
     "metadata": {},
     "output_type": "display_data"
    },
    {
     "data": {
      "image/png": "[encoded data removed]",
      "text/plain": [
       "<Figure size 690.375x216 with 1 Axes>"
      ]
     },
     "metadata": {
      "needs_background": "light"
     },
     "output_type": "display_data"
    },
    {
     "data": {
      "text/plain": [
       "<Figure size 432x288 with 0 Axes>"
      ]
     },
     "metadata": {},
     "output_type": "display_data"
    },
    {
     "data": {
      "image/png": "[encoded data removed]",
      "text/plain": [
       "<Figure size 690.375x216 with 1 Axes>"
      ]
     },
     "metadata": {
      "needs_background": "light"
     },
     "output_type": "display_data"
    },
    {
     "data": {
      "text/plain": [
       "<Figure size 432x288 with 0 Axes>"
      ]
     },
     "metadata": {},
     "output_type": "display_data"
    },
    {
     "data": {
      "image/png": "[encoded data removed]",
      "text/plain": [
       "<Figure size 690.375x216 with 1 Axes>"
      ]
     },
     "metadata": {
      "needs_background": "light"
     },
     "output_type": "display_data"
    },
    {
     "data": {
      "text/plain": [
       "<Figure size 432x288 with 0 Axes>"
      ]
     },
     "metadata": {},
     "output_type": "display_data"
    },
    {
     "data": {
      "image/png": "[encoded data removed]",
      "text/plain": [
       "<Figure size 690.375x216 with 1 Axes>"
      ]
     },
     "metadata": {
      "needs_background": "light"
     },
     "output_type": "display_data"
    }
   ],
   "source": [
    "num_df['exited'] = df['exited']\n",
    "for col in (num_df.columns[0:5]):\n",
    "    plt.figure()\n",
    "    facet = sns.FacetGrid(num_df, hue=\"exited\",aspect=3)\n",
    "    facet.map(sns.kdeplot,col,shade= True)\n",
    "    facet.set(xlim=(0, df[col].max()))\n",
    "    facet.add_legend()\n",
    "plt.show()"
   ]
  },
  {
   "cell_type": "markdown",
   "id": "508d2ee9",
   "metadata": {},
   "source": [
    "#### Data Analysis on basis of given numerical features\n",
    "\n",
    "1. There is no significant difference in the credit rating distribution between retained and churned customers.\n",
    "2. The age has min limit of 0 and max limit of 150. Both these values are very extreme. As the children below age of 18 cannot have their account. So it might be some joint account with their guardian. For more than 95 age is a miss entry as this is a very extreme value.\n",
    "3. Customers with tenure (below 1 year and 3-5 years) are having slightly more likely to churn compared to those that are of other tenure.\n",
    "4. Customers with significant bank balances have a righer churn rate. Which in turn can have some adverse effect on the bank.\n",
    "5. Estimated salary gives no valuabe input to the churn rate. But the minimum estimated salary value (11.58) is of concern to the data analysis."
   ]
  },
  {
   "cell_type": "code",
   "execution_count": 28,
   "id": "7312c0a8",
   "metadata": {},
   "outputs": [
    {
     "data": {
      "text/plain": [
       "5     110\n",
       "1     109\n",
       "3     107\n",
       "8     102\n",
       "9     101\n",
       "4      98\n",
       "6      94\n",
       "7      93\n",
       "2      92\n",
       "0      49\n",
       "10     47\n",
       "Name: tenure, dtype: int64"
      ]
     },
     "execution_count": 28,
     "metadata": {},
     "output_type": "execute_result"
    }
   ],
   "source": [
    "df[df['exited'] == 1][\"tenure\"].value_counts()"
   ]
  },
  {
   "cell_type": "code",
   "execution_count": 29,
   "id": "d92d9c58",
   "metadata": {},
   "outputs": [
    {
     "data": {
      "image/png": "[encoded data removed]",
      "text/plain": [
       "<Figure size 432x288 with 1 Axes>"
      ]
     },
     "metadata": {
      "needs_background": "light"
     },
     "output_type": "display_data"
    },
    {
     "data": {
      "image/png": "[encoded data removed]",
      "text/plain": [
       "<Figure size 432x288 with 1 Axes>"
      ]
     },
     "metadata": {
      "needs_background": "light"
     },
     "output_type": "display_data"
    },
    {
     "data": {
      "image/png": "[encoded data removed]",
      "text/plain": [
       "<Figure size 432x288 with 1 Axes>"
      ]
     },
     "metadata": {
      "needs_background": "light"
     },
     "output_type": "display_data"
    },
    {
     "data": {
      "image/png": "[encoded data removed]",
      "text/plain": [
       "<Figure size 432x288 with 1 Axes>"
      ]
     },
     "metadata": {
      "needs_background": "light"
     },
     "output_type": "display_data"
    },
    {
     "data": {
      "image/png": "[encoded data removed]",
      "text/plain": [
       "<Figure size 432x288 with 1 Axes>"
      ]
     },
     "metadata": {
      "needs_background": "light"
     },
     "output_type": "display_data"
    },
    {
     "data": {
      "image/png": "[encoded data removed]",
      "text/plain": [
       "<Figure size 432x288 with 1 Axes>"
      ]
     },
     "metadata": {
      "needs_background": "light"
     },
     "output_type": "display_data"
    }
   ],
   "source": [
    "# histogram and kernel density estimation function for distribution understanding\n",
    "for col in (num_df.columns):\n",
    "    plt.figure()\n",
    "    ax = sns.distplot(num_df[[col]], hist=True, hist_kws={\"edgecolor\": 'w', \"linewidth\": 3}, kde_kws={\"linewidth\": 3})\n",
    "    ax.annotate('Possible outlier', xy=(188,0.0030), xytext=(189,0.0070), fontsize=12,\n",
    "            arrowprops=dict(arrowstyle='->', ec='grey', lw=2), bbox = dict(boxstyle=\"round\", fc=\"0.8\"))\n",
    "    plt.xticks(fontsize=14)\n",
    "    plt.yticks(fontsize=14)\n",
    "    plt.xlabel(col)\n",
    "    plt.ylabel('frequency', fontsize=14)\n",
    "    plt.title('Distribution', fontsize=20);\n",
    "plt.show()"
   ]
  },
  {
   "cell_type": "markdown",
   "id": "bc4cb79d",
   "metadata": {},
   "source": [
    "#### Data Analysis on basis of given numerical features\n",
    "\n",
    "<b> 1. Credit Rating :</b> There is a normal distributaion for credit rating.\n",
    "\n",
    "<b> 2. Age : </b> The age has a normal distributaion for credit rating.\n",
    "\n",
    "<b> 3. Balance:</b> There are 2 peaks for the Balance. The 1st peak at 0 are probably for exited customers. The next peak is for retained customers."
   ]
  },
  {
   "cell_type": "code",
   "execution_count": 30,
   "id": "3d832726",
   "metadata": {},
   "outputs": [
    {
     "name": "stdout",
     "output_type": "stream",
     "text": [
      "<class 'pandas.core.frame.DataFrame'>\n",
      "Int64Index: 4846 entries, 2 to 10000\n",
      "Data columns (total 11 columns):\n",
      " #   Column            Non-Null Count  Dtype   \n",
      "---  ------            --------------  -----   \n",
      " 0   credit_rating     4846 non-null   int32   \n",
      " 1   country           4846 non-null   object  \n",
      " 2   gender            4846 non-null   category\n",
      " 3   age               4846 non-null   int32   \n",
      " 4   tenure            4846 non-null   int32   \n",
      " 5   balance           4846 non-null   float64 \n",
      " 6   number_products   4846 non-null   object  \n",
      " 7   credit_card       4846 non-null   object  \n",
      " 8   is_active         4846 non-null   object  \n",
      " 9   estimated_salary  4846 non-null   float64 \n",
      " 10  exited            4846 non-null   object  \n",
      "dtypes: category(1), float64(2), int32(3), object(5)\n",
      "memory usage: 364.5+ KB\n"
     ]
    }
   ],
   "source": [
    "df.info()"
   ]
  },
  {
   "cell_type": "code",
   "execution_count": 31,
   "id": "86fba364",
   "metadata": {},
   "outputs": [
    {
     "data": {
      "image/png": "[encoded data removed]",
      "text/plain": [
       "<Figure size 432x288 with 1 Axes>"
      ]
     },
     "metadata": {
      "needs_background": "light"
     },
     "output_type": "display_data"
    },
    {
     "data": {
      "image/png": "[encoded data removed]",
      "text/plain": [
       "<Figure size 432x288 with 1 Axes>"
      ]
     },
     "metadata": {
      "needs_background": "light"
     },
     "output_type": "display_data"
    },
    {
     "data": {
      "image/png": "[encoded data removed]",
      "text/plain": [
       "<Figure size 432x288 with 1 Axes>"
      ]
     },
     "metadata": {
      "needs_background": "light"
     },
     "output_type": "display_data"
    },
    {
     "data": {
      "image/png": "[encoded data removed]",
      "text/plain": [
       "<Figure size 432x288 with 1 Axes>"
      ]
     },
     "metadata": {
      "needs_background": "light"
     },
     "output_type": "display_data"
    },
    {
     "data": {
      "image/png": "[encoded data removed]",
      "text/plain": [
       "<Figure size 432x288 with 1 Axes>"
      ]
     },
     "metadata": {
      "needs_background": "light"
     },
     "output_type": "display_data"
    }
   ],
   "source": [
    "for col in (categor_df.columns):\n",
    "    plt.figure()\n",
    "    sns.countplot(x=col,hue = 'exited',data=df)\n",
    "plt.show()"
   ]
  },
  {
   "cell_type": "markdown",
   "id": "ab772331",
   "metadata": {},
   "source": [
    "#### Data Analysis on basis of given categorical features\n",
    "\n",
    "1. Largest churn rate is in Germany. Proportion of churned customers is with inversely related to the population of customers.\n",
    "2. number_product 3 and 4 have very high churn rate or percentage.\n",
    "3. Majority of the customers have a credit card. Customers without a Credit card have lower churn rate than those who have a credit card. Though this kind of observation can be a hypotheical scene. Or the bank has some poor services in Credit Card handling and so Churn is happening.\n",
    "5. The number of inactive customers for the bank is alarming. And this is the portion of customers who churn at a very high rate.Monitoring is required in this field and promotion/offers can be decided to make inactive members as active members.\n"
   ]
  },
  {
   "cell_type": "code",
   "execution_count": 32,
   "id": "f776600c",
   "metadata": {},
   "outputs": [
    {
     "data": {
      "image/png": "[encoded data removed]",
      "text/plain": [
       "<Figure size 792x576 with 2 Axes>"
      ]
     },
     "metadata": {
      "needs_background": "light"
     },
     "output_type": "display_data"
    }
   ],
   "source": [
    "#correlation plot\n",
    "plt.subplots(figsize=(11,8))\n",
    "sns.heatmap(df.corr(), annot=True, cmap=\"RdYlBu\")\n",
    "plt.show()"
   ]
  },
  {
   "cell_type": "code",
   "execution_count": 33,
   "id": "b59742de",
   "metadata": {},
   "outputs": [
    {
     "data": {
      "text/plain": [
       "credit_rating       0.0\n",
       "country             0.0\n",
       "gender              0.0\n",
       "age                 0.0\n",
       "tenure              0.0\n",
       "balance             0.0\n",
       "number_products     0.0\n",
       "credit_card         0.0\n",
       "is_active           0.0\n",
       "estimated_salary    0.0\n",
       "exited              0.0\n",
       "dtype: float64"
      ]
     },
     "execution_count": 33,
     "metadata": {},
     "output_type": "execute_result"
    }
   ],
   "source": [
    "#missing\n",
    "df.isnull().mean()"
   ]
  },
  {
   "cell_type": "code",
   "execution_count": 34,
   "id": "dc765728",
   "metadata": {},
   "outputs": [],
   "source": [
    "#Some extra features need to be created for understanding"
   ]
  },
  {
   "cell_type": "code",
   "execution_count": 35,
   "id": "38263fb3",
   "metadata": {},
   "outputs": [],
   "source": [
    "df['CreditScore_Age'] = df.credit_rating/(df.age)\n",
    "df['CreditScore_Salary'] = df.credit_rating/(df.estimated_salary)\n",
    "df['Balance_Salary_Ratio']= df.balance/(df.estimated_salary)"
   ]
  },
  {
   "cell_type": "code",
   "execution_count": 36,
   "id": "8f9072f7",
   "metadata": {},
   "outputs": [
    {
     "data": {
      "text/plain": [
       "<Figure size 432x288 with 0 Axes>"
      ]
     },
     "metadata": {},
     "output_type": "display_data"
    },
    {
     "data": {
      "image/png": "[encoded data removed]",
      "text/plain": [
       "<Figure size 690.375x216 with 1 Axes>"
      ]
     },
     "metadata": {
      "needs_background": "light"
     },
     "output_type": "display_data"
    },
    {
     "data": {
      "text/plain": [
       "<Figure size 432x288 with 0 Axes>"
      ]
     },
     "metadata": {},
     "output_type": "display_data"
    },
    {
     "data": {
      "image/png": "[encoded data removed]",
      "text/plain": [
       "<Figure size 690.375x216 with 1 Axes>"
      ]
     },
     "metadata": {
      "needs_background": "light"
     },
     "output_type": "display_data"
    },
    {
     "data": {
      "text/plain": [
       "<Figure size 432x288 with 0 Axes>"
      ]
     },
     "metadata": {},
     "output_type": "display_data"
    },
    {
     "data": {
      "image/png": "[encoded data removed]",
      "text/plain": [
       "<Figure size 690.375x216 with 1 Axes>"
      ]
     },
     "metadata": {
      "needs_background": "light"
     },
     "output_type": "display_data"
    },
    {
     "data": {
      "text/plain": [
       "<Figure size 432x288 with 0 Axes>"
      ]
     },
     "metadata": {},
     "output_type": "display_data"
    },
    {
     "data": {
      "image/png": "[encoded data removed]",
      "text/plain": [
       "<Figure size 690.375x216 with 1 Axes>"
      ]
     },
     "metadata": {
      "needs_background": "light"
     },
     "output_type": "display_data"
    },
    {
     "data": {
      "text/plain": [
       "<Figure size 432x288 with 0 Axes>"
      ]
     },
     "metadata": {},
     "output_type": "display_data"
    },
    {
     "data": {
      "image/png": "[encoded data removed]",
      "text/plain": [
       "<Figure size 690.375x216 with 1 Axes>"
      ]
     },
     "metadata": {
      "needs_background": "light"
     },
     "output_type": "display_data"
    },
    {
     "data": {
      "text/plain": [
       "<Figure size 432x288 with 0 Axes>"
      ]
     },
     "metadata": {},
     "output_type": "display_data"
    },
    {
     "data": {
      "image/png": "[encoded data removed]",
      "text/plain": [
       "<Figure size 690.375x216 with 1 Axes>"
      ]
     },
     "metadata": {
      "needs_background": "light"
     },
     "output_type": "display_data"
    }
   ],
   "source": [
    "num_df['exited'] = df['exited']\n",
    "\n",
    "for col in (num_df.columns):\n",
    "    plt.figure()\n",
    "    facet = sns.FacetGrid(num_df, hue=\"exited\",aspect=3)\n",
    "    facet.map(sns.kdeplot,col,shade= True)\n",
    "    facet.set(xlim=(0, df[col].max()))\n",
    "    facet.add_legend()\n",
    "plt.show()"
   ]
  },
  {
   "cell_type": "code",
   "execution_count": 37,
   "id": "f00e5830",
   "metadata": {},
   "outputs": [],
   "source": [
    "#converting some columns to int to check the modelling\n",
    "df[[\"number_products\",\"credit_card\",\"is_active\"]] = df[[\"number_products\",\"credit_card\",\"is_active\"]].astype(str).astype(int)"
   ]
  },
  {
   "cell_type": "code",
   "execution_count": 38,
   "id": "c403c646",
   "metadata": {},
   "outputs": [
    {
     "data": {
      "text/html": [
       "<div>\n",
       "<style scoped>\n",
       "    .dataframe tbody tr th:only-of-type {\n",
       "        vertical-align: middle;\n",
       "    }\n",
       "\n",
       "    .dataframe tbody tr th {\n",
       "        vertical-align: top;\n",
       "    }\n",
       "\n",
       "    .dataframe thead th {\n",
       "        text-align: right;\n",
       "    }\n",
       "</style>\n",
       "<table border=\"1\" class=\"dataframe\">\n",
       "  <thead>\n",
       "    <tr style=\"text-align: right;\">\n",
       "      <th></th>\n",
       "      <th>credit_rating</th>\n",
       "      <th>country</th>\n",
       "      <th>gender</th>\n",
       "      <th>age</th>\n",
       "      <th>tenure</th>\n",
       "      <th>balance</th>\n",
       "      <th>number_products</th>\n",
       "      <th>credit_card</th>\n",
       "      <th>is_active</th>\n",
       "      <th>estimated_salary</th>\n",
       "      <th>exited</th>\n",
       "    </tr>\n",
       "  </thead>\n",
       "  <tbody>\n",
       "    <tr>\n",
       "      <th>2</th>\n",
       "      <td>608</td>\n",
       "      <td>Spain</td>\n",
       "      <td>Female</td>\n",
       "      <td>38</td>\n",
       "      <td>1</td>\n",
       "      <td>83807.86</td>\n",
       "      <td>1</td>\n",
       "      <td>0</td>\n",
       "      <td>1</td>\n",
       "      <td>112542.58</td>\n",
       "      <td>0</td>\n",
       "    </tr>\n",
       "    <tr>\n",
       "      <th>3</th>\n",
       "      <td>502</td>\n",
       "      <td>France</td>\n",
       "      <td>Female</td>\n",
       "      <td>54</td>\n",
       "      <td>8</td>\n",
       "      <td>159660.80</td>\n",
       "      <td>3</td>\n",
       "      <td>1</td>\n",
       "      <td>0</td>\n",
       "      <td>113931.57</td>\n",
       "      <td>1</td>\n",
       "    </tr>\n",
       "    <tr>\n",
       "      <th>5</th>\n",
       "      <td>850</td>\n",
       "      <td>Spain</td>\n",
       "      <td>Female</td>\n",
       "      <td>54</td>\n",
       "      <td>2</td>\n",
       "      <td>125510.82</td>\n",
       "      <td>1</td>\n",
       "      <td>1</td>\n",
       "      <td>1</td>\n",
       "      <td>79084.10</td>\n",
       "      <td>0</td>\n",
       "    </tr>\n",
       "    <tr>\n",
       "      <th>6</th>\n",
       "      <td>645</td>\n",
       "      <td>Spain</td>\n",
       "      <td>Male</td>\n",
       "      <td>35</td>\n",
       "      <td>8</td>\n",
       "      <td>113755.78</td>\n",
       "      <td>2</td>\n",
       "      <td>1</td>\n",
       "      <td>0</td>\n",
       "      <td>149756.71</td>\n",
       "      <td>1</td>\n",
       "    </tr>\n",
       "    <tr>\n",
       "      <th>11</th>\n",
       "      <td>528</td>\n",
       "      <td>France</td>\n",
       "      <td>Male</td>\n",
       "      <td>49</td>\n",
       "      <td>6</td>\n",
       "      <td>102016.72</td>\n",
       "      <td>2</td>\n",
       "      <td>0</td>\n",
       "      <td>0</td>\n",
       "      <td>80181.12</td>\n",
       "      <td>0</td>\n",
       "    </tr>\n",
       "  </tbody>\n",
       "</table>\n",
       "</div>"
      ],
      "text/plain": [
       "    credit_rating country  gender  age  tenure    balance  number_products  \\\n",
       "2             608   Spain  Female   38       1   83807.86                1   \n",
       "3             502  France  Female   54       8  159660.80                3   \n",
       "5             850   Spain  Female   54       2  125510.82                1   \n",
       "6             645   Spain    Male   35       8  113755.78                2   \n",
       "11            528  France    Male   49       6  102016.72                2   \n",
       "\n",
       "    credit_card  is_active  estimated_salary exited  \n",
       "2             0          1         112542.58      0  \n",
       "3             1          0         113931.57      1  \n",
       "5             1          1          79084.10      0  \n",
       "6             1          0         149756.71      1  \n",
       "11            0          0          80181.12      0  "
      ]
     },
     "execution_count": 38,
     "metadata": {},
     "output_type": "execute_result"
    }
   ],
   "source": [
    "df = df.drop(columns=['CreditScore_Age','CreditScore_Salary','Balance_Salary_Ratio'])\n",
    "df.head()"
   ]
  },
  {
   "cell_type": "raw",
   "id": "09bde6b1",
   "metadata": {},
   "source": [
    "# One hot encode the categorical variables (country,gender)\n",
    "\n",
    "cat_columns = ['country', 'gender']\n",
    "temp = []\n",
    "for i in cat_columns:\n",
    "    if (df[i].dtype == np.str or df[i].dtype == np.object):\n",
    "        for j in df[i].unique():\n",
    "            df[i+'_'+j] = np.where(df[i] == j,1,0)\n",
    "        temp.append(i)\n",
    "df = df.drop(temp, axis=1)\n",
    "df.head()"
   ]
  },
  {
   "cell_type": "code",
   "execution_count": 39,
   "id": "f2194e94",
   "metadata": {},
   "outputs": [],
   "source": [
    "#Encoding categorical variables\n",
    "df[\"gender\"] = df[\"gender\"].replace([\"Male\", \"Female\"], [0,1])\n",
    "df[\"country\"] = df[\"country\"].replace([\"Spain\", \"France\", \"Germany\"], [0,1,2])"
   ]
  },
  {
   "cell_type": "markdown",
   "id": "cebf71ae",
   "metadata": {},
   "source": [
    "### Step 2: Implement a model to forecast which customers are supposed to leave the bank\n",
    "#### Model Implement"
   ]
  },
  {
   "cell_type": "code",
   "execution_count": 40,
   "id": "c783a9f8",
   "metadata": {},
   "outputs": [],
   "source": [
    "# Preparing for model traing\n",
    "x = df.drop(\"exited\", axis=1)\n",
    "y = df[\"exited\"]\n",
    "y=y.astype('int')"
   ]
  },
  {
   "cell_type": "code",
   "execution_count": 41,
   "id": "668aeaad",
   "metadata": {},
   "outputs": [],
   "source": [
    "from sklearn.preprocessing import MinMaxScaler\n",
    "scaler = MinMaxScaler() \n",
    "\n",
    "to_scale_features = [\"credit_rating\", \"age\", \"balance\",'estimated_salary']\n",
    "\n",
    "df_scaled = pd.DataFrame(data = x)\n",
    "df_scaled[to_scale_features] = scaler.fit_transform(x[to_scale_features])\n",
    "df_scaled = x"
   ]
  },
  {
   "cell_type": "raw",
   "id": "64302cbd",
   "metadata": {},
   "source": [
    "#Encoding categorical variables\n",
    "x[\"gender\"] = x[\"gender\"].replace([\"Male\", \"Female\"], [0,1])"
   ]
  },
  {
   "cell_type": "code",
   "execution_count": 42,
   "id": "5ca6445b",
   "metadata": {},
   "outputs": [
    {
     "data": {
      "text/html": [
       "<div>\n",
       "<style scoped>\n",
       "    .dataframe tbody tr th:only-of-type {\n",
       "        vertical-align: middle;\n",
       "    }\n",
       "\n",
       "    .dataframe tbody tr th {\n",
       "        vertical-align: top;\n",
       "    }\n",
       "\n",
       "    .dataframe thead th {\n",
       "        text-align: right;\n",
       "    }\n",
       "</style>\n",
       "<table border=\"1\" class=\"dataframe\">\n",
       "  <thead>\n",
       "    <tr style=\"text-align: right;\">\n",
       "      <th></th>\n",
       "      <th>credit_rating</th>\n",
       "      <th>country</th>\n",
       "      <th>gender</th>\n",
       "      <th>age</th>\n",
       "      <th>tenure</th>\n",
       "      <th>balance</th>\n",
       "      <th>number_products</th>\n",
       "      <th>credit_card</th>\n",
       "      <th>is_active</th>\n",
       "      <th>estimated_salary</th>\n",
       "    </tr>\n",
       "  </thead>\n",
       "  <tbody>\n",
       "    <tr>\n",
       "      <th>2</th>\n",
       "      <td>0.516</td>\n",
       "      <td>0</td>\n",
       "      <td>1</td>\n",
       "      <td>0.277778</td>\n",
       "      <td>1</td>\n",
       "      <td>0.351561</td>\n",
       "      <td>1</td>\n",
       "      <td>0</td>\n",
       "      <td>1</td>\n",
       "      <td>0.562819</td>\n",
       "    </tr>\n",
       "    <tr>\n",
       "      <th>3</th>\n",
       "      <td>0.304</td>\n",
       "      <td>1</td>\n",
       "      <td>1</td>\n",
       "      <td>0.500000</td>\n",
       "      <td>8</td>\n",
       "      <td>0.669753</td>\n",
       "      <td>3</td>\n",
       "      <td>1</td>\n",
       "      <td>0</td>\n",
       "      <td>0.569766</td>\n",
       "    </tr>\n",
       "    <tr>\n",
       "      <th>5</th>\n",
       "      <td>1.000</td>\n",
       "      <td>0</td>\n",
       "      <td>1</td>\n",
       "      <td>0.500000</td>\n",
       "      <td>2</td>\n",
       "      <td>0.526499</td>\n",
       "      <td>1</td>\n",
       "      <td>1</td>\n",
       "      <td>1</td>\n",
       "      <td>0.395478</td>\n",
       "    </tr>\n",
       "    <tr>\n",
       "      <th>6</th>\n",
       "      <td>0.590</td>\n",
       "      <td>0</td>\n",
       "      <td>0</td>\n",
       "      <td>0.236111</td>\n",
       "      <td>8</td>\n",
       "      <td>0.477188</td>\n",
       "      <td>2</td>\n",
       "      <td>1</td>\n",
       "      <td>0</td>\n",
       "      <td>0.748944</td>\n",
       "    </tr>\n",
       "    <tr>\n",
       "      <th>11</th>\n",
       "      <td>0.356</td>\n",
       "      <td>1</td>\n",
       "      <td>0</td>\n",
       "      <td>0.430556</td>\n",
       "      <td>6</td>\n",
       "      <td>0.427945</td>\n",
       "      <td>2</td>\n",
       "      <td>0</td>\n",
       "      <td>0</td>\n",
       "      <td>0.400964</td>\n",
       "    </tr>\n",
       "  </tbody>\n",
       "</table>\n",
       "</div>"
      ],
      "text/plain": [
       "    credit_rating  country  gender       age  tenure   balance  \\\n",
       "2           0.516        0       1  0.277778       1  0.351561   \n",
       "3           0.304        1       1  0.500000       8  0.669753   \n",
       "5           1.000        0       1  0.500000       2  0.526499   \n",
       "6           0.590        0       0  0.236111       8  0.477188   \n",
       "11          0.356        1       0  0.430556       6  0.427945   \n",
       "\n",
       "    number_products  credit_card  is_active  estimated_salary  \n",
       "2                 1            0          1          0.562819  \n",
       "3                 3            1          0          0.569766  \n",
       "5                 1            1          1          0.395478  \n",
       "6                 2            1          0          0.748944  \n",
       "11                2            0          0          0.400964  "
      ]
     },
     "execution_count": 42,
     "metadata": {},
     "output_type": "execute_result"
    }
   ],
   "source": [
    "x.head()"
   ]
  },
  {
   "cell_type": "code",
   "execution_count": 43,
   "id": "203f193f",
   "metadata": {},
   "outputs": [],
   "source": [
    "x_train, x_test, y_train, y_test = train_test_split(x, y, test_size=0.2, random_state=1)"
   ]
  },
  {
   "cell_type": "code",
   "execution_count": 44,
   "id": "6e268cc5",
   "metadata": {},
   "outputs": [
    {
     "name": "stdout",
     "output_type": "stream",
     "text": [
      "Shape of Training Data (3876, 10)\n",
      "Shape of Testing Data (970, 10)\n",
      "Churn Rate in Training Data 0.20768833849329205\n",
      "Churn Rate in Testing Data 0.20309278350515464\n"
     ]
    }
   ],
   "source": [
    "print(\"Shape of Training Data\",x_train.shape)\n",
    "print(\"Shape of Testing Data\",x_test.shape)\n",
    "print(\"Churn Rate in Training Data\",y_train.mean())\n",
    "print(\"Churn Rate in Testing Data\",y_test.mean())"
   ]
  },
  {
   "cell_type": "code",
   "execution_count": 45,
   "id": "d0347f2d",
   "metadata": {},
   "outputs": [],
   "source": [
    "def print_score(clf, x_train, y_train, x_test, y_test, train=True):\n",
    "    if train:\n",
    "        pred = clf.predict(x_train)\n",
    "        clf_report = pd.DataFrame(classification_report(y_train, pred, output_dict=True))\n",
    "        print(\"Train Result:\\n================================================\")\n",
    "        print(f\"Accuracy Score: {accuracy_score(y_train, pred) * 100:.2f}%\")\n",
    "        print(\"_______________________________________________\")\n",
    "        print(f\"CLASSIFICATION REPORT:\\n{clf_report}\")\n",
    "        print(\"_______________________________________________\")\n",
    "        print(f\"Confusion Matrix: \\n {confusion_matrix(y_train, pred)}\\n\")\n",
    "        \n",
    "    elif train==False:\n",
    "        pred = clf.predict(x_test)\n",
    "        clf_report = pd.DataFrame(classification_report(y_test, pred, output_dict=True))\n",
    "        print(\"Test Result:\\n================================================\")        \n",
    "        print(f\"Accuracy Score: {accuracy_score(y_test, pred) * 100:.2f}%\")\n",
    "        print(\"_______________________________________________\")\n",
    "        print(f\"CLASSIFICATION REPORT:\\n{clf_report}\")\n",
    "        print(\"_______________________________________________\")\n",
    "        print(f\"Confusion Matrix: \\n {confusion_matrix(y_test, pred)}\\n\")"
   ]
  },
  {
   "cell_type": "code",
   "execution_count": 46,
   "id": "0a5c6b34",
   "metadata": {},
   "outputs": [],
   "source": [
    "from sklearn.linear_model import LogisticRegression"
   ]
  },
  {
   "cell_type": "code",
   "execution_count": 47,
   "id": "c00a3944",
   "metadata": {},
   "outputs": [
    {
     "name": "stdout",
     "output_type": "stream",
     "text": [
      "Train Result:\n",
      "================================================\n",
      "Accuracy Score: 79.18%\n",
      "_______________________________________________\n",
      "CLASSIFICATION REPORT:\n",
      "                     0           1  accuracy    macro avg  weighted avg\n",
      "precision     0.792809    0.400000  0.791796     0.596405      0.711227\n",
      "recall        0.998046    0.004969  0.791796     0.501508      0.791796\n",
      "f1-score      0.883667    0.009816  0.791796     0.446742      0.702179\n",
      "support    3071.000000  805.000000  0.791796  3876.000000   3876.000000\n",
      "_______________________________________________\n",
      "Confusion Matrix: \n",
      " [[3065    6]\n",
      " [ 801    4]]\n",
      "\n",
      "Test Result:\n",
      "================================================\n",
      "Accuracy Score: 79.59%\n",
      "_______________________________________________\n",
      "CLASSIFICATION REPORT:\n",
      "                    0      1  accuracy   macro avg  weighted avg\n",
      "precision    0.796698    0.0  0.795876    0.398349      0.634894\n",
      "recall       0.998706    0.0  0.795876    0.499353      0.795876\n",
      "f1-score     0.886338    0.0  0.795876    0.443169      0.706329\n",
      "support    773.000000  197.0  0.795876  970.000000    970.000000\n",
      "_______________________________________________\n",
      "Confusion Matrix: \n",
      " [[772   1]\n",
      " [197   0]]\n",
      "\n"
     ]
    }
   ],
   "source": [
    "logreg=LogisticRegression(random_state=0)\n",
    "logreg.fit(x_train,y_train)\n",
    "print_score(logreg, x_train,y_train, x_test, y_test, train=True)\n",
    "print_score(logreg, x_train, y_train, x_test, y_test, train=False)"
   ]
  },
  {
   "cell_type": "code",
   "execution_count": 48,
   "id": "97134da4",
   "metadata": {},
   "outputs": [],
   "source": [
    "# Building a Decision Tree Model\n",
    "from sklearn.tree import DecisionTreeClassifier\n",
    "dtree=DecisionTreeClassifier(criterion='gini',random_state=0)"
   ]
  },
  {
   "cell_type": "code",
   "execution_count": 49,
   "id": "f5b7d1eb",
   "metadata": {},
   "outputs": [
    {
     "name": "stdout",
     "output_type": "stream",
     "text": [
      "Train Result:\n",
      "================================================\n",
      "Accuracy Score: 81.63%\n",
      "_______________________________________________\n",
      "CLASSIFICATION REPORT:\n",
      "                     0           1  accuracy    macro avg  weighted avg\n",
      "precision     0.818010    0.778443  0.816305     0.798227      0.809793\n",
      "recall        0.987952    0.161491  0.816305     0.574721      0.816305\n",
      "f1-score      0.894985    0.267490  0.816305     0.581237      0.764662\n",
      "support    3071.000000  805.000000  0.816305  3876.000000   3876.000000\n",
      "_______________________________________________\n",
      "Confusion Matrix: \n",
      " [[3034   37]\n",
      " [ 675  130]]\n",
      "\n",
      "Test Result:\n",
      "================================================\n",
      "Accuracy Score: 81.86%\n",
      "_______________________________________________\n",
      "CLASSIFICATION REPORT:\n",
      "                    0           1  accuracy   macro avg  weighted avg\n",
      "precision    0.819936    0.783784  0.818557    0.801860      0.812593\n",
      "recall       0.989651    0.147208  0.818557    0.568429      0.818557\n",
      "f1-score     0.896835    0.247863  0.818557    0.572349      0.765033\n",
      "support    773.000000  197.000000  0.818557  970.000000    970.000000\n",
      "_______________________________________________\n",
      "Confusion Matrix: \n",
      " [[765   8]\n",
      " [168  29]]\n",
      "\n"
     ]
    }
   ],
   "source": [
    "dtree=DecisionTreeClassifier(criterion='gini',random_state=0,max_depth=6,min_samples_split=500)\n",
    "dtree.fit(x_train,y_train)\n",
    "print_score(dtree, x_train,y_train, x_test, y_test, train=True)\n",
    "print_score(dtree, x_train,y_train, x_test, y_test, train=False)"
   ]
  },
  {
   "cell_type": "code",
   "execution_count": 50,
   "id": "fdfe08c0",
   "metadata": {},
   "outputs": [
    {
     "name": "stdout",
     "output_type": "stream",
     "text": [
      "Train Result:\n",
      "================================================\n",
      "Accuracy Score: 81.60%\n",
      "_______________________________________________\n",
      "CLASSIFICATION REPORT:\n",
      "                     0           1  accuracy    macro avg  weighted avg\n",
      "precision     0.814568    0.859375  0.816047     0.836971      0.823874\n",
      "recall        0.994139    0.136646  0.816047     0.565392      0.816047\n",
      "f1-score      0.895439    0.235798  0.816047     0.565619      0.758440\n",
      "support    3071.000000  805.000000  0.816047  3876.000000   3876.000000\n",
      "_______________________________________________\n",
      "Confusion Matrix: \n",
      " [[3053   18]\n",
      " [ 695  110]]\n",
      "\n",
      "Test Result:\n",
      "================================================\n",
      "Accuracy Score: 81.96%\n",
      "_______________________________________________\n",
      "CLASSIFICATION REPORT:\n",
      "                    0           1  accuracy   macro avg  weighted avg\n",
      "precision    0.819444    0.823529  0.819588    0.821487      0.820274\n",
      "recall       0.992238    0.142132  0.819588    0.567185      0.819588\n",
      "f1-score     0.897601    0.242424  0.819588    0.570013      0.764539\n",
      "support    773.000000  197.000000  0.819588  970.000000    970.000000\n",
      "_______________________________________________\n",
      "Confusion Matrix: \n",
      " [[767   6]\n",
      " [169  28]]\n",
      "\n"
     ]
    }
   ],
   "source": [
    "# Building a Random Forest Model\n",
    "from sklearn.ensemble import RandomForestClassifier\n",
    "rf=RandomForestClassifier(criterion='gini',random_state=0,max_depth=6,min_samples_split=500)\n",
    "rf.fit(x_train,y_train)\n",
    "print_score(rf, x_train,y_train, x_test, y_test, train=True)\n",
    "print_score(rf, x_train, y_train, x_test, y_test, train=False)"
   ]
  },
  {
   "cell_type": "code",
   "execution_count": 51,
   "id": "59cf8ea6",
   "metadata": {},
   "outputs": [],
   "source": [
    "features = x.columns"
   ]
  },
  {
   "cell_type": "code",
   "execution_count": 52,
   "id": "a2b78c45",
   "metadata": {},
   "outputs": [
    {
     "name": "stdout",
     "output_type": "stream",
     "text": [
      "Feature ranking:\n",
      "1. number_products (0.556441)\n",
      "2. country (0.175317)\n",
      "3. balance (0.088581)\n",
      "4. is_active (0.071554)\n",
      "5. gender (0.054677)\n",
      "6. credit_rating (0.024026)\n",
      "7. estimated_salary (0.014444)\n",
      "8. age (0.009324)\n",
      "9. tenure (0.005307)\n",
      "10. credit_card (0.000330)\n"
     ]
    }
   ],
   "source": [
    "importances = rf.feature_importances_\n",
    "std = np.std([tree.feature_importances_ for tree in rf.estimators_], axis=0)\n",
    "indices = np.argsort(importances)[::-1]\n",
    "\n",
    "print(\"Feature ranking:\")\n",
    "for f in range(x_train.shape[1]):\n",
    "    print(\"%d. %s (%f)\" % (f + 1, features[indices[f]], importances[indices[f]]))"
   ]
  },
  {
   "cell_type": "code",
   "execution_count": 53,
   "id": "8b9c9aa0",
   "metadata": {},
   "outputs": [
    {
     "name": "stdout",
     "output_type": "stream",
     "text": [
      "Train Result:\n",
      "================================================\n",
      "Accuracy Score: 86.51%\n",
      "_______________________________________________\n",
      "CLASSIFICATION REPORT:\n",
      "                     0           1  accuracy    macro avg  weighted avg\n",
      "precision     0.864834    0.867188  0.865067     0.866011      0.865323\n",
      "recall        0.983393    0.413665  0.865067     0.698529      0.865067\n",
      "f1-score      0.920311    0.560135  0.865067     0.740223      0.845506\n",
      "support    3071.000000  805.000000  0.865067  3876.000000   3876.000000\n",
      "_______________________________________________\n",
      "Confusion Matrix: \n",
      " [[3020   51]\n",
      " [ 472  333]]\n",
      "\n",
      "Test Result:\n",
      "================================================\n",
      "Accuracy Score: 83.40%\n",
      "_______________________________________________\n",
      "CLASSIFICATION REPORT:\n",
      "                    0           1  accuracy   macro avg  weighted avg\n",
      "precision    0.847727    0.700000  0.834021    0.773864      0.817725\n",
      "recall       0.965071    0.319797  0.834021    0.642434      0.834021\n",
      "f1-score     0.902601    0.439024  0.834021    0.670813      0.808452\n",
      "support    773.000000  197.000000  0.834021  970.000000    970.000000\n",
      "_______________________________________________\n",
      "Confusion Matrix: \n",
      " [[746  27]\n",
      " [134  63]]\n",
      "\n"
     ]
    }
   ],
   "source": [
    "# Building a Gradient Boosting Model\n",
    "from sklearn.ensemble import GradientBoostingClassifier\n",
    "gbm=GradientBoostingClassifier(criterion='mse',random_state=0,max_depth=6,min_samples_split=500)\n",
    "gbm.fit(x_train,y_train)\n",
    "print_score(gbm, x_train, y_train, x_test, y_test, train=True)\n",
    "print_score(gbm, x_train, y_train, x_test, y_test, train=False)"
   ]
  },
  {
   "cell_type": "code",
   "execution_count": 54,
   "id": "af306a46",
   "metadata": {},
   "outputs": [
    {
     "data": {
      "text/html": [
       "<div>\n",
       "<style scoped>\n",
       "    .dataframe tbody tr th:only-of-type {\n",
       "        vertical-align: middle;\n",
       "    }\n",
       "\n",
       "    .dataframe tbody tr th {\n",
       "        vertical-align: top;\n",
       "    }\n",
       "\n",
       "    .dataframe thead th {\n",
       "        text-align: right;\n",
       "    }\n",
       "</style>\n",
       "<table border=\"1\" class=\"dataframe\">\n",
       "  <thead>\n",
       "    <tr style=\"text-align: right;\">\n",
       "      <th></th>\n",
       "      <th>importance</th>\n",
       "    </tr>\n",
       "  </thead>\n",
       "  <tbody>\n",
       "    <tr>\n",
       "      <th>number_products</th>\n",
       "      <td>0.380903</td>\n",
       "    </tr>\n",
       "    <tr>\n",
       "      <th>balance</th>\n",
       "      <td>0.199899</td>\n",
       "    </tr>\n",
       "    <tr>\n",
       "      <th>estimated_salary</th>\n",
       "      <td>0.128270</td>\n",
       "    </tr>\n",
       "    <tr>\n",
       "      <th>country</th>\n",
       "      <td>0.084351</td>\n",
       "    </tr>\n",
       "    <tr>\n",
       "      <th>credit_rating</th>\n",
       "      <td>0.070725</td>\n",
       "    </tr>\n",
       "    <tr>\n",
       "      <th>is_active</th>\n",
       "      <td>0.049218</td>\n",
       "    </tr>\n",
       "    <tr>\n",
       "      <th>age</th>\n",
       "      <td>0.042178</td>\n",
       "    </tr>\n",
       "    <tr>\n",
       "      <th>gender</th>\n",
       "      <td>0.033991</td>\n",
       "    </tr>\n",
       "    <tr>\n",
       "      <th>tenure</th>\n",
       "      <td>0.009436</td>\n",
       "    </tr>\n",
       "    <tr>\n",
       "      <th>credit_card</th>\n",
       "      <td>0.001028</td>\n",
       "    </tr>\n",
       "  </tbody>\n",
       "</table>\n",
       "</div>"
      ],
      "text/plain": [
       "                  importance\n",
       "number_products     0.380903\n",
       "balance             0.199899\n",
       "estimated_salary    0.128270\n",
       "country             0.084351\n",
       "credit_rating       0.070725\n",
       "is_active           0.049218\n",
       "age                 0.042178\n",
       "gender              0.033991\n",
       "tenure              0.009436\n",
       "credit_card         0.001028"
      ]
     },
     "execution_count": 54,
     "metadata": {},
     "output_type": "execute_result"
    }
   ],
   "source": [
    "import pandas as pd\n",
    "feature_importances=pd.DataFrame(gbm.feature_importances_,\n",
    "                                 index=x_train.columns,\n",
    "                                 columns=['importance']).sort_values('importance',ascending=False)\n",
    "feature_importances"
   ]
  },
  {
   "cell_type": "code",
   "execution_count": 55,
   "id": "1a51e47e",
   "metadata": {},
   "outputs": [
    {
     "name": "stdout",
     "output_type": "stream",
     "text": [
      "Best Parameters using grid search: \n",
      " {'max_depth': 3, 'min_samples_split': 200}\n"
     ]
    }
   ],
   "source": [
    "np.random.seed(44)\n",
    "from sklearn.model_selection import GridSearchCV\n",
    "param_dist = {'max_depth': [3, 5, 6, 7], 'min_samples_split': [50, 100, 150, 200, 250] }\n",
    "gbm_grid = GridSearchCV(gbm, cv = 10, param_grid=param_dist,n_jobs = 3)\n",
    "gbm_grid.fit(x_train,y_train) \n",
    "print('Best Parameters using grid search: \\n', gbm_grid.best_params_)"
   ]
  },
  {
   "cell_type": "code",
   "execution_count": 56,
   "id": "bdf6eb3a",
   "metadata": {},
   "outputs": [
    {
     "name": "stdout",
     "output_type": "stream",
     "text": [
      "Train Result:\n",
      "================================================\n",
      "Accuracy Score: 83.82%\n",
      "_______________________________________________\n",
      "CLASSIFICATION REPORT:\n",
      "                     0           1  accuracy    macro avg  weighted avg\n",
      "precision     0.840580    0.809028  0.838235     0.824804      0.834027\n",
      "recall        0.982091    0.289441  0.838235     0.635766      0.838235\n",
      "f1-score      0.905842    0.426349  0.838235     0.666096      0.806257\n",
      "support    3071.000000  805.000000  0.838235  3876.000000   3876.000000\n",
      "_______________________________________________\n",
      "Confusion Matrix: \n",
      " [[3016   55]\n",
      " [ 572  233]]\n",
      "\n",
      "Test Result:\n",
      "================================================\n",
      "Accuracy Score: 83.09%\n",
      "_______________________________________________\n",
      "CLASSIFICATION REPORT:\n",
      "                    0           1  accuracy   macro avg  weighted avg\n",
      "precision    0.837958    0.739130  0.830928    0.788544      0.817887\n",
      "recall       0.976714    0.258883  0.830928    0.617799      0.830928\n",
      "f1-score     0.902031    0.383459  0.830928    0.642745      0.796713\n",
      "support    773.000000  197.000000  0.830928  970.000000    970.000000\n",
      "_______________________________________________\n",
      "Confusion Matrix: \n",
      " [[755  18]\n",
      " [146  51]]\n",
      "\n"
     ]
    }
   ],
   "source": [
    "# Building a Gradient Boosting Model\n",
    "from sklearn.ensemble import GradientBoostingClassifier\n",
    "gbm_cv=GradientBoostingClassifier(criterion='mse',random_state=0,max_depth=3,min_samples_split=250,)\n",
    "gbm_cv.fit(x_train,y_train)\n",
    "print_score(gbm_cv, x_train, y_train, x_test, y_test, train=True)\n",
    "print_score(gbm_cv, x_train, y_train, x_test, y_test, train=False)"
   ]
  }
 ],
 "metadata": {
  "kernelspec": {
   "display_name": "Python 3 (ipykernel)",
   "language": "python",
   "name": "python3"
  },
  "language_info": {
   "codemirror_mode": {
    "name": "ipython",
    "version": 3
   },
   "file_extension": ".py",
   "mimetype": "text/x-python",
   "name": "python",
   "nbconvert_exporter": "python",
   "pygments_lexer": "ipython3",
   "version": "3.9.7"
  }
 },
 "nbformat": 4,
 "nbformat_minor": 5
}
