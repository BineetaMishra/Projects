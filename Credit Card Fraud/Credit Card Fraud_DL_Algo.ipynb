{
 "cells": [
  {
   "cell_type": "markdown",
   "metadata": {},
   "source": [
    "# CREDIT CARD FRAUD DETECTION\n",
    "\n",
    "<strong> Problem Statement </strong>\n",
    "In this project we want to identify fraudulent transactions with Credit Cards. Our objective is to build a Fraud detection system using Machine learning techniques. In the past, such systems were rule-based. Machine learning offers powerful new ways.\n",
    "\n",
    "The project uses a dataset of 300,000 fully anonymized transactions. Each transation is labelled either fraudulent or not fraudulent. Note that prevalence of fraudulent transactions is very low in the dataset. Less than 0.1% of the card transactions are fraudulent. This means that a system predicting each transaction to be normal can reach an accuracy of over 99.9% despite not detecting any fraudulent transaction. This will necessitate adjustment techniques.\n",
    "\n",
    "It is a CSV file, contains 31 features, the last feature is used to classify the transaction whether it is a fraud or not.\n",
    "\n",
    "<b>Case Study:</b>\n",
    "\n",
    "<b> Business Problem:</b> Build a classifier that give a new transaction can say whether fraudulent or not with confidence.<br>\n",
    "<b> Outcome: </b>\n",
    "0:Non-Fradulent <br>\n",
    "1:Fradulent"
   ]
  },
  {
   "cell_type": "code",
   "execution_count": 1,
   "metadata": {},
   "outputs": [],
   "source": [
    "import pandas as pd"
   ]
  },
  {
   "cell_type": "code",
   "execution_count": 2,
   "metadata": {},
   "outputs": [],
   "source": [
    "df = pd.read_csv('creditcard.csv')"
   ]
  },
  {
   "cell_type": "code",
   "execution_count": 3,
   "metadata": {},
   "outputs": [
    {
     "data": {
      "text/plain": [
       "Index(['Time', 'V1', 'V2', 'V3', 'V4', 'V5', 'V6', 'V7', 'V8', 'V9', 'V10',\n",
       "       'V11', 'V12', 'V13', 'V14', 'V15', 'V16', 'V17', 'V18', 'V19', 'V20',\n",
       "       'V21', 'V22', 'V23', 'V24', 'V25', 'V26', 'V27', 'V28', 'Amount',\n",
       "       'Class'],\n",
       "      dtype='object')"
      ]
     },
     "execution_count": 3,
     "metadata": {},
     "output_type": "execute_result"
    }
   ],
   "source": [
    "df.columns"
   ]
  },
  {
   "cell_type": "code",
   "execution_count": null,
   "metadata": {},
   "outputs": [],
   "source": [
    "<strong>COLUMN DETAILS</strong>\n",
    "<b>1.Time </b>----> <br>\n",
    "<b>2.V1 </b>----> <br>\n",
    "<b>3.V2 </b>----> <br>\n",
    "<b>4.V3 </b>----> <br>\n",
    "<b>5.V4 </b>----> <br>\n",
    "<b>6.V5 </b>----> <br>\n",
    "<b>7.V6 </b>----> <br>\n",
    "<b>8.V7 </b>----> <br>\n",
    "<b>9.V8 </b>----> <br>\n",
    "<b>10.V9 </b>----> <br>\n",
    "<b>11.V10 </b>----> <br>\n",
    "<b>12.V11 </b>----> <br>\n",
    "<b>13.V12 </b>----> <br>\n",
    "<b>14.V13 </b>----> <br>\n",
    "<b>15.V14 </b>----> <br>\n",
    "<b>16.V15 </b>----> <br>\n",
    "<b>17.V16 </b>----> <br>\n",
    "<b>18.V17 </b>----> <br>\n",
    "<b>19.V18 </b>----> <br>\n",
    "<b>20.V19 </b>----> <br>\n",
    "<b>21.V20 </b>----> <br>\n",
    "<b>22.V21 </b>----> <br>\n",
    "<b>23.V22 </b>----> <br>\n",
    "<b>24.V23 </b>----> <br>\n",
    "<b>25.V24 </b>----> <br>\n",
    "<b>26.V25 </b>----> <br>\n",
    "<b>27.V26 </b>----> <br>\n",
    "<b>28.V27 </b>----> <br>\n",
    "<b>29.V28 </b>----> <br>\n",
    "<b>30.Amount </b>----> <br>\n",
    "<b>31.Class </b>---->"
   ]
  }
 ],
 "metadata": {
  "kernelspec": {
   "display_name": "Python 3",
   "language": "python",
   "name": "python3"
  },
  "language_info": {
   "codemirror_mode": {
    "name": "ipython",
    "version": 3
   },
   "file_extension": ".py",
   "mimetype": "text/x-python",
   "name": "python",
   "nbconvert_exporter": "python",
   "pygments_lexer": "ipython3",
   "version": "3.7.6"
  }
 },
 "nbformat": 4,
 "nbformat_minor": 4
}
