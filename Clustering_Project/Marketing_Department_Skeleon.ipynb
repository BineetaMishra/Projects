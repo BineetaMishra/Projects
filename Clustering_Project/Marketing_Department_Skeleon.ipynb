{
 "cells": [
  {
   "cell_type": "markdown",
   "metadata": {
    "id": "M27qF7CTrBqc"
   },
   "source": [
    "# TASK #1: UNDERSTAND THE PROBLEM STATEMENT AND BUSINESS CASE"
   ]
  },
  {
   "cell_type": "markdown",
   "metadata": {
    "id": "Z2ZMlH-gtOxf"
   },
   "source": [
    "\n",
    "<table>\n",
    "  <tr><td>\n",
    "    <img src=\"https://drive.google.com/uc?id=1OjWCpwRHlCSNYaJoUUd2QGryT9CoQJ5e\"\n",
    "         alt=\"Fashion MNIST sprite\"  width=\"1000\">\n",
    "  </td></tr>\n",
    "  <tr><td align=\"center\">\n",
    "    <b>Figure 1. Customers Segmentation\n",
    "  </td></tr>\n",
    "</table>\n"
   ]
  },
  {
   "cell_type": "markdown",
   "metadata": {
    "id": "yz94HFrMh28F"
   },
   "source": [
    "![alt text](https://drive.google.com/uc?id=1Q43AkxxDy4g-zl5lIX4_PBJtTguh4Ise)"
   ]
  },
  {
   "cell_type": "markdown",
   "metadata": {
    "id": "O3vkL3mvlEh3"
   },
   "source": [
    "![alt text](https://drive.google.com/uc?id=1uS6vsccMt3koetsp3k9cAIfbpJw7Z1J8)"
   ]
  },
  {
   "cell_type": "markdown",
   "metadata": {
    "id": "vWfXjUMslMbQ"
   },
   "source": [
    "![alt text](https://drive.google.com/uc?id=1r1FjdO8duujUoI904Oy4vbza6KktxSXo)"
   ]
  },
  {
   "cell_type": "markdown",
   "metadata": {
    "id": "j6EjJbb0lT10"
   },
   "source": [
    "![alt text](https://drive.google.com/uc?id=1vMr3ouoZ6Pc1mba1mBm2eovlJ3tfE6JA)"
   ]
  },
  {
   "cell_type": "markdown",
   "metadata": {
    "id": "LoahpVBUldg5"
   },
   "source": [
    "![alt text](https://drive.google.com/uc?id=1VvqzWWY8wFGeP4cl-rVtWVOg1P6saHfZ)"
   ]
  },
  {
   "cell_type": "markdown",
   "metadata": {
    "id": "BN1kxUYplkYJ"
   },
   "source": [
    "![alt text](https://drive.google.com/uc?id=1LpdL0-4E9lbc4s-x6eJ5zkyIVw_OpHuJ)"
   ]
  },
  {
   "cell_type": "markdown",
   "metadata": {
    "id": "G6tcZoAqIBS4"
   },
   "source": [
    "Data Source: https://www.kaggle.com/arjunbhasin2013/ccdata"
   ]
  },
  {
   "cell_type": "markdown",
   "metadata": {
    "id": "zKmFmyaGunc7"
   },
   "source": [
    "# TASK #2: IMPORT LIBRARIES AND DATASETS"
   ]
  },
  {
   "cell_type": "code",
   "execution_count": null,
   "metadata": {
    "id": "S0Cx3743urFY"
   },
   "outputs": [],
   "source": [
    "import pandas as pd\n",
    "import numpy as np\n",
    "import seaborn as sns\n",
    "import matplotlib.pyplot as plt\n",
    "from sklearn.preprocessing import StandardScaler, normalize\n",
    "from sklearn.cluster import KMeans\n",
    "from sklearn.decomposition import PCA\n"
   ]
  },
  {
   "cell_type": "code",
   "execution_count": null,
   "metadata": {
    "colab": {
     "base_uri": "https://localhost:8080/",
     "height": 35
    },
    "id": "5P_ciLXawMZg",
    "outputId": "e322edae-c207-4e27-dfe9-d7b852e1259b"
   },
   "outputs": [],
   "source": [
    "# You will need to mount your drive using the following commands:\n",
    "# For more information regarding mounting, please check this out: https://stackoverflow.com/questions/46986398/import-data-into-google-colaboratory\n",
    "\n",
    "from google.colab import drive\n",
    "drive.mount('/content/drive')"
   ]
  },
  {
   "cell_type": "code",
   "execution_count": null,
   "metadata": {
    "id": "tjIiJdM4u1IE"
   },
   "outputs": [],
   "source": [
    "# You have to include the full link to the csv file containing your dataset\n",
    "\n",
    "# CUSTID: Identification of Credit Card holder \n",
    "# BALANCE: Balance amount left in customer's account to make purchases\n",
    "# BALANCE_FREQUENCY: How frequently the Balance is updated, score between 0 and 1 (1 = frequently updated, 0 = not frequently updated)\n",
    "# PURCHASES: Amount of purchases made from account\n",
    "# ONEOFFPURCHASES: Maximum purchase amount done in one-go\n",
    "# INSTALLMENTS_PURCHASES: Amount of purchase done in installment\n",
    "# CASH_ADVANCE: Cash in advance given by the user\n",
    "# PURCHASES_FREQUENCY: How frequently the Purchases are being made, score between 0 and 1 (1 = frequently purchased, 0 = not frequently purchased)\n",
    "# ONEOFF_PURCHASES_FREQUENCY: How frequently Purchases are happening in one-go (1 = frequently purchased, 0 = not frequently purchased)\n",
    "# PURCHASES_INSTALLMENTS_FREQUENCY: How frequently purchases in installments are being done (1 = frequently done, 0 = not frequently done)\n",
    "# CASH_ADVANCE_FREQUENCY: How frequently the cash in advance being paid\n",
    "# CASH_ADVANCE_TRX: Number of Transactions made with \"Cash in Advance\"\n",
    "# PURCHASES_TRX: Number of purchase transactions made\n",
    "# CREDIT_LIMIT: Limit of Credit Card for user\n",
    "# PAYMENTS: Amount of Payment done by user\n",
    "# MINIMUM_PAYMENTS: Minimum amount of payments made by user  \n",
    "# PRC_FULL_PAYMENT: Percent of full payment paid by user\n",
    "# TENURE: Tenure of credit card service for user"
   ]
  },
  {
   "cell_type": "code",
   "execution_count": null,
   "metadata": {
    "colab": {
     "base_uri": "https://localhost:8080/",
     "height": 308
    },
    "id": "s0E9xPLdx2Ok",
    "outputId": "ca7cb6d4-d8e5-42ed-a483-9856628189ce"
   },
   "outputs": [],
   "source": [
    "# Mean balance is $1564 \n",
    "# Balance frequency is frequently updated on average ~0.9\n",
    "# Purchases average is $1000\n",
    "# one off purchase average is ~$600\n",
    "# Average purchases frequency is around 0.5\n",
    "# average ONEOFF_PURCHASES_FREQUENCY, PURCHASES_INSTALLMENTS_FREQUENCY, and CASH_ADVANCE_FREQUENCY are generally low\n",
    "# Average credit limit ~ 4500\n",
    "# Percent of full payment is 15%\n",
    "# Average tenure is 11 years"
   ]
  },
  {
   "cell_type": "code",
   "execution_count": null,
   "metadata": {
    "colab": {
     "base_uri": "https://localhost:8080/",
     "height": 98
    },
    "id": "MA5bKvr7KxI8",
    "outputId": "f37fa0de-d92b-498f-856a-63c5a65d9170"
   },
   "outputs": [],
   "source": [
    "# Let's see who made one off purchase of $40761!\n"
   ]
  },
  {
   "cell_type": "code",
   "execution_count": null,
   "metadata": {
    "colab": {
     "base_uri": "https://localhost:8080/",
     "height": 35
    },
    "id": "RBiutRGLL9HH",
    "outputId": "5b604973-8b96-49e8-b8d2-dfbc7e0e2c14"
   },
   "outputs": [],
   "source": []
  },
  {
   "cell_type": "code",
   "execution_count": null,
   "metadata": {
    "colab": {
     "base_uri": "https://localhost:8080/",
     "height": 98
    },
    "id": "FAIfPnCLLnjw",
    "outputId": "d82ac887-4443-41f7-dce0-39fa3a4a5894"
   },
   "outputs": [],
   "source": [
    "# Let's see who made cash advance of $47137!\n",
    "# This customer made 123 cash advance transactions!!\n",
    "# Never paid credit card in full\n",
    "\n"
   ]
  },
  {
   "cell_type": "markdown",
   "metadata": {
    "id": "LlszUhNNyrl_"
   },
   "source": [
    "# TASK #3: VISUALIZE AND EXPLORE DATASET"
   ]
  },
  {
   "cell_type": "code",
   "execution_count": null,
   "metadata": {
    "colab": {
     "base_uri": "https://localhost:8080/",
     "height": 478
    },
    "id": "ICj3NLbqqmve",
    "outputId": "7db55ecc-738d-4b3d-9c1f-ef02f63f840c"
   },
   "outputs": [],
   "source": [
    "# Let's see if we have any missing data, luckily we don't!\n"
   ]
  },
  {
   "cell_type": "code",
   "execution_count": null,
   "metadata": {
    "colab": {
     "base_uri": "https://localhost:8080/",
     "height": 363
    },
    "id": "70XopgWwMmHG",
    "outputId": "ba802af0-ce0d-4760-a691-f7fed3c16a9d"
   },
   "outputs": [],
   "source": []
  },
  {
   "cell_type": "code",
   "execution_count": null,
   "metadata": {
    "id": "wboxbIPwT7Wi"
   },
   "outputs": [],
   "source": [
    "# Fill up the missing elements with mean of the 'MINIMUM_PAYMENT' \n"
   ]
  },
  {
   "cell_type": "code",
   "execution_count": null,
   "metadata": {
    "id": "ciOq-cYxMw8P"
   },
   "outputs": [],
   "source": [
    "# Fill up the missing elements with mean of the 'CREDIT_LIMIT' \n"
   ]
  },
  {
   "cell_type": "code",
   "execution_count": null,
   "metadata": {
    "colab": {
     "base_uri": "https://localhost:8080/",
     "height": 478
    },
    "id": "H-c9kqOSUU1t",
    "outputId": "bb072e83-00c0-40b1-e6fb-9b1b62d47771"
   },
   "outputs": [],
   "source": []
  },
  {
   "cell_type": "code",
   "execution_count": null,
   "metadata": {
    "colab": {
     "base_uri": "https://localhost:8080/",
     "height": 35
    },
    "id": "zFIXGFrucdCl",
    "outputId": "89f22519-6e04-4a95-e4d8-183d6ed67d7d"
   },
   "outputs": [],
   "source": [
    "# Let's see if we have duplicated entries in the data\n"
   ]
  },
  {
   "cell_type": "code",
   "execution_count": null,
   "metadata": {
    "id": "onSLJRBtcohW"
   },
   "outputs": [],
   "source": [
    "# Let's drop Customer ID since it has no meaning here \n"
   ]
  },
  {
   "cell_type": "code",
   "execution_count": null,
   "metadata": {
    "colab": {
     "base_uri": "https://localhost:8080/",
     "height": 218
    },
    "id": "PSzpvJgWcxnu",
    "outputId": "3666d1cf-3644-4732-f26b-923ff893889c"
   },
   "outputs": [],
   "source": []
  },
  {
   "cell_type": "code",
   "execution_count": null,
   "metadata": {
    "colab": {
     "base_uri": "https://localhost:8080/",
     "height": 35
    },
    "id": "QIw-jGI9NOCg",
    "outputId": "0d1b2a7f-edbb-44bc-c346-134b5d46bf60"
   },
   "outputs": [],
   "source": []
  },
  {
   "cell_type": "code",
   "execution_count": null,
   "metadata": {
    "colab": {
     "base_uri": "https://localhost:8080/",
     "height": 145
    },
    "id": "fIOb3930ONKS",
    "outputId": "2acfc29e-7bb3-4454-cbbf-4a318dd50299"
   },
   "outputs": [],
   "source": []
  },
  {
   "cell_type": "code",
   "execution_count": null,
   "metadata": {
    "colab": {
     "base_uri": "https://localhost:8080/",
     "height": 1000
    },
    "id": "rFmjikf6ONgu",
    "outputId": "2213ff5a-9b6a-4949-edf4-d43f5a56fe86"
   },
   "outputs": [],
   "source": [
    "# distplot combines the matplotlib.hist function with seaborn kdeplot()\n",
    "# KDE Plot represents the Kernel Density Estimate\n",
    "# KDE is used for visualizing the Probability Density of a continuous variable. \n",
    "# KDE demonstrates the probability density at different values in a continuous variable. \n",
    "\n",
    "# Mean of balance is $1500\n",
    "# 'Balance_Frequency' for most customers is updated frequently ~1\n",
    "# For 'PURCHASES_FREQUENCY', there are two distinct group of customers\n",
    "# For 'ONEOFF_PURCHASES_FREQUENCY' and 'PURCHASES_INSTALLMENT_FREQUENCY' most users don't do one off puchases or installment purchases frequently \n",
    "# Very small number of customers pay their balance in full 'PRC_FULL_PAYMENT'~0\n",
    "# Credit limit average is around $4500\n",
    "# Most customers are ~11 years tenure\n"
   ]
  },
  {
   "cell_type": "code",
   "execution_count": null,
   "metadata": {
    "id": "bnGS8pC1UsN9"
   },
   "outputs": [],
   "source": [
    "# sns.pairplot(creditcard_df)\n",
    "# Correlation between 'PURCHASES' and ONEOFF_PURCHASES & INSTALMENT_PURCHASES \n",
    "# Trend between 'PURCHASES' and 'CREDIT_LIMIT' & 'PAYMENTS'\n"
   ]
  },
  {
   "cell_type": "code",
   "execution_count": null,
   "metadata": {
    "id": "c6UiAqTkKD85"
   },
   "outputs": [],
   "source": []
  },
  {
   "cell_type": "code",
   "execution_count": null,
   "metadata": {
    "colab": {
     "base_uri": "https://localhost:8080/",
     "height": 1000
    },
    "id": "zBy4m89a08Sj",
    "outputId": "9f43058c-24a7-4f0c-d701-00b215216fd6"
   },
   "outputs": [],
   "source": [
    "\n",
    "# 'PURCHASES' have high correlation between one-off purchases, 'installment purchases, purchase transactions, credit limit and payments. \n",
    "# Strong Positive Correlation between 'PURCHASES_FREQUENCY' and 'PURCHASES_INSTALLMENT_FREQUENCY'\n"
   ]
  },
  {
   "cell_type": "markdown",
   "metadata": {
    "id": "QRSLmofOqJ2X"
   },
   "source": [
    "# TASK #4: UNDERSTAND THE THEORY AND INTUITON BEHIND K-MEANS"
   ]
  },
  {
   "cell_type": "markdown",
   "metadata": {
    "id": "Snz86eQfl4Ma"
   },
   "source": [
    "![alt text](https://drive.google.com/uc?id=1EBCmP06GuRjVfPgTfH85Yhv9xIAZUj-K)"
   ]
  },
  {
   "cell_type": "markdown",
   "metadata": {
    "id": "DwExHI2Ml9Cu"
   },
   "source": [
    "![alt text](https://drive.google.com/uc?id=1EYWyoec9Be9pYkOaJTjPooTPWgRlJ_Xz)"
   ]
  },
  {
   "cell_type": "markdown",
   "metadata": {
    "id": "0QemFDm2mEZT"
   },
   "source": [
    "![alt text](https://drive.google.com/uc?id=1ppL-slQPatrmHbPBEaT3-8xNH01ckoNE)"
   ]
  },
  {
   "cell_type": "markdown",
   "metadata": {
    "id": "oXKwrdX6mK2b"
   },
   "source": [
    "![alt text](https://drive.google.com/uc?id=1Yfi-dpWW3keU5RLgwAT4YmQ2rfY1GxUh)"
   ]
  },
  {
   "cell_type": "markdown",
   "metadata": {
    "id": "BT4AbAyumQYZ"
   },
   "source": [
    "![alt text](https://drive.google.com/uc?id=1bLRDIZRda0NSTAdcbugasIjDjvgw4JIU)"
   ]
  },
  {
   "cell_type": "markdown",
   "metadata": {
    "id": "ZDFDdbvSmZf3"
   },
   "source": [
    "![alt text](https://drive.google.com/uc?id=1rBQziDU0pS1Fz0m8VQRjQuBoGFSX1Spb)"
   ]
  },
  {
   "cell_type": "markdown",
   "metadata": {
    "id": "fB7IVr8rmdG0"
   },
   "source": [
    "![alt text](https://drive.google.com/uc?id=1BOX2q8R_8E4Icb4v1tpn1eymCTJY2b5o)"
   ]
  },
  {
   "cell_type": "markdown",
   "metadata": {
    "id": "mUfUdppimibu"
   },
   "source": [
    "![alt text](https://drive.google.com/uc?id=1v7hJEPiigSeTTaYo0djbO-L4uEnTpcAU)"
   ]
  },
  {
   "cell_type": "markdown",
   "metadata": {
    "id": "Y0GmpAjG3GiH"
   },
   "source": [
    "# TASK #5: FIND THE OPTIMAL NUMBER OF CLUSTERS USING ELBOW METHOD"
   ]
  },
  {
   "cell_type": "code",
   "execution_count": null,
   "metadata": {
    "id": "axr926Btjyux"
   },
   "outputs": [],
   "source": [
    "# Let's scale the data first\n"
   ]
  },
  {
   "cell_type": "code",
   "execution_count": null,
   "metadata": {
    "colab": {
     "base_uri": "https://localhost:8080/",
     "height": 35
    },
    "id": "9CJeasg4kHyP",
    "outputId": "993d4310-d6cb-4dec-8b3a-1a1ffd56577e"
   },
   "outputs": [],
   "source": []
  },
  {
   "cell_type": "code",
   "execution_count": null,
   "metadata": {
    "colab": {
     "base_uri": "https://localhost:8080/",
     "height": 254
    },
    "id": "FK5ggiVPsJE9",
    "outputId": "766300b7-7916-4343-d277-d88fcfba357e"
   },
   "outputs": [],
   "source": []
  },
  {
   "cell_type": "code",
   "execution_count": null,
   "metadata": {
    "colab": {
     "base_uri": "https://localhost:8080/",
     "height": 295
    },
    "id": "1_nb-D8H3cK-",
    "outputId": "fb1cb9d3-c2a2-40df-f659-b84860fe3b59"
   },
   "outputs": [],
   "source": [
    "\n",
    "# From this we can observe that, 4th cluster seems to be forming the elbow of the curve. \n",
    "# However, the values does not reduce linearly until 8th cluster. \n",
    "# Let's choose the number of clusters to be 7."
   ]
  },
  {
   "cell_type": "markdown",
   "metadata": {
    "id": "m_jo7mJ4C8R9"
   },
   "source": [
    "# TASK #6: APPLY K-MEANS METHOD"
   ]
  },
  {
   "cell_type": "code",
   "execution_count": null,
   "metadata": {
    "id": "qwzY8rj0uV-a"
   },
   "outputs": [],
   "source": []
  },
  {
   "cell_type": "code",
   "execution_count": null,
   "metadata": {
    "colab": {
     "base_uri": "https://localhost:8080/",
     "height": 35
    },
    "id": "dShNNvg09zH3",
    "outputId": "ad53824c-1563-480d-cfa2-68d6f0a8daa8"
   },
   "outputs": [],
   "source": []
  },
  {
   "cell_type": "code",
   "execution_count": null,
   "metadata": {
    "colab": {
     "base_uri": "https://localhost:8080/",
     "height": 308
    },
    "id": "VEiPOUJv9iFK",
    "outputId": "0a7ae1dd-ae44-4828-c66f-81674b922b3b"
   },
   "outputs": [],
   "source": [
    "         "
   ]
  },
  {
   "cell_type": "code",
   "execution_count": null,
   "metadata": {
    "colab": {
     "base_uri": "https://localhost:8080/",
     "height": 308
    },
    "id": "9ogiZbsGBBl8",
    "outputId": "86905206-189c-4aac-f133-d2a418affc55"
   },
   "outputs": [],
   "source": [
    "# In order to understand what these numbers mean, let's perform inverse transformation\n",
    "\n",
    "\n",
    "# First Customers cluster (Transactors): Those are customers who pay least amount of intrerest charges and careful with their money, Cluster with lowest balance ($104) and cash advance ($303), Percentage of full payment = 23%\n",
    "# Second customers cluster (revolvers) who use credit card as a loan (most lucrative sector): highest balance ($5000) and cash advance (~$5000), low purchase frequency, high cash advance frequency (0.5), high cash advance transactions (16) and low percentage of full payment (3%)\n",
    "# Third customer cluster (VIP/Prime): high credit limit $16K and highest percentage of full payment, target for increase credit limit and increase spending habits\n",
    "# Fourth customer cluster (low tenure): these are customers with low tenure (7 years), low balance \n"
   ]
  },
  {
   "cell_type": "code",
   "execution_count": null,
   "metadata": {
    "colab": {
     "base_uri": "https://localhost:8080/",
     "height": 35
    },
    "id": "kCuHRqBIusm7",
    "outputId": "75ac5845-a674-456c-c186-28a6d205b5fa"
   },
   "outputs": [],
   "source": []
  },
  {
   "cell_type": "code",
   "execution_count": null,
   "metadata": {
    "colab": {
     "base_uri": "https://localhost:8080/",
     "height": 35
    },
    "id": "Ywcls4cvu2lh",
    "outputId": "119a4986-5a2d-4cb1-89cf-5f9feed0ae5d"
   },
   "outputs": [],
   "source": []
  },
  {
   "cell_type": "code",
   "execution_count": null,
   "metadata": {
    "colab": {
     "base_uri": "https://localhost:8080/",
     "height": 35
    },
    "id": "NPQIMB7Fu9f3",
    "outputId": "f87706d9-b159-4acf-c277-31ec06feb0dc"
   },
   "outputs": [],
   "source": []
  },
  {
   "cell_type": "code",
   "execution_count": null,
   "metadata": {
    "colab": {
     "base_uri": "https://localhost:8080/",
     "height": 35
    },
    "id": "kgLSvv-6vHSs",
    "outputId": "6a8459ff-bb4f-4e6d-e922-4474885b56e2"
   },
   "outputs": [],
   "source": []
  },
  {
   "cell_type": "code",
   "execution_count": null,
   "metadata": {
    "colab": {
     "base_uri": "https://localhost:8080/",
     "height": 218
    },
    "id": "OfMaZqUOqdJB",
    "outputId": "02d3d94f-af82-4acc-f594-3fcef3717d50"
   },
   "outputs": [],
   "source": [
    "# concatenate the clusters labels to our original dataframe\n",
    "\n",
    "\n"
   ]
  },
  {
   "cell_type": "code",
   "execution_count": null,
   "metadata": {
    "colab": {
     "base_uri": "https://localhost:8080/",
     "height": 1000
    },
    "id": "TYEhR6rvqwda",
    "outputId": "4b579090-42a0-4c8a-cf84-7efb6192a7e1"
   },
   "outputs": [],
   "source": [
    "# Plot the histogram of various clusters\n"
   ]
  },
  {
   "cell_type": "markdown",
   "metadata": {
    "id": "UVTd7FYLNCAE"
   },
   "source": [
    "# TASK 7: APPLY PRINCIPAL COMPONENT ANALYSIS AND VISUALIZE THE RESULTS"
   ]
  },
  {
   "cell_type": "markdown",
   "metadata": {
    "id": "FXUfg8Camz1s"
   },
   "source": [
    "![alt text](https://drive.google.com/uc?id=1xDuvEnbuNqIjX5Zng39TCfGCf-BBDGf0)"
   ]
  },
  {
   "cell_type": "code",
   "execution_count": null,
   "metadata": {
    "colab": {
     "base_uri": "https://localhost:8080/",
     "height": 145
    },
    "id": "RgFq3h993cIz",
    "outputId": "958d6d2a-ed63-4f10-c4f1-c9a0dfcea829"
   },
   "outputs": [],
   "source": [
    "# Obtain the principal components \n"
   ]
  },
  {
   "cell_type": "code",
   "execution_count": null,
   "metadata": {
    "colab": {
     "base_uri": "https://localhost:8080/",
     "height": 198
    },
    "id": "ad3UQtPU0eHK",
    "outputId": "6dfab91d-2d54-40f2-9f14-0d66beb50251"
   },
   "outputs": [],
   "source": [
    "# Create a dataframe with the two components\n"
   ]
  },
  {
   "cell_type": "code",
   "execution_count": null,
   "metadata": {
    "colab": {
     "base_uri": "https://localhost:8080/",
     "height": 198
    },
    "id": "q7gsGkEZvkYd",
    "outputId": "93aaaa3d-e020-4cd8-ddc0-32c37734df6e"
   },
   "outputs": [],
   "source": [
    "# Concatenate the clusters labels to the dataframe\n"
   ]
  },
  {
   "cell_type": "code",
   "execution_count": null,
   "metadata": {
    "colab": {
     "base_uri": "https://localhost:8080/",
     "height": 606
    },
    "id": "4KYt5SUrvneq",
    "outputId": "8325d4ff-2d51-41b5-b77a-e3571db9463b"
   },
   "outputs": [],
   "source": []
  },
  {
   "cell_type": "markdown",
   "metadata": {
    "id": "7ZSYI8qmCplx"
   },
   "source": [
    "# TASK #8: UNDERSTAND THE THEORY AND INTUITION BEHIND AUTOENCODERS"
   ]
  },
  {
   "cell_type": "markdown",
   "metadata": {
    "id": "HtQekkAFm8-d"
   },
   "source": [
    "![alt text](https://drive.google.com/uc?id=1g0tWKogvKaCrtsfzjApi6m8yGD3boy4x)"
   ]
  },
  {
   "cell_type": "markdown",
   "metadata": {
    "id": "oABWvrTRm9Ey"
   },
   "source": [
    "![alt text](https://drive.google.com/uc?id=1AcyUL_F9zAD2--Hmyq9yTkcA9mC6-bwg)"
   ]
  },
  {
   "cell_type": "markdown",
   "metadata": {
    "id": "VXQ_Rqdzm9S5"
   },
   "source": [
    "![alt text](https://drive.google.com/uc?id=1xk1D5uldId0DWywRJ3-OAVBcIr5NGCq_)"
   ]
  },
  {
   "cell_type": "markdown",
   "metadata": {
    "id": "-wRQqOeB5Zh5"
   },
   "source": [
    "# TASK #9: APPLY AUTOENCODERS (PERFORM DIMENSIONALITY REDUCTION USING AUTOENCODERS)"
   ]
  },
  {
   "cell_type": "code",
   "execution_count": null,
   "metadata": {
    "id": "LfGAnIVUv44L"
   },
   "outputs": [],
   "source": [
    "\n"
   ]
  },
  {
   "cell_type": "code",
   "execution_count": null,
   "metadata": {
    "colab": {
     "base_uri": "https://localhost:8080/",
     "height": 35
    },
    "id": "L7IYeT6Q05-Q",
    "outputId": "0d3c8975-4c78-468d-e58b-292c1b01d7ce"
   },
   "outputs": [],
   "source": []
  },
  {
   "cell_type": "code",
   "execution_count": null,
   "metadata": {
    "colab": {
     "base_uri": "https://localhost:8080/",
     "height": 945
    },
    "id": "Pd9qA2Chweye",
    "outputId": "a0681c1d-8125-4192-9c74-e0b817e4d770"
   },
   "outputs": [],
   "source": []
  },
  {
   "cell_type": "code",
   "execution_count": null,
   "metadata": {
    "id": "zZ86PPLm1sTn"
   },
   "outputs": [],
   "source": []
  },
  {
   "cell_type": "code",
   "execution_count": null,
   "metadata": {
    "id": "0lL6Wv0e1scz"
   },
   "outputs": [],
   "source": []
  },
  {
   "cell_type": "code",
   "execution_count": null,
   "metadata": {
    "colab": {
     "base_uri": "https://localhost:8080/",
     "height": 35
    },
    "id": "r_iqk31a2G-t",
    "outputId": "9d2ecb6a-54ae-42dc-c53b-95bd3422ff40"
   },
   "outputs": [],
   "source": []
  },
  {
   "cell_type": "code",
   "execution_count": null,
   "metadata": {
    "colab": {
     "base_uri": "https://localhost:8080/",
     "height": 295
    },
    "id": "jnHIsvgn2Omk",
    "outputId": "e4542a0b-d8c4-4f49-d44a-414777ce3095"
   },
   "outputs": [],
   "source": []
  },
  {
   "cell_type": "code",
   "execution_count": null,
   "metadata": {
    "colab": {
     "base_uri": "https://localhost:8080/",
     "height": 283
    },
    "id": "EUvpOCwq48IM",
    "outputId": "ae35f5f2-d4d2-4d9b-a193-a9054ad7c4a3"
   },
   "outputs": [],
   "source": []
  },
  {
   "cell_type": "code",
   "execution_count": null,
   "metadata": {
    "id": "7JhXSa-j32rj"
   },
   "outputs": [],
   "source": []
  },
  {
   "cell_type": "code",
   "execution_count": null,
   "metadata": {
    "colab": {
     "base_uri": "https://localhost:8080/",
     "height": 218
    },
    "id": "utaeIFtD38X-",
    "outputId": "e37f8a06-8de2-4878-daa6-1b6c165bcd9d"
   },
   "outputs": [],
   "source": []
  },
  {
   "cell_type": "code",
   "execution_count": null,
   "metadata": {
    "colab": {
     "base_uri": "https://localhost:8080/",
     "height": 198
    },
    "id": "fhU84OJx4jFb",
    "outputId": "a8c37bee-4c09-4ee9-80b3-4093a17bfe86"
   },
   "outputs": [],
   "source": []
  },
  {
   "cell_type": "code",
   "execution_count": null,
   "metadata": {
    "colab": {
     "base_uri": "https://localhost:8080/",
     "height": 198
    },
    "id": "RlSSorv65kao",
    "outputId": "49e891c6-fe58-4524-bc57-4b125c437492"
   },
   "outputs": [],
   "source": []
  },
  {
   "cell_type": "code",
   "execution_count": null,
   "metadata": {
    "colab": {
     "base_uri": "https://localhost:8080/",
     "height": 606
    },
    "id": "G3aPOnO65ot-",
    "outputId": "88da3957-ae11-4285-b671-7e030d997b4e"
   },
   "outputs": [],
   "source": []
  },
  {
   "cell_type": "markdown",
   "metadata": {
    "id": "27OgYEJu9EFV"
   },
   "source": [
    "# EXCELLENT JOB! YOU SHOULD BE PROUD OF YOUR NEWLY ACQUIRED SKILLS"
   ]
  }
 ],
 "metadata": {
  "colab": {
   "collapsed_sections": [],
   "name": "Marketing Department Skeleton",
   "provenance": []
  },
  "kernelspec": {
   "display_name": "Python 3",
   "language": "python",
   "name": "python3"
  },
  "language_info": {
   "codemirror_mode": {
    "name": "ipython",
    "version": 3
   },
   "file_extension": ".py",
   "mimetype": "text/x-python",
   "name": "python",
   "nbconvert_exporter": "python",
   "pygments_lexer": "ipython3",
   "version": "3.7.6"
  }
 },
 "nbformat": 4,
 "nbformat_minor": 1
}
